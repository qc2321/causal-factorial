{
 "cells": [
  {
   "cell_type": "markdown",
   "metadata": {},
   "source": [
    "## Lasso regression for sparse data"
   ]
  },
  {
   "cell_type": "code",
   "execution_count": 1,
   "metadata": {},
   "outputs": [],
   "source": [
    "%load_ext autoreload\n",
    "%autoreload 2"
   ]
  },
  {
   "cell_type": "code",
   "execution_count": 2,
   "metadata": {},
   "outputs": [],
   "source": [
    "import numpy as np\n",
    "import pandas as pd\n",
    "import seaborn as sns\n",
    "import statsmodels.api as sm\n",
    "import class_FM as FM\n",
    "from sklearn import preprocessing\n",
    "from sklearn.linear_model import Lasso, LassoCV\n",
    "from sklearn.model_selection import train_test_split\n",
    "from sklearn.cluster import KMeans\n",
    "from sklearn.metrics import mean_squared_error\n",
    "import matplotlib.pyplot as plt\n",
    "import math\n",
    "from itertools import combinations"
   ]
  },
  {
   "cell_type": "markdown",
   "metadata": {},
   "source": [
    "### Initialize factorial model and sample dataset for k=3"
   ]
  },
  {
   "cell_type": "code",
   "execution_count": 239,
   "metadata": {},
   "outputs": [],
   "source": [
    "n = 1000\n",
    "k = 3\n",
    "degree = 3\n",
    "sigma = 0.1\n",
    "sparsity = 0.5\n",
    "\n",
    "fm = FM.FactorialModel(\n",
    "    n=n,\n",
    "    k=k,\n",
    "    degree=degree,\n",
    "    sigma=sigma,\n",
    "    sparsity=sparsity,\n",
    "    beta_seed=42,\n",
    ")\n",
    "t, y = fm.sample(seed=0)\n"
   ]
  },
  {
   "cell_type": "markdown",
   "metadata": {},
   "source": [
    "### Fit Lasso regression with cross validation for alpha"
   ]
  },
  {
   "cell_type": "code",
   "execution_count": 240,
   "metadata": {},
   "outputs": [
    {
     "name": "stdout",
     "output_type": "stream",
     "text": [
      "alpha=0.001\n",
      "betas=[ 0.         -0.4637748   0.          0.00316042 -0.86222917 -0.00868506\n",
      "  0.03107935 -0.11330512]\n",
      "Mean Squared Error of y: 0.010163565628389128\n",
      "Mean Squared Error of beta: 0.00020646901975851506\n"
     ]
    }
   ],
   "source": [
    "pf = preprocessing.PolynomialFeatures(\n",
    "    degree=degree, interaction_only=True, include_bias=True,\n",
    ")\n",
    "T = pf.fit_transform(t)\n",
    "T_train, T_test, y_train, y_test = train_test_split(T, y, test_size=0.2, random_state=42)\n",
    "alpha_cv = [0.001, 0.01, 0.1, 0.5]\n",
    "model = LassoCV(alphas=alpha_cv, cv=5, random_state=42)\n",
    "model.fit(T_train, y_train)\n",
    "print(f'alpha={model.alpha_}\\nbetas={model.coef_}')\n",
    "\n",
    "y_pred = model.predict(T_test)\n",
    "mse = mean_squared_error(y_test, y_pred)\n",
    "print(f\"Mean Squared Error of y: {mse}\")\n",
    "\n",
    "beta_actual = fm.beta\n",
    "beta_hat = model.coef_\n",
    "mse_beta = mean_squared_error(beta_actual, beta_hat)\n",
    "print(f\"Mean Squared Error of beta: {mse_beta}\")"
   ]
  },
  {
   "cell_type": "markdown",
   "metadata": {},
   "source": [
    "### Compute expected outcomes as linear combinations of betas"
   ]
  },
  {
   "cell_type": "code",
   "execution_count": 241,
   "metadata": {},
   "outputs": [
    {
     "name": "stdout",
     "output_type": "stream",
     "text": [
      "expected_outcomes=[ 0.   -0.46  0.    0.   -1.33 -0.47  0.03 -1.41]\n"
     ]
    }
   ],
   "source": [
    "betas = model.coef_\n",
    "beta_mask = pf.fit_transform(pf.powers_)\n",
    "expected_outcomes = beta_mask @ betas\n",
    "print(f'expected_outcomes={np.round(expected_outcomes,2)}')"
   ]
  },
  {
   "cell_type": "markdown",
   "metadata": {},
   "source": [
    "### Cluster treatment combinations by expected outcomes"
   ]
  },
  {
   "cell_type": "code",
   "execution_count": 242,
   "metadata": {},
   "outputs": [
    {
     "name": "stdout",
     "output_type": "stream",
     "text": [
      "Max clusters: 1; cluster labels: [0 0 0 0 0 0 0 0]; score: -2.54\n",
      "Max clusters: 2; cluster labels: [1 1 1 1 0 1 1 0]; score: -0.31\n",
      "Max clusters: 3; cluster labels: [1 2 1 1 0 2 1 0]; score: -0.00\n",
      "Max clusters: 4; cluster labels: [1 2 1 1 0 2 1 3]; score: -0.00\n",
      "Max clusters: 5; cluster labels: [1 2 1 1 0 2 4 3]; score: -0.00\n",
      "Max clusters: 6; cluster labels: [1 5 1 1 0 2 4 3]; score: -0.00\n",
      "Max clusters: 7; cluster labels: [6 5 6 1 0 2 4 3]; score: -0.00\n"
     ]
    }
   ],
   "source": [
    "for i in range(1, 2**k):\n",
    "    kmeans = KMeans(n_clusters=i, random_state=0).fit(expected_outcomes.reshape(-1, 1))\n",
    "    score = kmeans.score(expected_outcomes.reshape(-1, 1))\n",
    "    print(f'Max clusters: {i}; cluster labels: {kmeans.labels_}; score: {score:.2f}')"
   ]
  },
  {
   "cell_type": "markdown",
   "metadata": {},
   "source": [
    "### Plot betas and expected outcomes"
   ]
  },
  {
   "cell_type": "code",
   "execution_count": 243,
   "metadata": {},
   "outputs": [
    {
     "data": {
      "image/png": "[encoded data removed]",
      "text/plain": [
       "<Figure size 640x480 with 1 Axes>"
      ]
     },
     "metadata": {},
     "output_type": "display_data"
    }
   ],
   "source": [
    "_ = sns.barplot(\n",
    "    x=[\n",
    "        r\"0\",\n",
    "        r\"$t_1$\",\n",
    "        r\"$t_2$\",\n",
    "        r\"$t_3$\",\n",
    "        r\"$t_1 t_2$\",\n",
    "        r\"$t_1 t_3$\",\n",
    "        r\"$t_2 t_3$\",\n",
    "        r\"$t_1 t_2 t_3$\",\n",
    "    ],\n",
    "    y=betas,\n",
    "    alpha=0.5,\n",
    "    label=r\"$\\beta$\",\n",
    ")\n",
    "\n",
    "_ = sns.barplot(\n",
    "    x=[\n",
    "        r\"0\",\n",
    "        r\"$t_1$\",\n",
    "        r\"$t_2$\",\n",
    "        r\"$t_3$\",\n",
    "        r\"$t_1 t_2$\",\n",
    "        r\"$t_1 t_3$\",\n",
    "        r\"$t_2 t_3$\",\n",
    "        r\"$t_1 t_2 t_3$\",\n",
    "    ],\n",
    "    y=expected_outcomes,\n",
    "    alpha=0.5,\n",
    "    label=r\"E[Y|T]\",\n",
    ")"
   ]
  },
  {
   "cell_type": "markdown",
   "metadata": {},
   "source": [
    "### Factorial model and sample dataset for k=4"
   ]
  },
  {
   "cell_type": "code",
   "execution_count": 244,
   "metadata": {},
   "outputs": [],
   "source": [
    "n = 1000\n",
    "k = 4\n",
    "degree = 4\n",
    "sigma = 0.1\n",
    "sparsity = 0.5\n",
    "\n",
    "fm = FM.FactorialModel(\n",
    "    n=n,\n",
    "    k=k,\n",
    "    degree=degree,\n",
    "    sigma=sigma,\n",
    "    sparsity=sparsity,\n",
    "    beta_seed=42,\n",
    ")\n",
    "t, y = fm.sample(seed=0)"
   ]
  },
  {
   "cell_type": "code",
   "execution_count": 245,
   "metadata": {},
   "outputs": [
    {
     "name": "stdout",
     "output_type": "stream",
     "text": [
      "alpha=0.001\n",
      "betas=[ 0.         -0.543451    0.3862214   0.4831172   0.         -0.01750211\n",
      "  0.06066966 -0.15994355  0.00780474  0.01052252  0.01000153 -0.\n",
      " -0.01050108 -0.          0.18682475 -0.41272694]\n",
      "Mean Squared Error of y: 0.009933492641711969\n",
      "Mean Squared Error of beta: 0.0003990872937720269\n"
     ]
    }
   ],
   "source": [
    "# Fit Lasso regression with cross validation for alpha\n",
    "pf = preprocessing.PolynomialFeatures(\n",
    "    degree=degree, interaction_only=True, include_bias=True,\n",
    ")\n",
    "T = pf.fit_transform(t)\n",
    "T_train, T_test, y_train, y_test = train_test_split(T, y, test_size=0.2, random_state=42)\n",
    "alpha_cv = [0.001, 0.01, 0.1, 0.5]\n",
    "model = LassoCV(alphas=alpha_cv, cv=5, random_state=42)\n",
    "model.fit(T_train, y_train)\n",
    "print(f'alpha={model.alpha_}\\nbetas={model.coef_}')\n",
    "\n",
    "y_pred = model.predict(T_test)\n",
    "mse = mean_squared_error(y_test, y_pred)\n",
    "print(f\"Mean Squared Error of y: {mse}\")\n",
    "\n",
    "beta_actual = fm.beta\n",
    "beta_hat = model.coef_\n",
    "mse_beta = mean_squared_error(beta_actual, beta_hat)\n",
    "print(f\"Mean Squared Error of beta: {mse_beta}\")"
   ]
  },
  {
   "cell_type": "code",
   "execution_count": 246,
   "metadata": {},
   "outputs": [
    {
     "name": "stdout",
     "output_type": "stream",
     "text": [
      "expected_outcomes=[ 0.   -0.54  0.39  0.48  0.   -0.17  0.   -0.7   0.88  0.4   0.49  0.38\n",
      " -0.33 -0.15  1.08  0.  ]\n"
     ]
    }
   ],
   "source": [
    "# Compute expected outcomes as linear combinations of betas\n",
    "betas = model.coef_\n",
    "beta_mask = pf.fit_transform(pf.powers_)\n",
    "expected_outcomes = beta_mask @ betas\n",
    "print(f'expected_outcomes={np.round(expected_outcomes,2)}')"
   ]
  },
  {
   "cell_type": "code",
   "execution_count": 247,
   "metadata": {},
   "outputs": [
    {
     "name": "stdout",
     "output_type": "stream",
     "text": [
      "(16,) (16,)\n"
     ]
    }
   ],
   "source": [
    "print(betas.shape, expected_outcomes.shape)"
   ]
  },
  {
   "cell_type": "code",
   "execution_count": 248,
   "metadata": {},
   "outputs": [
    {
     "name": "stdout",
     "output_type": "stream",
     "text": [
      "Max clusters: 1; cluster labels: [0 0 0 0 0 0 0 0 0 0 0 0 0 0 0 0]; score: -3.53\n",
      "Max clusters: 2; cluster labels: [0 0 1 1 0 0 0 0 1 1 1 1 0 0 1 0]; score: -1.02\n",
      "Max clusters: 3; cluster labels: [2 0 1 1 2 2 2 0 1 1 1 1 0 2 1 2]; score: -0.58\n",
      "Max clusters: 4; cluster labels: [3 0 1 1 3 3 3 0 2 1 1 1 0 3 2 3]; score: -0.14\n",
      "Max clusters: 5; cluster labels: [3 4 1 1 3 0 3 4 2 1 1 1 0 0 2 3]; score: -0.07\n",
      "Max clusters: 6; cluster labels: [0 3 2 2 0 4 0 3 5 2 2 2 4 4 1 0]; score: -0.05\n",
      "Max clusters: 7; cluster labels: [3 4 1 1 3 5 3 4 6 1 1 1 0 5 2 3]; score: -0.03\n",
      "Max clusters: 8; cluster labels: [4 6 2 2 4 1 4 3 0 2 2 2 7 1 5 4]; score: -0.01\n",
      "Max clusters: 9; cluster labels: [2 8 7 1 2 5 2 4 3 7 1 7 0 5 6 2]; score: -0.00\n",
      "Max clusters: 10; cluster labels: [2 8 7 1 2 5 2 4 3 7 1 7 0 9 6 2]; score: -0.00\n",
      "Max clusters: 11; cluster labels: [ 2  8  7  1  2  5  2  4  3 10  1  7  0  9  6  2]; score: -0.00\n",
      "Max clusters: 12; cluster labels: [ 2  8  7 11  2  5  2  4  3 10  1  7  0  9  6  2]; score: -0.00\n",
      "Max clusters: 13; cluster labels: [ 2  8  7 11  2  5  2  4  3 10  1 12  0  9  6  2]; score: -0.00\n",
      "Max clusters: 14; cluster labels: [ 2  8  7 11  2  5  2  4  3 10  1 12  0  9  6 13]; score: -0.00\n",
      "Max clusters: 15; cluster labels: [ 2  8  7 11  2  5 14  4  3 10  1 12  0  9  6 13]; score: -0.00\n"
     ]
    }
   ],
   "source": [
    "# Cluster treatment combinations by expected outcomes\n",
    "for i in range(1, 2**k):\n",
    "    kmeans = KMeans(n_clusters=i, random_state=0).fit(expected_outcomes.reshape(-1, 1))\n",
    "    score = kmeans.score(expected_outcomes.reshape(-1, 1))\n",
    "    print(f'Max clusters: {i}; cluster labels: {kmeans.labels_}; score: {score:.2f}')"
   ]
  },
  {
   "cell_type": "code",
   "execution_count": 249,
   "metadata": {},
   "outputs": [
    {
     "data": {
      "image/png": "[encoded data removed]",
      "text/plain": [
       "<Figure size 640x480 with 1 Axes>"
      ]
     },
     "metadata": {},
     "output_type": "display_data"
    }
   ],
   "source": [
    "# Plot betas and expected outcomes\n",
    "_ = sns.barplot(\n",
    "    x=[\n",
    "        r\"0\",\n",
    "        r\"$t_1$\",\n",
    "        r\"$t_2$\",\n",
    "        r\"$t_3$\",\n",
    "        r\"$t_4$\",\n",
    "        r\"$t_1 t_2$\",\n",
    "        r\"$t_1 t_3$\",\n",
    "        r\"$t_1 t_4$\",\n",
    "        r\"$t_2 t_3$\",\n",
    "        r\"$t_2 t_4$\",\n",
    "        r\"$t_3 t_4$\",\n",
    "        r\"$t_1 t_2 t_3$\",\n",
    "        r\"$t_1 t_2 t_4$\",\n",
    "        r\"$t_1 t_3 t_4$\",\n",
    "        r\"$t_2 t_3 t_4$\",\n",
    "        r\"$t_1 t_2 t_3 t_4$\",\n",
    "    ],\n",
    "    y=betas,\n",
    "    alpha=0.5,\n",
    "    label=r\"$\\beta$\",\n",
    ")\n",
    "\n",
    "_ = sns.barplot(\n",
    "    x=[\n",
    "        r\"0\",\n",
    "        r\"$t_1$\",\n",
    "        r\"$t_2$\",\n",
    "        r\"$t_3$\",\n",
    "        r\"$t_4$\",\n",
    "        r\"$t_1 t_2$\",\n",
    "        r\"$t_1 t_3$\",\n",
    "        r\"$t_1 t_4$\",\n",
    "        r\"$t_2 t_3$\",\n",
    "        r\"$t_2 t_4$\",\n",
    "        r\"$t_3 t_4$\",\n",
    "        r\"$t_1 t_2 t_3$\",\n",
    "        r\"$t_1 t_2 t_4$\",\n",
    "        r\"$t_1 t_3 t_4$\",\n",
    "        r\"$t_2 t_3 t_4$\",\n",
    "        r\"$t_1 t_2 t_3 t_4$\",\n",
    "    ],\n",
    "    y=expected_outcomes,\n",
    "    alpha=0.5,\n",
    "    label=r\"E[Y|T]\",\n",
    ")"
   ]
  },
  {
   "cell_type": "markdown",
   "metadata": {},
   "source": [
    "### Factorial model and sample dataset for k=5"
   ]
  },
  {
   "cell_type": "code",
   "execution_count": 250,
   "metadata": {},
   "outputs": [],
   "source": [
    "n = 1000\n",
    "k = 5\n",
    "degree = 5\n",
    "sigma = 0.1\n",
    "sparsity = 0.5\n",
    "\n",
    "fm = FM.FactorialModel(\n",
    "    n=n,\n",
    "    k=k,\n",
    "    degree=degree,\n",
    "    sigma=sigma,\n",
    "    sparsity=sparsity,\n",
    "    beta_seed=42,\n",
    ")\n",
    "t, y = fm.sample(seed=0)"
   ]
  },
  {
   "cell_type": "code",
   "execution_count": 251,
   "metadata": {},
   "outputs": [
    {
     "name": "stdout",
     "output_type": "stream",
     "text": [
      "alpha=0.001\n",
      "betas=[ 0.         -0.00615014  0.36288005  0.          0.00563909  0.00419086\n",
      "  0.00781563 -0.0254381   0.          0.          0.03989441  0.0122317\n",
      " -0.          0.          0.17361246 -0.43732393  0.19791085  0.\n",
      "  0.08772841 -0.         -0.          0.          0.5031516  -0.\n",
      " -0.1523685  -0.15900049 -0.          0.          0.         -0.02823868\n",
      " -0.         -0.        ]\n",
      "Mean Squared Error of y: 0.010939823856963767\n",
      "Mean Squared Error of beta: 0.005701355170458555\n"
     ]
    }
   ],
   "source": [
    "# Fit Lasso regression with cross validation for alpha\n",
    "pf = preprocessing.PolynomialFeatures(\n",
    "    degree=degree, interaction_only=True, include_bias=True,\n",
    ")\n",
    "T = pf.fit_transform(t)\n",
    "T_train, T_test, y_train, y_test = train_test_split(T, y, test_size=0.2, random_state=42)\n",
    "alpha_cv = [0.001, 0.01, 0.1, 0.5]\n",
    "model = LassoCV(alphas=alpha_cv, cv=5, random_state=42)\n",
    "model.fit(T_train, y_train)\n",
    "print(f'alpha={model.alpha_}\\nbetas={model.coef_}')\n",
    "\n",
    "y_pred = model.predict(T_test)\n",
    "mse = mean_squared_error(y_test, y_pred)\n",
    "print(f\"Mean Squared Error of y: {mse}\")\n",
    "\n",
    "beta_actual = fm.beta\n",
    "beta_hat = model.coef_\n",
    "mse_beta = mean_squared_error(beta_actual, beta_hat)\n",
    "print(f\"Mean Squared Error of beta: {mse_beta}\")"
   ]
  },
  {
   "cell_type": "code",
   "execution_count": 252,
   "metadata": {},
   "outputs": [
    {
     "name": "stdout",
     "output_type": "stream",
     "text": [
      "expected_outcomes=[ 0.   -0.01  0.36  0.    0.01  0.    0.36 -0.03 -0.   -0.    0.4   0.38\n",
      "  0.37  0.01  0.18 -0.43  0.58  0.38  0.46 -0.03  0.15 -0.43  0.92  0.58\n",
      " -0.2  -0.41  1.1   0.84 -0.12 -0.47  0.35  0.59]\n"
     ]
    }
   ],
   "source": [
    "# Compute expected outcomes as linear combinations of betas\n",
    "betas = model.coef_\n",
    "beta_mask = pf.fit_transform(pf.powers_)\n",
    "expected_outcomes = beta_mask @ betas\n",
    "print(f'expected_outcomes={np.round(expected_outcomes,2)}')"
   ]
  },
  {
   "cell_type": "code",
   "execution_count": 253,
   "metadata": {},
   "outputs": [
    {
     "name": "stdout",
     "output_type": "stream",
     "text": [
      "(32,) (32,)\n"
     ]
    }
   ],
   "source": [
    "print(betas.shape, expected_outcomes.shape)"
   ]
  },
  {
   "cell_type": "code",
   "execution_count": 254,
   "metadata": {},
   "outputs": [
    {
     "name": "stdout",
     "output_type": "stream",
     "text": [
      "Max clusters: 1; cluster labels: [0 0 0 0 0 0 0 0 0 0 0 0 0 0 0 0 0 0 0 0 0 0 0 0 0 0 0 0 0 0 0 0]; score: -4.76\n",
      "Max clusters: 2; cluster labels: [1 1 0 1 1 1 0 1 1 1 0 0 0 1 1 1 0 0 0 1 1 1 0 0 1 1 0 0 1 1 0 0]; score: -1.45\n",
      "Max clusters: 3; cluster labels: [1 1 0 1 1 1 0 1 1 1 0 0 0 1 0 1 0 0 0 1 0 1 2 0 1 1 2 2 1 1 0 0]; score: -0.80\n",
      "Max clusters: 4; cluster labels: [1 1 3 1 1 1 3 1 1 1 3 3 3 1 1 0 3 3 3 1 1 0 2 3 0 0 2 2 1 0 3 3]; score: -0.24\n",
      "Max clusters: 5; cluster labels: [1 1 0 1 1 1 0 1 1 1 0 0 0 1 1 3 4 0 0 1 1 3 2 4 1 3 2 2 1 3 0 4]; score: -0.15\n",
      "Max clusters: 6; cluster labels: [4 4 5 4 4 4 5 4 4 4 5 5 5 4 0 2 3 5 5 4 0 2 1 3 4 2 1 1 4 2 5 3]; score: -0.09\n",
      "Max clusters: 7; cluster labels: [2 2 0 2 2 2 0 2 2 2 0 0 0 2 5 1 4 0 0 2 5 1 3 4 6 1 3 3 6 1 0 4]; score: -0.05\n",
      "Max clusters: 8; cluster labels: [5 5 0 5 5 5 0 5 5 5 0 0 0 5 6 3 4 0 0 5 6 3 2 4 1 3 7 2 1 3 0 4]; score: -0.02\n",
      "Max clusters: 9; cluster labels: [4 4 1 4 4 4 1 4 4 4 1 1 1 4 6 3 5 1 8 4 6 3 2 5 0 3 7 2 0 3 1 5]; score: -0.01\n",
      "Max clusters: 10; cluster labels: [5 5 0 5 5 5 0 5 5 5 0 0 0 5 6 3 4 0 9 5 6 3 2 4 8 3 7 2 1 3 0 4]; score: -0.01\n",
      "Max clusters: 11; cluster labels: [ 5  5  0  5  5  5  0  5  5  5  0  0  0  5  6  3  4  0  9  5  6  3  2  4\n",
      "  8  3  7 10  1  3  0  4]; score: -0.01\n",
      "Max clusters: 12; cluster labels: [ 4  4  0  4  4  4  0  4  4  4  0  0  0  4  6  3  5  0  9  4  6  3  2  5\n",
      "  1  3  7 10  8 11  0  5]; score: -0.00\n",
      "Max clusters: 13; cluster labels: [ 5  5  0  5  5  5  0 11  5  5  0  0  0  5  6  3  4  0  9 11  6  3  2  4\n",
      "  8  3  7 10  1 12  0  4]; score: -0.00\n",
      "Max clusters: 14; cluster labels: [ 1  1  0  1  1  1  0 12  1  1 11 11  0  1  7  3  4 11  8 12  7  3  2  4\n",
      "  5  3  6 10  9 13  0  4]; score: -0.00\n",
      "Max clusters: 15; cluster labels: [ 8  8 14  8  8  8 14  5  8  8  4  4 14  8 13  2  1  4 12  5  0  2 10  1\n",
      "  6  2  7  3  9 11 14  1]; score: -0.00\n",
      "Max clusters: 16; cluster labels: [ 5  5  0  5  5  5  0 11  5  5 13 14  0  5 15  3  4 14  9 11  6  3  2  4\n",
      "  8  3  7 10  1 12  0  4]; score: -0.00\n",
      "Max clusters: 17; cluster labels: [ 5  5  0  5  5  5  0 11  5  5 13 14  0  5 15  3  4 14  9 11  6  3  2  4\n",
      "  8 16  7 10  1 12  0  4]; score: -0.00\n",
      "Max clusters: 18; cluster labels: [ 5  5  0  5  5  5  0 11  5  5 13 14  0  5 15  3  4 14  9 11  6  3  2  4\n",
      "  8 16  7 10  1 12 17  4]; score: -0.00\n",
      "Max clusters: 19; cluster labels: [17 17  4 17  9  9  4  2 17 17 11 15  4  9  7  5  1 15  8  2 13  5  6  1\n",
      "  0 16  3 12 10 14 18  1]; score: -0.00\n",
      "Max clusters: 20; cluster labels: [ 5  5  0  5 19 19  0 11  5  5 13 14  0 19 15  3  4 14  9 11  6  3  2  4\n",
      "  8 16  7 10  1 12 17 18]; score: -0.00\n",
      "Max clusters: 21; cluster labels: [ 8 20 17  8 18 18 17  1  8  8 15  0 17 18  5  3  4  0 11  1 14  3 10  4\n",
      "  7 16  6  2  9 13 12 19]; score: -0.00\n",
      "Max clusters: 22; cluster labels: [18 21  0 18  4  4  0 11 18 18 15 14  0  4 12 20  5 14  8 11  6  3  2  5\n",
      " 10 16  7  9  1 13 17 19]; score: -0.00\n",
      "Max clusters: 23; cluster labels: [18 21  0 18  4  4  0 11 18 18 15 14  0  4 12 20  5 14  8 22  6  3  2  5\n",
      " 10 16  7  9  1 13 17 19]; score: -0.00\n",
      "Max clusters: 24; cluster labels: [18 21 23 18  4  4 23 11 18 18 15 14  0  4 12 20  5 14  8 22  6  3  2  5\n",
      " 10 16  7  9  1 13 17 19]; score: -0.00\n",
      "Max clusters: 25; cluster labels: [18 21 23 18  4  4 23 11 18 18 15 14  0  4 12 20 24 14  8 22  6  3  2  5\n",
      " 10 16  7  9  1 13 17 19]; score: -0.00\n",
      "Max clusters: 26; cluster labels: [ 1 20  9  1 18 18  9 22  1 25  2 15 23 18  6 19 24 15 11 13 14  3 10  4\n",
      "  8 16  5  0  7 12 17 21]; score: -0.00\n",
      "Max clusters: 27; cluster labels: [24 22 13 24 26 17 13 11 24  0 16  2 25 26  5 21  4  2 10 20 14  3  1 23\n",
      "  6 15  7  9  8 12 18 19]; score: -0.00\n",
      "Max clusters: 28; cluster labels: [20  0 12 20 25 16 12 13 20 26 15 27 23 25 14  3  4  2 10 22  5 21  1 24\n",
      "  6 17  7  9  8 11 19 18]; score: -0.00\n",
      "Max clusters: 29; cluster labels: [18 21 27 18 25  4 23 11 18 28 15 26  0 25 12 20 24 14  8 22  6  3  2  5\n",
      " 10 16  7  9  1 13 17 19]; score: -0.00\n",
      "Max clusters: 30; cluster labels: [29 21 27 29 25  4 23 11 18 28 15 26  0 25 12 20 24 14  8 22  6  3  2  5\n",
      " 10 16  7  9  1 13 17 19]; score: -0.00\n",
      "Max clusters: 31; cluster labels: [29 21 27 29 25  4 23 11 18 28 15 26  0 25 12 20 24 14  8 22  6  3  2  5\n",
      " 10 16  7  9  1 13 17 19]; score: -0.00\n"
     ]
    },
    {
     "name": "stderr",
     "output_type": "stream",
     "text": [
      "/tmp/ipykernel_141/426641171.py:3: ConvergenceWarning: Number of distinct clusters (30) found smaller than n_clusters (31). Possibly due to duplicate points in X.\n",
      "  kmeans = KMeans(n_clusters=i, random_state=0).fit(expected_outcomes.reshape(-1, 1))\n"
     ]
    }
   ],
   "source": [
    "# Cluster treatment combinations by expected outcomes\n",
    "for i in range(1, 2**k):\n",
    "    kmeans = KMeans(n_clusters=i, random_state=0).fit(expected_outcomes.reshape(-1, 1))\n",
    "    score = kmeans.score(expected_outcomes.reshape(-1, 1))\n",
    "    print(f'Max clusters: {i}; cluster labels: {kmeans.labels_}; score: {score:.2f}')"
   ]
  },
  {
   "cell_type": "code",
   "execution_count": 255,
   "metadata": {},
   "outputs": [
    {
     "data": {
      "image/png": "[encoded data removed]",
      "text/plain": [
       "<Figure size 640x480 with 1 Axes>"
      ]
     },
     "metadata": {},
     "output_type": "display_data"
    }
   ],
   "source": [
    "# Plot betas and expected outcomes\n",
    "_ = sns.barplot(\n",
    "    x=[\n",
    "        r\"0\",\n",
    "        r\"$t_1$\",\n",
    "        r\"$t_2$\",\n",
    "        r\"$t_3$\",\n",
    "        r\"$t_4$\",\n",
    "        r\"$t_5$\",\n",
    "        r\"$t_1 t_2$\",\n",
    "        r\"$t_1 t_3$\",\n",
    "        r\"$t_1 t_4$\",\n",
    "        r\"$t_1 t_5$\",\n",
    "        r\"$t_2 t_3$\",\n",
    "        r\"$t_2 t_4$\",\n",
    "        r\"$t_2 t_5$\",\n",
    "        r\"$t_3 t_4$\",\n",
    "        r\"$t_3 t_5$\",\n",
    "        r\"$t_4 t_5$\",\n",
    "        r\"$t_1 t_2 t_3$\",\n",
    "        r\"$t_1 t_2 t_4$\",\n",
    "        r\"$t_1 t_2 t_5$\",\n",
    "        r\"$t_1 t_3 t_4$\",\n",
    "        r\"$t_1 t_3 t_5$\",\n",
    "        r\"$t_1 t_4 t_5$\",\n",
    "        r\"$t_2 t_3 t_4$\",\n",
    "        r\"$t_2 t_3 t_5$\",\n",
    "        r\"$t_2 t_4 t_5$\",\n",
    "        r\"$t_3 t_4 t_5$\",\n",
    "        r\"$t_1 t_2 t_3 t_4$\",\n",
    "        r\"$t_1 t_2 t_3 t_5$\",\n",
    "        r\"$t_1 t_2 t_4 t_5$\",\n",
    "        r\"$t_1 t_3 t_4 t_5$\",\n",
    "        r\"$t_2 t_3 t_4 t_5$\",\n",
    "        r\"$t_1 t_2 t_3 t_4 t_5$\",\n",
    "    ],\n",
    "    y=betas,\n",
    "    alpha=0.5,\n",
    "    label=r\"$\\beta$\",\n",
    ")\n",
    "\n",
    "_ = sns.barplot(\n",
    "    x=[\n",
    "        r\"0\",\n",
    "        r\"$t_1$\",\n",
    "        r\"$t_2$\",\n",
    "        r\"$t_3$\",\n",
    "        r\"$t_4$\",\n",
    "        r\"$t_5$\",\n",
    "        r\"$t_1 t_2$\",\n",
    "        r\"$t_1 t_3$\",\n",
    "        r\"$t_1 t_4$\",\n",
    "        r\"$t_1 t_5$\",\n",
    "        r\"$t_2 t_3$\",\n",
    "        r\"$t_2 t_4$\",\n",
    "        r\"$t_2 t_5$\",\n",
    "        r\"$t_3 t_4$\",\n",
    "        r\"$t_3 t_5$\",\n",
    "        r\"$t_4 t_5$\",\n",
    "        r\"$t_1 t_2 t_3$\",\n",
    "        r\"$t_1 t_2 t_4$\",\n",
    "        r\"$t_1 t_2 t_5$\",\n",
    "        r\"$t_1 t_3 t_4$\",\n",
    "        r\"$t_1 t_3 t_5$\",\n",
    "        r\"$t_1 t_4 t_5$\",\n",
    "        r\"$t_2 t_3 t_4$\",\n",
    "        r\"$t_2 t_3 t_5$\",\n",
    "        r\"$t_2 t_4 t_5$\",\n",
    "        r\"$t_3 t_4 t_5$\",\n",
    "        r\"$t_1 t_2 t_3 t_4$\",\n",
    "        r\"$t_1 t_2 t_3 t_5$\",\n",
    "        r\"$t_1 t_2 t_4 t_5$\",\n",
    "        r\"$t_1 t_3 t_4 t_5$\",\n",
    "        r\"$t_2 t_3 t_4 t_5$\",\n",
    "        r\"$t_1 t_2 t_3 t_4 t_5$\",\n",
    "    ],\n",
    "    y=expected_outcomes,\n",
    "    alpha=0.5,\n",
    "    label=r\"E[Y|T]\",\n",
    ")"
   ]
  },
  {
   "cell_type": "markdown",
   "metadata": {},
   "source": [
    "### Generate data for m less than sp"
   ]
  },
  {
   "cell_type": "code",
   "execution_count": 678,
   "metadata": {},
   "outputs": [],
   "source": [
    "#s = sparsity * len(beta)\n",
    "#if k is 10: 88\n",
    "# so error low if 88 * log(176) >= 197\n",
    "from sklearn.metrics import zero_one_loss\n",
    "def run_generation(n_max, k, sparsity, step):\n",
    "    mse_dict = {}\n",
    "    for n in range(20, n_max, step):\n",
    "        mse_sum = 0\n",
    "        mse_beta_sum=0\n",
    "        for seed in [0,1,2,30,4]:\n",
    "            #dictionary for mse's\n",
    "\n",
    "            degree = k\n",
    "            sigma = .1\n",
    "\n",
    "            fm = FM.FactorialModel(\n",
    "                n=n,\n",
    "                k=k,\n",
    "                degree=degree,\n",
    "                sigma=sigma,\n",
    "                sparsity=sparsity,\n",
    "                beta_seed=seed,\n",
    "            )\n",
    "            t, y = fm.sample(seed=seed, contrast_coding = True)\n",
    "\n",
    "\n",
    "            pf = preprocessing.PolynomialFeatures(\n",
    "            degree=degree, interaction_only=True, include_bias=True,\n",
    "            )\n",
    "            T = pf.fit_transform(t)\n",
    "            T_train, T_test, y_train, y_test = train_test_split(T, y, test_size=0.1, random_state=seed)\n",
    "#             alpha_cv = [0.001, 0.01, 0.1, 0.5]\n",
    "#             model = LassoCV(alphas=alpha_cv, cv=5, random_state=42, max_iter=10000)\n",
    "            model = Lasso(alpha = 0.05, max_iter = 10000)\n",
    "            model.fit(T_train, y_train)\n",
    "            # print(f'alpha={model.alpha_}\\nbetas={model.coef_}')\n",
    "\n",
    "            y_pred = model.predict(T_test)\n",
    "            mse_sum += mean_squared_error(y_test, y_pred)\n",
    "            # print(f\"Mean Squared Error of y: {mse}\")\n",
    "\n",
    "            beta_actual = fm.beta\n",
    "            beta_hat = model.coef_\n",
    "#             beta_hat[beta_hat!=0] = 1\n",
    "#             beta_actual[beta_actual!=0] = 1\n",
    "            mse_beta_sum += np.linalg.norm(beta_actual - beta_hat)\n",
    "            # print(f\"Mean Squared Error of beta: {mse_beta}\")\n",
    "#             print(zero_one_loss(beta_actual, beta_hat))\n",
    "\n",
    "        mse_dict[n] = (mse_sum/5, mse_beta_sum/5)\n",
    "    return mse_dict, len(fm.beta)"
   ]
  },
  {
   "cell_type": "code",
   "execution_count": 679,
   "metadata": {},
   "outputs": [],
   "source": [
    "def draw_charts(mse_dict, sparsity, length, k):\n",
    "    n = list(mse_dict.keys())\n",
    "    mse, mse_beta = zip(*mse_dict.values())\n",
    "\n",
    "    fig, ax1 = plt.subplots()\n",
    "\n",
    "    # Plot the first line (mse) on the first y-axis\n",
    "    color = 'tab:red'\n",
    "    ax1.set_xlabel('m')\n",
    "    ax1.set_ylabel('mse', color=color)\n",
    "    ax1.plot(n, mse, color=color)\n",
    "    ax1.tick_params(axis='y', labelcolor=color)\n",
    "    ax1.set_ylim(0, 3.5)\n",
    "#     Create a second y-axis for the second line (mse_beta)\n",
    "    ax2 = ax1.twinx()\n",
    "    color = 'tab:blue'\n",
    "    ax2.set_ylabel('Dif in Beta norm', color=color)\n",
    "    ax2.plot(n, mse_beta, color=color)\n",
    "    ax2.tick_params(axis='y', labelcolor=color)\n",
    "    ax2.set_ylim(0,2)\n",
    "    tipping_point = calc_tipping_point(sparsity, length, k)  \n",
    "    ax1.axvline(x=tipping_point, linestyle='--', color='gray')\n",
    "    fig.tight_layout()  # For layout\n",
    "    plt.title('MSE and Beta Norm Dif vs m')\n",
    "    plt.show()"
   ]
  },
  {
   "cell_type": "code",
   "execution_count": 680,
   "metadata": {},
   "outputs": [],
   "source": [
    "def calc_tipping_point(sparsity, length, k):\n",
    "    return np.log(math.e /(1-sparsity)) *(1-sparsity) * length"
   ]
  },
  {
   "cell_type": "code",
   "execution_count": 681,
   "metadata": {
    "scrolled": false
   },
   "outputs": [
    {
     "data": {
      "image/png": "[encoded data removed]",
      "text/plain": [
       "<Figure size 640x480 with 2 Axes>"
      ]
     },
     "metadata": {},
     "output_type": "display_data"
    },
    {
     "name": "stdout",
     "output_type": "stream",
     "text": [
      "133.60322111662592\n",
      "{20: (0.9244047463432861, 1.0470203161239624), 40: (0.7599821736096868, 0.9856424450874328), 60: (1.0619537224880604, 0.8788659930229187), 80: (0.91180446063336, 0.7968980312347412), 100: (0.6206912158604858, 0.6930110812187195), 120: (0.4211478860025199, 0.6189194798469544), 140: (0.2570176979972253, 0.5420073807239533), 160: (0.27176640455537027, 0.5330185830593109), 180: (0.20593764802373768, 0.45429099202156065), 200: (0.1970632741421756, 0.43130925893783567), 220: (0.16183265363471863, 0.40168399214744566), 240: (0.1460707112222336, 0.4008058965206146), 260: (0.1414408859981342, 0.3814556062221527), 280: (0.24232811606425755, 0.41009439826011657), 300: (0.19586076501130292, 0.4015755534172058), 320: (0.15171901018769496, 0.3761152923107147), 340: (0.19431818098388662, 0.3892629981040955), 360: (0.14659754129253072, 0.3748964607715607), 380: (0.14279205307616374, 0.37520371079444886), 400: (0.17921315703010082, 0.37908156514167785), 420: (0.16087618665040376, 0.37177505493164065), 440: (0.12496952444914075, 0.35406661629676817), 460: (0.1425981158919083, 0.36242016553878786), 480: (0.12964515693414616, 0.35745878219604493), 500: (0.14665553251316207, 0.3546054601669312), 520: (0.1425236479442468, 0.35079150199890136), 540: (0.13117173266181645, 0.3522223114967346), 560: (0.1384768504819803, 0.3540750026702881), 580: (0.13088808619996756, 0.34892840385437013), 600: (0.13943000525443025, 0.35080766677856445), 620: (0.12458483665733985, 0.3443572461605072), 640: (0.13350747341991473, 0.3435964584350586), 660: (0.13241427135185518, 0.3475653946399689), 680: (0.13747816837748075, 0.34557594656944274), 700: (0.14309536847599566, 0.34743301272392274), 720: (0.11956462266445937, 0.3395880997180939), 740: (0.1331779789947703, 0.34112552404403684), 760: (0.1273054697812368, 0.3379452288150787), 780: (0.11937492701951333, 0.33851861357688906), 800: (0.11881471687629823, 0.3360591232776642), 820: (0.13297161092548299, 0.33984296321868895), 840: (0.1312965645044878, 0.3362030625343323), 860: (0.12277398121563365, 0.3336254835128784), 880: (0.12232934190796682, 0.3366255283355713), 900: (0.12322930899377374, 0.3385012984275818), 920: (0.127182050515311, 0.3342312514781952), 940: (0.13467532811647803, 0.33802103996276855), 960: (0.12421436440261084, 0.3348862051963806), 980: (0.1117151133387428, 0.3324934482574463), 1000: (0.11239820966664693, 0.33268468976020815), 1020: (0.10804992442735253, 0.33353408575057986), 1040: (0.12654171268437114, 0.33402423858642577), 1060: (0.11397996579889877, 0.3335679888725281), 1080: (0.12605563684765503, 0.33736308217048644), 1100: (0.10961784717823797, 0.33258878588676455), 1120: (0.11911085642588685, 0.33104148507118225), 1140: (0.1187967590231624, 0.3319911420345306), 1160: (0.11897471401475553, 0.33005515336990354), 1180: (0.1061548554256607, 0.32981131672859193), 1200: (0.11713538194497328, 0.3322537958621979), 1220: (0.10834144794605265, 0.32692826390266416), 1240: (0.13679169012870565, 0.3295382738113403), 1260: (0.12367290257356137, 0.3278800666332245), 1280: (0.1103824467645228, 0.325164669752121), 1300: (0.12083138840559329, 0.3254733979701996), 1320: (0.1148901572909637, 0.32835054993629453), 1340: (0.12233103809890203, 0.32955239415168763), 1360: (0.1163400169210445, 0.3302349507808685), 1380: (0.1284692096581477, 0.3332496821880341), 1400: (0.11689079786316592, 0.3300638198852539), 1420: (0.11797468044809559, 0.3304309666156769), 1440: (0.12802772134921075, 0.333644425868988), 1460: (0.1156460040180235, 0.3276437044143677), 1480: (0.1285103372958925, 0.33418518900871275), 1500: (0.12565747932957472, 0.3294615983963013), 1520: (0.11299172928244909, 0.3287201106548309), 1540: (0.13452128780580458, 0.3318479657173157), 1560: (0.11300948966817696, 0.32743062973022463), 1580: (0.11645668229201864, 0.32925982475280763), 1600: (0.12745068839595836, 0.33037952780723573), 1620: (0.11768741038521227, 0.32747596502304077), 1640: (0.12097331793659602, 0.3300769507884979), 1660: (0.11863928276241795, 0.3295526623725891), 1680: (0.11669968747352515, 0.331055349111557), 1700: (0.12326552262039536, 0.33076550960540774), 1720: (0.12529313733028885, 0.3294845938682556), 1740: (0.1266532429157279, 0.33232654333114625), 1760: (0.112959285494339, 0.33055858612060546), 1780: (0.10945440524710115, 0.3278475821018219), 1800: (0.1135398891145499, 0.330082106590271), 1820: (0.11265184941018307, 0.32888426184654235), 1840: (0.1155650607207144, 0.32731237411499026), 1860: (0.12489010177681703, 0.3313550531864166), 1880: (0.12158381734350783, 0.33295374512672427), 1900: (0.11131530613849494, 0.32698690295219424), 1920: (0.11582396488275785, 0.3286757230758667), 1940: (0.11350787281914823, 0.32990729808807373), 1960: (0.11990549750969881, 0.3319787919521332), 1980: (0.12247561125345903, 0.33051586151123047), 2000: (0.12537144294441982, 0.3320880115032196), 2020: (0.12378497413200432, 0.3307264089584351), 2040: (0.1209720586995239, 0.33204429745674136), 2060: (0.12215933656365015, 0.3327043950557709), 2080: (0.1219958637795188, 0.33097800612449646), 2100: (0.12515581688999403, 0.3327525854110718), 2120: (0.11671964408174755, 0.32948319911956786), 2140: (0.11713399844912016, 0.3283244729042053), 2160: (0.11384671450273265, 0.3291331589221954), 2180: (0.12017996436417491, 0.3315858721733093), 2200: (0.11901592409493855, 0.3310883939266205), 2220: (0.12140328162314033, 0.3312754392623901), 2240: (0.12431163240463694, 0.3322431147098541), 2260: (0.1120108600023078, 0.3289413034915924), 2280: (0.12261557935372451, 0.3302247107028961), 2300: (0.11196179017769192, 0.32788183093070983), 2320: (0.11941701150189368, 0.3315281212329865), 2340: (0.11748486803364397, 0.32963748574256896), 2360: (0.12690123445423623, 0.3309939503669739), 2380: (0.12173003477335945, 0.33177542090415957), 2400: (0.12422341505441337, 0.3314502239227295), 2420: (0.12726343596104644, 0.3318220615386963), 2440: (0.1211191588511374, 0.33040566444396974), 2460: (0.11336307586612318, 0.32879410982131957), 2480: (0.13612442219410814, 0.33472342491149903), 2500: (0.121435498429096, 0.3311043202877045), 2520: (0.12890116614681038, 0.3302429854869843), 2540: (0.11295916465858866, 0.3263480424880981), 2560: (0.1126702099142547, 0.3261998414993286), 2580: (0.1231031259067138, 0.33030169606208803), 2600: (0.11889930848427199, 0.3271277904510498), 2620: (0.11777643883130681, 0.3296275734901428), 2640: (0.11309107116308334, 0.3265579342842102), 2660: (0.11722389596265277, 0.32593504786491395), 2680: (0.11662154708613873, 0.3277096688747406), 2700: (0.11320721230967674, 0.3263132631778717), 2720: (0.11854672211837787, 0.32735382318496703), 2740: (0.11836918185632699, 0.3301815092563629), 2760: (0.11804401863948341, 0.3276850402355194), 2780: (0.11347467713262194, 0.32688101530075075), 2800: (0.11823485615959321, 0.3299493849277496), 2820: (0.12659544897167693, 0.33095399737358094), 2840: (0.11232665194490599, 0.3295180439949036), 2860: (0.12608296448364165, 0.3328567922115326), 2880: (0.12279062959954143, 0.3288539111614227), 2900: (0.12208461325235023, 0.33057292699813845), 2920: (0.11901135938552507, 0.3305176794528961), 2940: (0.1242621380978135, 0.331437474489212), 2960: (0.12090877427219238, 0.3305937469005585), 2980: (0.1220021907114226, 0.33100361824035646), 3000: (0.11891728594158772, 0.3300736784934998), 3020: (0.11860184059865671, 0.32848371267318727), 3040: (0.11563735452075649, 0.32982865571975706), 3060: (0.12271758524879879, 0.33091501593589784), 3080: (0.11539922419165013, 0.3283563911914825), 3100: (0.12238791793208784, 0.3290827453136444), 3120: (0.11607531742308841, 0.3270771265029907), 3140: (0.11961716557311983, 0.3292195677757263), 3160: (0.1264429110501766, 0.3313445270061493), 3180: (0.12205778161674999, 0.32965585589408875), 3200: (0.12058857137641588, 0.32998517751693723), 3220: (0.12086100328137037, 0.3285199820995331), 3240: (0.12042633980335186, 0.3290891408920288), 3260: (0.12294543347168196, 0.32996672987937925), 3280: (0.12051573798531715, 0.3289958655834198), 3300: (0.11861073459950908, 0.32933067679405215), 3320: (0.11788313023015236, 0.32847902178764343), 3340: (0.12017021292643186, 0.32877108454704285), 3360: (0.11881677964173284, 0.3291535258293152), 3380: (0.1293608529959565, 0.3300133109092712), 3400: (0.11281442805957857, 0.3269669532775879), 3420: (0.12353698772790012, 0.33012855648994444), 3440: (0.11956697966154042, 0.3294150412082672), 3460: (0.11451978725235006, 0.3286292016506195), 3480: (0.11540036529305868, 0.32854968309402466), 3500: (0.11837143883721687, 0.32891314625740053), 3520: (0.11406872287124485, 0.32804218530654905), 3540: (0.11945213694954997, 0.3311188519001007), 3560: (0.11492984168164319, 0.32977970242500304), 3580: (0.11996350714098639, 0.33110315799713136), 3600: (0.1192644124632104, 0.329982602596283), 3620: (0.11977529188136542, 0.3293170630931854), 3640: (0.11871995807112912, 0.32916682958602905), 3660: (0.1130074777205918, 0.32787335515022276), 3680: (0.11574969569526841, 0.3288547873497009), 3700: (0.11386903189769455, 0.32814364433288573), 3720: (0.11619623840926341, 0.3295272648334503), 3740: (0.10389642842495468, 0.3249615073204041), 3760: (0.1154929435376367, 0.3286645770072937), 3780: (0.12017691196654043, 0.32914010286331175), 3800: (0.1158197534330454, 0.3280202090740204), 3820: (0.11576444352325374, 0.3273312509059906), 3840: (0.12387239096399674, 0.3294467508792877), 3860: (0.11637870606518678, 0.3267983257770538), 3880: (0.1180691076699865, 0.3266492962837219), 3900: (0.11447274123939041, 0.3265483736991882), 3920: (0.11076082681481103, 0.3264773070812225), 3940: (0.12007138237383914, 0.3288037180900574), 3960: (0.1172966691251535, 0.32644840478897097), 3980: (0.11627245180391214, 0.32735057473182677)}\n"
     ]
    }
   ],
   "source": [
    "n_max = 4000\n",
    "k = 8\n",
    "sparsity = 0.8\n",
    "mse_dict, length = run_generation(n_max, k, sparsity, 20)\n",
    "draw_charts(mse_dict, sparsity, length, k)\n",
    "print(calc_tipping_point(sparsity, length, k))\n",
    "print(mse_dict)"
   ]
  },
  {
   "cell_type": "markdown",
   "metadata": {},
   "source": [
    "# Compare forward"
   ]
  },
  {
   "cell_type": "code",
   "execution_count": 213,
   "metadata": {},
   "outputs": [],
   "source": []
  },
  {
   "cell_type": "code",
   "execution_count": 214,
   "metadata": {},
   "outputs": [
    {
     "name": "stdout",
     "output_type": "stream",
     "text": [
      "[ 0.          0.42008284  0.48750722  0.11071539  0.1445329   0.\n",
      " -0.3190283  -0.31422603 -0.3484527   0.         -0.01964589  0.\n",
      "  0.         -0.3796484   0.         -0.2937078 ]\n"
     ]
    }
   ],
   "source": [
    "print(fm.beta)"
   ]
  },
  {
   "cell_type": "code",
   "execution_count": 628,
   "metadata": {},
   "outputs": [],
   "source": [
    "\n",
    "def add_interaction_terms(df, kept_features, all_features, max_degree):\n",
    "    base_df = df[kept_features].copy()\n",
    "    feature_dict = {}\n",
    "    # Generate combinations that include at least one kept feature\n",
    "    for degree in range(2, max_degree + 1):\n",
    "        combo_list = []\n",
    "        # Include combinations with at least one kept feature\n",
    "        valid_combos = [combo for k in range(1, degree) for combo in combinations(all_features, degree) if len(set(combo) & set(kept_features)) > 0]\n",
    "        for combo in valid_combos:\n",
    "            interaction_term = ' * '.join(str(item) for item in combo)\n",
    "            base_df[interaction_term] = df[list(combo)].prod(axis=1)\n",
    "            if len(combo) == degree:\n",
    "#                 print(f'interaction{interaction_term}')\n",
    "                combo_list.append(interaction_term)\n",
    "\n",
    "#             print(base_df.columns)\n",
    "        feature_dict[degree] = list(set(combo_list))\n",
    "\n",
    "    return base_df, feature_dict\n",
    "\n",
    "def forward_selection(X, y, p_value, degree):\n",
    "    kept_features = []\n",
    "    # total_features = X.columns.tolist()\n",
    "    \n",
    "    X = sm.add_constant(X)\n",
    "    model = sm.OLS(y, X).fit()\n",
    "#     print(model.summary())\n",
    "#     print(model.pvalues)\n",
    "    kept_features= [X.columns[i] for i in range(1, len(X.columns)-1) if model.pvalues[i] < p_value]\n",
    "#     print(kept_features)\n",
    "    all_features = X.columns[1:] \n",
    "    \n",
    "    interaction_df, feature_dict = add_interaction_terms(X, kept_features, all_features, degree)\n",
    "    interaction_df = sm.add_constant(interaction_df)\n",
    "    if len(kept_features)== 0:\n",
    "        return 0, 0\n",
    "    for i in range(2,degree+1):\n",
    "        test_features = kept_features + feature_dict[i]\n",
    "        test_df = interaction_df[test_features]\n",
    "        \n",
    "        model = sm.OLS(y, test_df).fit()\n",
    "#         print(model.pvalues)\n",
    "        kept_features = [column for column in test_df.columns if model.pvalues[column] < 0.05]\n",
    "    #update model\n",
    "    test_df = interaction_df[kept_features]\n",
    "    if test_df.shape[1] == 0:\n",
    "        return None, None\n",
    "    print(test_df)\n",
    "    model = sm.OLS(y,test_df).fit()\n",
    "#     print(kept_features)\n",
    "    print(f'kept{kept_features}')\n",
    "    return model, kept_features\n"
   ]
  },
  {
   "cell_type": "code",
   "execution_count": 646,
   "metadata": {},
   "outputs": [],
   "source": [
    "\n",
    "def run_multiple(k, n, seed):\n",
    "    fm = FM.FactorialModel(\n",
    "        n=n,\n",
    "        k=k,\n",
    "        degree=k,\n",
    "        sigma=0.1,\n",
    "        sparsity=0.8,\n",
    "        beta_seed=seed,\n",
    "        antiheredity=True\n",
    "    )\n",
    "    t, y = fm.sample(seed=seed, contrast_coding = True)\n",
    "\n",
    "    #forward\n",
    "    T_train, T_test, y_train, y_test = train_test_split(t, y, test_size=0.1, random_state=seed)\n",
    "    T_train = pd.DataFrame(T_train)\n",
    "    y_train = pd.DataFrame(y_train)\n",
    "    T_test = pd.DataFrame(T_test)\n",
    "    y_test = pd.DataFrame(y_test)\n",
    "    model, features = forward_selection(T_train, y_train, 0.05, k)\n",
    "#     print(features)\n",
    "    if model == 0 or model is None:\n",
    "        print(\"none\")\n",
    "        mse_for = 0\n",
    "    else:\n",
    "#         for item, name in zip(model.params, features):\n",
    "#             print(name, item)\n",
    "        T_test = sm.add_constant(T_test)\n",
    "        kept_features = T_test.columns[:]\n",
    "        all_features =  T_test.columns[1:]  \n",
    "        T_test, feature_dict = add_interaction_terms(T_test, kept_features, all_features, k)\n",
    "        # print(T_test.columns)\n",
    "#         print(feature_dict)\n",
    "#         print(f'features {features}')\n",
    "        T_test = T_test[features]\n",
    "#         print(T_test.columns)\n",
    "#         print(f'parameters {model.params}')\n",
    "        \n",
    "        y_pred = model.predict(T_test)\n",
    "        mse_for = mean_squared_error(y_pred,y_test)\n",
    "    \n",
    "    #lasso\n",
    "    pf = preprocessing.PolynomialFeatures(\n",
    "    degree=k, interaction_only=True, include_bias=True,\n",
    "    )\n",
    "    T = pf.fit_transform(t)\n",
    "    T_train, T_test, y_train, y_test = train_test_split(T, y, test_size=0.1, random_state=seed)\n",
    "\n",
    "\n",
    "    alpha_cv = [0.001, 0.01, 0.1, 0.5]\n",
    "    modellasso = Lasso(alpha=0.01, max_iter=10000)\n",
    "    modellasso.fit(T_train, y_train)\n",
    "#     T_test.columns = [str(col) for col in T_test.columns]\n",
    "    y_pred = modellasso.predict(T_test)\n",
    "    mse_lasso = mean_squared_error(y_pred, y_test)\n",
    "\n",
    "    return model, modellasso, fm.beta, mse_for, mse_lasso"
   ]
  },
  {
   "cell_type": "code",
   "execution_count": 647,
   "metadata": {},
   "outputs": [
    {
     "name": "stdout",
     "output_type": "stream",
     "text": [
      "none\n",
      "0\n",
      "0.128662109375\n",
      "      0 * 9 * 11  0 * 4 * 6 * 9  0 * 1 * 6 * 11  0 * 2 * 7 * 11  \\\n",
      "0            1.0            1.0             1.0            -1.0   \n",
      "1            1.0           -1.0            -1.0            -1.0   \n",
      "2           -1.0            1.0            -1.0             1.0   \n",
      "3           -1.0            1.0             1.0            -1.0   \n",
      "4            1.0           -1.0             1.0            -1.0   \n",
      "...          ...            ...             ...             ...   \n",
      "2695         1.0            1.0            -1.0            -1.0   \n",
      "2696         1.0            1.0             1.0             1.0   \n",
      "2697        -1.0           -1.0             1.0             1.0   \n",
      "2698        -1.0            1.0            -1.0            -1.0   \n",
      "2699         1.0           -1.0            -1.0            -1.0   \n",
      "\n",
      "      0 * 1 * 3 * 7  0 * 1 * 4 * 11  0 * 2 * 3 * 8  0 * 4 * 6 * 7  \\\n",
      "0               1.0            -1.0           -1.0           -1.0   \n",
      "1               1.0            -1.0            1.0            1.0   \n",
      "2               1.0            -1.0            1.0            1.0   \n",
      "3              -1.0             1.0           -1.0           -1.0   \n",
      "4              -1.0            -1.0           -1.0            1.0   \n",
      "...             ...             ...            ...            ...   \n",
      "2695            1.0             1.0            1.0           -1.0   \n",
      "2696            1.0             1.0            1.0            1.0   \n",
      "2697            1.0            -1.0            1.0           -1.0   \n",
      "2698           -1.0            -1.0           -1.0           -1.0   \n",
      "2699           -1.0             1.0            1.0           -1.0   \n",
      "\n",
      "      0 * 2 * 5 * 7 * 10  0 * 2 * 3 * 5 * 10  ...  \\\n",
      "0                    1.0                 1.0  ...   \n",
      "1                    1.0                -1.0  ...   \n",
      "2                   -1.0                 1.0  ...   \n",
      "3                   -1.0                 1.0  ...   \n",
      "4                    1.0                -1.0  ...   \n",
      "...                  ...                 ...  ...   \n",
      "2695                -1.0                -1.0  ...   \n",
      "2696                -1.0                 1.0  ...   \n",
      "2697                -1.0                -1.0  ...   \n",
      "2698                -1.0                -1.0  ...   \n",
      "2699                 1.0                -1.0  ...   \n",
      "\n",
      "      0 * 1 * 2 * 3 * 4 * 5 * 6 * 7 * 8 * 10  \\\n",
      "0                                        1.0   \n",
      "1                                       -1.0   \n",
      "2                                       -1.0   \n",
      "3                                       -1.0   \n",
      "4                                        1.0   \n",
      "...                                      ...   \n",
      "2695                                     1.0   \n",
      "2696                                     1.0   \n",
      "2697                                    -1.0   \n",
      "2698                                     1.0   \n",
      "2699                                     1.0   \n",
      "\n",
      "      0 * 3 * 4 * 5 * 6 * 7 * 8 * 9 * 10 * 11  \\\n",
      "0                                         1.0   \n",
      "1                                         1.0   \n",
      "2                                         1.0   \n",
      "3                                        -1.0   \n",
      "4                                         1.0   \n",
      "...                                       ...   \n",
      "2695                                      1.0   \n",
      "2696                                     -1.0   \n",
      "2697                                     -1.0   \n",
      "2698                                     -1.0   \n",
      "2699                                     -1.0   \n",
      "\n",
      "      0 * 1 * 2 * 4 * 5 * 6 * 7 * 9 * 10 * 11  \\\n",
      "0                                        -1.0   \n",
      "1                                        -1.0   \n",
      "2                                        -1.0   \n",
      "3                                         1.0   \n",
      "4                                        -1.0   \n",
      "...                                       ...   \n",
      "2695                                      1.0   \n",
      "2696                                      1.0   \n",
      "2697                                     -1.0   \n",
      "2698                                     -1.0   \n",
      "2699                                     -1.0   \n",
      "\n",
      "      0 * 1 * 2 * 3 * 4 * 5 * 6 * 7 * 10 * 11  \\\n",
      "0                                         1.0   \n",
      "1                                        -1.0   \n",
      "2                                         1.0   \n",
      "3                                         1.0   \n",
      "4                                        -1.0   \n",
      "...                                       ...   \n",
      "2695                                     -1.0   \n",
      "2696                                     -1.0   \n",
      "2697                                     -1.0   \n",
      "2698                                      1.0   \n",
      "2699                                      1.0   \n",
      "\n",
      "      0 * 1 * 2 * 3 * 4 * 5 * 7 * 8 * 10 * 11  \\\n",
      "0                                         1.0   \n",
      "1                                        -1.0   \n",
      "2                                        -1.0   \n",
      "3                                        -1.0   \n",
      "4                                         1.0   \n",
      "...                                       ...   \n",
      "2695                                     -1.0   \n",
      "2696                                     -1.0   \n",
      "2697                                     -1.0   \n",
      "2698                                      1.0   \n",
      "2699                                     -1.0   \n",
      "\n",
      "      0 * 1 * 2 * 3 * 4 * 5 * 7 * 8 * 9 * 11  \\\n",
      "0                                        1.0   \n",
      "1                                       -1.0   \n",
      "2                                        1.0   \n",
      "3                                        1.0   \n",
      "4                                       -1.0   \n",
      "...                                      ...   \n",
      "2695                                    -1.0   \n",
      "2696                                    -1.0   \n",
      "2697                                    -1.0   \n",
      "2698                                    -1.0   \n",
      "2699                                    -1.0   \n",
      "\n",
      "      0 * 1 * 2 * 4 * 5 * 6 * 7 * 8 * 10 * 11  \\\n",
      "0                                         1.0   \n",
      "1                                         1.0   \n",
      "2                                        -1.0   \n",
      "3                                        -1.0   \n",
      "4                                        -1.0   \n",
      "...                                       ...   \n",
      "2695                                     -1.0   \n",
      "2696                                      1.0   \n",
      "2697                                      1.0   \n",
      "2698                                      1.0   \n",
      "2699                                      1.0   \n",
      "\n",
      "      0 * 1 * 2 * 4 * 5 * 6 * 8 * 9 * 10 * 11  \\\n",
      "0                                        -1.0   \n",
      "1                                        -1.0   \n",
      "2                                        -1.0   \n",
      "3                                         1.0   \n",
      "4                                         1.0   \n",
      "...                                       ...   \n",
      "2695                                      1.0   \n",
      "2696                                      1.0   \n",
      "2697                                      1.0   \n",
      "2698                                     -1.0   \n",
      "2699                                      1.0   \n",
      "\n",
      "      0 * 1 * 2 * 3 * 4 * 5 * 6 * 7 * 8 * 9 * 10  \\\n",
      "0                                            1.0   \n",
      "1                                           -1.0   \n",
      "2                                           -1.0   \n",
      "3                                            1.0   \n",
      "4                                           -1.0   \n",
      "...                                          ...   \n",
      "2695                                        -1.0   \n",
      "2696                                        -1.0   \n",
      "2697                                        -1.0   \n",
      "2698                                         1.0   \n",
      "2699                                        -1.0   \n",
      "\n",
      "      0 * 1 * 2 * 3 * 4 * 5 * 6 * 7 * 8 * 9 * 10 * 11  \n",
      "0                                                -1.0  \n",
      "1                                                 1.0  \n",
      "2                                                 1.0  \n",
      "3                                                -1.0  \n",
      "4                                                -1.0  \n",
      "...                                               ...  \n",
      "2695                                              1.0  \n",
      "2696                                             -1.0  \n",
      "2697                                              1.0  \n",
      "2698                                             -1.0  \n",
      "2699                                             -1.0  \n",
      "\n",
      "[2700 rows x 152 columns]\n"
     ]
    },
    {
     "name": "stdout",
     "output_type": "stream",
     "text": [
      "kept['0 * 9 * 11', '0 * 4 * 6 * 9', '0 * 1 * 6 * 11', '0 * 2 * 7 * 11', '0 * 1 * 3 * 7', '0 * 1 * 4 * 11', '0 * 2 * 3 * 8', '0 * 4 * 6 * 7', '0 * 2 * 5 * 7 * 10', '0 * 2 * 3 * 5 * 10', '0 * 2 * 3 * 7 * 11', '0 * 3 * 5 * 9 * 11', '0 * 3 * 8 * 9 * 10', '0 * 3 * 4 * 8 * 9', '0 * 1 * 6 * 7 * 11', '0 * 4 * 8 * 10 * 11', '0 * 2 * 3 * 4 * 9', '0 * 4 * 8 * 9 * 10', '0 * 2 * 5 * 6 * 9', '0 * 2 * 6 * 7 * 8', '0 * 5 * 7 * 9 * 10', '0 * 1 * 4 * 5 * 6', '0 * 1 * 2 * 9 * 10', '0 * 2 * 4 * 8 * 9', '0 * 1 * 3 * 4 * 5 * 10', '0 * 1 * 2 * 3 * 10 * 11', '0 * 2 * 6 * 8 * 10 * 11', '0 * 1 * 2 * 4 * 6 * 11', '0 * 3 * 5 * 7 * 8 * 10', '0 * 2 * 4 * 6 * 7 * 8', '0 * 1 * 3 * 7 * 8 * 9', '0 * 1 * 3 * 5 * 8 * 10', '0 * 1 * 5 * 7 * 9 * 10', '0 * 1 * 4 * 5 * 7 * 10', '0 * 2 * 5 * 8 * 9 * 11', '0 * 3 * 6 * 7 * 8 * 9', '0 * 1 * 4 * 5 * 6 * 8', '0 * 4 * 5 * 8 * 10 * 11', '0 * 3 * 4 * 6 * 7 * 9', '0 * 1 * 2 * 4 * 5 * 10', '0 * 1 * 2 * 6 * 7 * 11', '0 * 4 * 5 * 8 * 9 * 10', '0 * 2 * 3 * 4 * 6 * 7', '0 * 1 * 2 * 4 * 8 * 10', '0 * 1 * 4 * 5 * 7 * 11', '0 * 1 * 5 * 6 * 7 * 8', '0 * 1 * 3 * 5 * 10 * 11', '0 * 2 * 3 * 5 * 6 * 10', '0 * 1 * 2 * 4 * 5 * 6', '0 * 1 * 3 * 4 * 9 * 11', '0 * 1 * 5 * 7 * 8 * 9', '0 * 1 * 4 * 6 * 7 * 11', '0 * 1 * 4 * 6 * 8 * 11', '0 * 1 * 2 * 3 * 5 * 8', '0 * 2 * 3 * 6 * 7 * 9 * 11', '0 * 3 * 4 * 6 * 8 * 10 * 11', '0 * 2 * 3 * 4 * 5 * 9 * 11', '0 * 3 * 5 * 7 * 8 * 10 * 11', '0 * 2 * 3 * 4 * 5 * 6 * 8', '0 * 2 * 3 * 5 * 7 * 8 * 9', '0 * 1 * 7 * 8 * 9 * 10 * 11', '0 * 2 * 3 * 6 * 7 * 8 * 10', '0 * 4 * 6 * 7 * 8 * 9 * 11', '0 * 1 * 2 * 3 * 5 * 9 * 11', '0 * 3 * 4 * 5 * 6 * 7 * 8', '0 * 1 * 2 * 3 * 8 * 9 * 11', '0 * 2 * 4 * 5 * 6 * 8 * 11', '0 * 2 * 3 * 4 * 6 * 8 * 11', '0 * 2 * 6 * 7 * 8 * 9 * 10', '0 * 1 * 2 * 3 * 7 * 9 * 11', '0 * 2 * 3 * 4 * 6 * 7 * 11', '0 * 2 * 3 * 4 * 5 * 9 * 10', '0 * 1 * 2 * 3 * 4 * 6 * 9', '0 * 1 * 6 * 8 * 9 * 10 * 11', '0 * 1 * 2 * 3 * 7 * 9 * 10', '0 * 1 * 3 * 5 * 7 * 8 * 9', '0 * 1 * 2 * 3 * 8 * 9 * 10', '0 * 1 * 2 * 4 * 8 * 9 * 10', '0 * 4 * 5 * 6 * 8 * 10 * 11', '0 * 2 * 4 * 7 * 9 * 10 * 11', '0 * 5 * 6 * 8 * 9 * 10 * 11', '0 * 2 * 3 * 4 * 5 * 8 * 10', '0 * 3 * 4 * 7 * 9 * 10 * 11', '0 * 1 * 2 * 3 * 4 * 8 * 9', '0 * 2 * 3 * 4 * 6 * 7 * 10', '0 * 1 * 4 * 5 * 7 * 8 * 11', '0 * 4 * 7 * 8 * 9 * 10 * 11', '0 * 1 * 2 * 3 * 4 * 7 * 10 * 11', '0 * 1 * 2 * 3 * 6 * 8 * 9 * 10', '0 * 1 * 4 * 5 * 7 * 8 * 10 * 11', '0 * 1 * 3 * 7 * 8 * 9 * 10 * 11', '0 * 4 * 6 * 7 * 8 * 9 * 10 * 11', '0 * 1 * 2 * 4 * 7 * 8 * 9 * 11', '0 * 1 * 3 * 4 * 6 * 7 * 9 * 10', '0 * 2 * 5 * 6 * 7 * 8 * 9 * 10', '0 * 1 * 3 * 4 * 5 * 6 * 10 * 11', '0 * 3 * 5 * 6 * 7 * 8 * 9 * 11', '0 * 1 * 5 * 6 * 7 * 8 * 9 * 11', '0 * 2 * 5 * 6 * 7 * 8 * 9 * 11', '0 * 1 * 2 * 3 * 5 * 6 * 8 * 10', '0 * 2 * 4 * 6 * 7 * 8 * 10 * 11', '0 * 2 * 4 * 5 * 6 * 8 * 9 * 10', '0 * 1 * 2 * 4 * 6 * 8 * 9 * 10', '0 * 1 * 2 * 4 * 5 * 6 * 8 * 9', '0 * 2 * 3 * 4 * 5 * 7 * 9 * 11', '0 * 1 * 2 * 3 * 5 * 6 * 7 * 8', '0 * 1 * 2 * 5 * 6 * 8 * 10 * 11', '0 * 1 * 4 * 5 * 6 * 7 * 8 * 11', '0 * 1 * 2 * 3 * 4 * 8 * 9 * 10', '0 * 1 * 3 * 6 * 7 * 8 * 10 * 11', '0 * 2 * 3 * 4 * 5 * 6 * 8 * 10', '0 * 1 * 2 * 3 * 4 * 6 * 8 * 9', '0 * 2 * 3 * 4 * 6 * 7 * 8 * 10', '0 * 1 * 2 * 3 * 4 * 9 * 10 * 11', '0 * 1 * 3 * 5 * 7 * 8 * 9 * 10', '0 * 1 * 2 * 3 * 4 * 6 * 8 * 11', '0 * 1 * 2 * 5 * 6 * 7 * 8 * 9', '0 * 2 * 3 * 5 * 6 * 7 * 9 * 11', '0 * 2 * 3 * 4 * 5 * 7 * 9 * 10', '0 * 1 * 4 * 6 * 8 * 9 * 10 * 11', '0 * 2 * 4 * 6 * 7 * 8 * 9 * 11', '0 * 1 * 2 * 3 * 5 * 9 * 10 * 11', '0 * 3 * 4 * 5 * 7 * 8 * 9 * 10 * 11', '0 * 1 * 4 * 5 * 7 * 8 * 9 * 10 * 11', '0 * 1 * 2 * 3 * 5 * 6 * 7 * 9 * 11', '0 * 2 * 3 * 4 * 7 * 8 * 9 * 10 * 11', '0 * 1 * 3 * 4 * 5 * 6 * 7 * 8 * 11', '0 * 1 * 2 * 3 * 4 * 5 * 8 * 9 * 10', '0 * 1 * 2 * 3 * 5 * 8 * 9 * 10 * 11', '0 * 1 * 3 * 4 * 5 * 8 * 9 * 10 * 11', '0 * 1 * 2 * 5 * 7 * 8 * 9 * 10 * 11', '0 * 2 * 3 * 5 * 6 * 7 * 8 * 9 * 11', '0 * 1 * 4 * 6 * 7 * 8 * 9 * 10 * 11', '0 * 1 * 3 * 4 * 7 * 8 * 9 * 10 * 11', '0 * 1 * 4 * 5 * 6 * 8 * 9 * 10 * 11', '0 * 1 * 2 * 5 * 6 * 7 * 8 * 9 * 11', '0 * 1 * 2 * 3 * 4 * 7 * 8 * 9 * 11', '0 * 1 * 2 * 3 * 4 * 5 * 7 * 9 * 10', '0 * 1 * 3 * 4 * 5 * 6 * 7 * 9 * 10', '0 * 1 * 2 * 3 * 4 * 5 * 6 * 7 * 8', '0 * 1 * 2 * 5 * 6 * 7 * 8 * 9 * 10 * 11', '0 * 1 * 2 * 3 * 4 * 5 * 6 * 7 * 9 * 10', '0 * 1 * 2 * 3 * 4 * 5 * 6 * 7 * 8 * 10', '0 * 3 * 4 * 5 * 6 * 7 * 8 * 9 * 10 * 11', '0 * 1 * 2 * 4 * 5 * 6 * 7 * 9 * 10 * 11', '0 * 1 * 2 * 3 * 4 * 5 * 6 * 7 * 10 * 11', '0 * 1 * 2 * 3 * 4 * 5 * 7 * 8 * 10 * 11', '0 * 1 * 2 * 3 * 4 * 5 * 7 * 8 * 9 * 11', '0 * 1 * 2 * 4 * 5 * 6 * 7 * 8 * 10 * 11', '0 * 1 * 2 * 4 * 5 * 6 * 8 * 9 * 10 * 11', '0 * 1 * 2 * 3 * 4 * 5 * 6 * 7 * 8 * 9 * 10', '0 * 1 * 2 * 3 * 4 * 5 * 6 * 7 * 8 * 9 * 10 * 11']\n",
      "<statsmodels.regression.linear_model.RegressionResultsWrapper object at 0x298418910>\n",
      "0.135009765625\n",
      "none\n",
      "0\n",
      "0.13427734375\n",
      "none\n",
      "0\n",
      "0.13232421875\n",
      "none\n",
      "0\n",
      "0.13427734375\n",
      "4\n",
      "mse forward: 0.1683456974281956\n",
      " mse lasso: 0.41767407655715943\n",
      " 01 forward: 0.035205078125\n",
      " 01 lasso: 0.13291015625\n",
      "0.16280973386122943\n",
      "0.20424338257036592\n"
     ]
    }
   ],
   "source": [
    "from itertools import combinations\n",
    "import warnings\n",
    "warnings.filterwarnings('ignore')\n",
    "from sklearn.metrics import zero_one_loss\n",
    "#     print(model_forward.params[0])\n",
    "    # Assume maximum number of features\n",
    "def get_map(k):\n",
    "    max_features = k\n",
    "\n",
    "    # Generate all possible combinations of features and interactions\n",
    "    all_combinations = []\n",
    "    for r in range(1, max_features + 1):\n",
    "        all_combinations.extend(combinations(range(max_features), r))\n",
    "\n",
    "    # Create mapping of feature combinations to indices\n",
    "    index_map = {' * '.join(map(str, comb)): idx+1 for idx, comb in enumerate(all_combinations)}\n",
    "    return index_map\n",
    "def reorder_coef(index_map, model,k):\n",
    "    polynomial_array = np.zeros((2**k))\n",
    "    terms = [str(term) for term in model.params.index]\n",
    "    coefficients = [coef for coef in model.params]\n",
    "    # Assign coefficients to their mapped indices\n",
    "    for term, coeff in zip(terms, coefficients):\n",
    "        index = index_map[term]\n",
    "        polynomial_array[index] = coeff\n",
    "    return polynomial_array\n",
    "\n",
    "k = 12\n",
    "mse_y_for = 0\n",
    "mse_y_lasso_sum=0\n",
    "mse_forward_sum = 0\n",
    "mse_lasso_sum = 0\n",
    "zo_forward_sum=0\n",
    "zo_lasso_sum = 0\n",
    "miss_count = 0\n",
    "for seed in [0,1,2,3,4]:\n",
    "    model_forward, model_lasso, beta, mse_y_forward, mse_y_lasso = run_multiple(k,3000, seed)\n",
    "    index_map = get_map(k)\n",
    "    mse_lasso_sum += np.linalg.norm(model_lasso.coef_ - beta)\n",
    "    print(model_forward)\n",
    "    if model_forward !=0:\n",
    "        pass\n",
    "        forward_coef = reorder_coef(index_map, model_forward,k)\n",
    "        mse_forward_sum += np.linalg.norm(forward_coef- beta)\n",
    "        beta[beta!=0] = 1\n",
    "        forward_coef[forward_coef!=0] = 1\n",
    "        zo_forward_sum += zero_one_loss(forward_coef, beta)\n",
    "    else:\n",
    "        miss_count +=1\n",
    "    \n",
    "    lasso_beta = model_lasso.coef_\n",
    "    lasso_beta[lasso_beta!=0] = 1\n",
    "    beta[beta!=0] = 1\n",
    "    zo_lasso_sum += zero_one_loss(lasso_beta, beta)\n",
    "    print(zero_one_loss(lasso_beta, beta))\n",
    "    mse_y_for += mse_y_forward\n",
    "    mse_y_lasso_sum += mse_y_lasso\n",
    "print(miss_count)\n",
    "print(f'mse forward: {mse_forward_sum/(5)}\\n mse lasso: {mse_lasso_sum/5}\\n 01 forward: {zo_forward_sum/(5)}\\n 01 lasso: {zo_lasso_sum/5}')\n",
    "print(mse_y_for/(5))\n",
    "print(mse_y_lasso_sum/5)\n",
    "    \n"
   ]
  },
  {
   "cell_type": "code",
   "execution_count": null,
   "metadata": {},
   "outputs": [],
   "source": []
  },
  {
   "cell_type": "code",
   "execution_count": 356,
   "metadata": {},
   "outputs": [],
   "source": [
    "#generate ddict\n"
   ]
  },
  {
   "cell_type": "code",
   "execution_count": 340,
   "metadata": {},
   "outputs": [
    {
     "name": "stdout",
     "output_type": "stream",
     "text": [
      "[ 0.         -0.1587853  -0.14058747 -0.74944532  0.          0.\n",
      "  0.          0.24844027  0.07426817  0.          0.          0.\n",
      "  0.         -0.22648627  0.0899207   0.        ]\n"
     ]
    }
   ],
   "source": [
    "\n",
    "\n",
    "print(polynomial_array)"
   ]
  },
  {
   "cell_type": "markdown",
   "metadata": {},
   "source": [
    "# archive\n"
   ]
  },
  {
   "cell_type": "code",
   "execution_count": null,
   "metadata": {},
   "outputs": [],
   "source": [
    "# def interactions(X, y, p_value, original_features, sig_features, kept_features, i):\n",
    "    \n",
    "#     combo_features = []\n",
    "#     if i == 0:\n",
    "#         for feature1, feature2 in combinations(original_features,2):\n",
    "#             # print(feature1, feature2)\n",
    "#             X[f\"{feature1}*{feature2}\"] = X[feature1] * X[feature2]\n",
    "#             combo_features.append(f\"{feature1}*{feature2}\")\n",
    "#     else:\n",
    "#         for feature1 in original_features:\n",
    "#             for feature2 in kept_features:\n",
    "#                 if str(feature1) in str(feature2):\n",
    "#                     continue\n",
    "#                 else:\n",
    "#                     X[f\"{feature1},{feature2}\"] = X[feature1] * X[feature2]\n",
    "#     kept_features = []\n",
    "#     # print(y)\n",
    "#     while True:\n",
    "#         remaining_features = list(set(combo_features) - set(kept_features))\n",
    "\n",
    "#         new_pval = pd.Series(index=remaining_features)\n",
    "        \n",
    "#         for new_column in remaining_features:\n",
    "#             # print(X[kept_features + [new_column]])\n",
    "#             test_columns = list(set(sig_features) | set([new_column]) | set(kept_features))\n",
    "#             model = sm.OLS(y, sm.add_constant(X[test_columns])).fit(disp=0)\n",
    "#             new_pval[new_column] = model.pvalues[new_column]\n",
    "        \n",
    "#         min_p_value = new_pval.min()\n",
    "#         if min_p_value < p_value:\n",
    "#             kept_features.append(new_pval.idxmin())\n",
    "#         else:\n",
    "#             break\n",
    "#     return kept_features"
   ]
  },
  {
   "cell_type": "code",
   "execution_count": null,
   "metadata": {},
   "outputs": [],
   "source": [
    "def forward_selection(X, y, p_value):\n",
    "    kept_features = []\n",
    "    total_features = X.columns.tolist()\n",
    "\n",
    "\n",
    "    while True:\n",
    "        remaining_features = list(set(total_features) - set(kept_features))\n",
    "\n",
    "        new_pval = pd.Series(index=remaining_features)\n",
    "        \n",
    "        for new_column in remaining_features:\n",
    "            # print(X[kept_features + [new_column]])\n",
    "            test_columns = list(set([new_column]) | set(kept_features))\n",
    "            model = sm.OLS(y, sm.add_constant(X[test_columns])).fit(disp=0)\n",
    "            new_pval[new_column] = model.pvalues[new_column]\n",
    "        \n",
    "        min_p_value = new_pval.min()\n",
    "        if min_p_value < p_value:\n",
    "            kept_features.append(new_pval.idxmin())\n",
    "        else:\n",
    "            break\n",
    "    return kept_features\n",
    "def interactions(X, y, p_value, original_features, sig_features, kept_features, i):\n",
    "    \n",
    "    combo_features = []\n",
    "    if i == 0:\n",
    "        for feature1, feature2 in combinations(original_features,2):\n",
    "            # print(feature1, feature2)\n",
    "            X[f\"{feature1}*{feature2}\"] = X[feature1] * X[feature2]\n",
    "            combo_features.append(f\"{feature1}*{feature2}\")\n",
    "    else:\n",
    "        for feature1 in original_features:\n",
    "            for feature2 in kept_features:\n",
    "                if str(feature1) in str(feature2):\n",
    "                    continue\n",
    "                else:\n",
    "                    X[f\"{feature1},{feature2}\"] = X[feature1] * X[feature2]\n",
    "    kept_features = []\n",
    "    # print(y)\n",
    "    while True:\n",
    "        remaining_features = list(set(combo_features) - set(kept_features))\n",
    "\n",
    "        new_pval = pd.Series(index=remaining_features)\n",
    "        \n",
    "        for new_column in remaining_features:\n",
    "            # print(X[kept_features + [new_column]])\n",
    "            test_columns = list(set(sig_features) | set([new_column]) | set(kept_features))\n",
    "            model = sm.OLS(y, sm.add_constant(X[test_columns])).fit(disp=0)\n",
    "            new_pval[new_column] = model.pvalues[new_column]\n",
    "        \n",
    "        min_p_value = new_pval.min()\n",
    "        if min_p_value < p_value:\n",
    "            kept_features.append(new_pval.idxmin())\n",
    "        else:\n",
    "            break\n",
    "    return kept_features"
   ]
  },
  {
   "cell_type": "code",
   "execution_count": 185,
   "metadata": {},
   "outputs": [],
   "source": [
    "k=2\n",
    "fm = FM.FactorialModel(\n",
    "    n=120,\n",
    "    k=k,\n",
    "    degree=k,\n",
    "    sigma=0.1,\n",
    "    sparsity=0.5,\n",
    "    beta_seed=1,\n",
    "    antiheredity=False\n",
    ")\n",
    "t, y = fm.sample(seed=0, contrast_coding = True)\n"
   ]
  },
  {
   "cell_type": "code",
   "execution_count": 186,
   "metadata": {},
   "outputs": [
    {
     "name": "stdout",
     "output_type": "stream",
     "text": [
      "[ 0.          0.          0.24578804 -0.96932364]\n"
     ]
    }
   ],
   "source": [
    "t_train, t_test, y_train, y_test = train_test_split(t, y, test_size=0.01, random_state=40)\n",
    "alpha_cv = [0.001, 0.01, 0.1, 0.5]\n",
    "model = LassoCV(alphas=alpha_cv, cv=5, random_state=40, max_iter=10000)\n",
    "model.fit(t_train, y_train)\n",
    "# print(f'alpha={model.alpha_}\\nbetas={model.coef_}')\n",
    "y_pred = model.predict(t_test)\n",
    "mse = mean_squared_error(y_test, y_pred)\n",
    "# print(f\"Mean Squared Error of y: {mse}\")\n",
    "beta_actual = fm.beta\n",
    "beta_hat = model.coef_\n",
    "# beta_hat[beta_hat != 0] = 1\n",
    "# beta_actual[beta_actual != 0] = 1\n",
    "# mse_beta= zero_one_loss(beta_actual, beta_hat)\n",
    "print(beta_actual)"
   ]
  },
  {
   "cell_type": "code",
   "execution_count": 187,
   "metadata": {},
   "outputs": [
    {
     "ename": "TypeError",
     "evalue": "forward_selection() missing 1 required positional argument: 'degree'",
     "output_type": "error",
     "traceback": [
      "\u001b[0;31m---------------------------------------------------------------------------\u001b[0m",
      "\u001b[0;31mTypeError\u001b[0m                                 Traceback (most recent call last)",
      "Cell \u001b[0;32mIn[187], line 5\u001b[0m\n\u001b[1;32m      3\u001b[0m T_train \u001b[38;5;241m=\u001b[39m pd\u001b[38;5;241m.\u001b[39mDataFrame(T_train)\n\u001b[1;32m      4\u001b[0m y_train \u001b[38;5;241m=\u001b[39m pd\u001b[38;5;241m.\u001b[39mDataFrame(y_train)\n\u001b[0;32m----> 5\u001b[0m kept_features \u001b[38;5;241m=\u001b[39m \u001b[43mforward_selection\u001b[49m\u001b[43m(\u001b[49m\u001b[43mT_train\u001b[49m\u001b[43m,\u001b[49m\u001b[43m \u001b[49m\u001b[43my_train\u001b[49m\u001b[43m,\u001b[49m\u001b[43m \u001b[49m\u001b[38;5;241;43m0.05\u001b[39;49m\u001b[43m)\u001b[49m\n\u001b[1;32m      6\u001b[0m \u001b[38;5;28mprint\u001b[39m(kept_features)\n\u001b[1;32m      8\u001b[0m original_features \u001b[38;5;241m=\u001b[39m kept_features\n",
      "\u001b[0;31mTypeError\u001b[0m: forward_selection() missing 1 required positional argument: 'degree'"
     ]
    }
   ],
   "source": [
    "#forward selection\n",
    "T_train, T_test, y_train, y_test = train_test_split(t, y, test_size=0.01, random_state=40)\n",
    "T_train = pd.DataFrame(T_train)\n",
    "y_train = pd.DataFrame(y_train)\n",
    "kept_features = forward_selection(T_train, y_train, 0.05)\n",
    "print(kept_features)\n",
    "\n",
    "original_features = kept_features\n",
    "for i in range(k):\n",
    "    int_features = interactions(T_train, y_train, 0.05, original_features, kept_features, i)\n",
    "    print(int_features)\n",
    "    if len(int_features) > 0:\n",
    "        original_features.extend(int_features)\n",
    "print(original_features)\n",
    "model = sm.OLS(y_train, sm.add_constant(T_train[original_features])).fit(disp=0)\n",
    "print(model.params)\n"
   ]
  },
  {
   "cell_type": "code",
   "execution_count": 188,
   "metadata": {},
   "outputs": [
    {
     "name": "stdout",
     "output_type": "stream",
     "text": [
      "[ 0.        -0.         0.2049138 -0.9379139]\n"
     ]
    }
   ],
   "source": [
    "#lasso\n",
    "pf = preprocessing.PolynomialFeatures(\n",
    "degree=k, interaction_only=True, include_bias=True,\n",
    ")\n",
    "T = pf.fit_transform(t)\n",
    "\n",
    "t_train, t_test, y_train, y_test = train_test_split(T, y, test_size=0.01, random_state=40)\n",
    "alpha_cv = [0.001, 0.01, 0.1, 0.5]\n",
    "model = Lasso(alpha=0.03, max_iter=10000)\n",
    "model.fit(t_train, y_train)\n",
    "print(model.coef_)"
   ]
  },
  {
   "cell_type": "code",
   "execution_count": 189,
   "metadata": {},
   "outputs": [
    {
     "ename": "NameError",
     "evalue": "name 'zero_one_loss' is not defined",
     "output_type": "error",
     "traceback": [
      "\u001b[0;31m---------------------------------------------------------------------------\u001b[0m",
      "\u001b[0;31mNameError\u001b[0m                                 Traceback (most recent call last)",
      "Cell \u001b[0;32mIn[189], line 5\u001b[0m\n\u001b[1;32m      3\u001b[0m beta_real \u001b[38;5;241m=\u001b[39m beta_actual\n\u001b[1;32m      4\u001b[0m beta_real[beta_real\u001b[38;5;241m!=\u001b[39m\u001b[38;5;241m0\u001b[39m] \u001b[38;5;241m=\u001b[39m\u001b[38;5;241m1\u001b[39m\n\u001b[0;32m----> 5\u001b[0m \u001b[38;5;28mprint\u001b[39m(\u001b[43mzero_one_loss\u001b[49m(beta_real,model_beta))\n",
      "\u001b[0;31mNameError\u001b[0m: name 'zero_one_loss' is not defined"
     ]
    }
   ],
   "source": [
    "model_beta = model.coef_\n",
    "model_beta[model_beta!=0] = 1\n",
    "beta_real = beta_actual\n",
    "beta_real[beta_real!=0] =1\n",
    "print(zero_one_loss(beta_real,model_beta))\n"
   ]
  },
  {
   "cell_type": "code",
   "execution_count": null,
   "metadata": {},
   "outputs": [],
   "source": []
  }
 ],
 "metadata": {
  "kernelspec": {
   "display_name": "Python 3 (ipykernel)",
   "language": "python",
   "name": "python3"
  },
  "language_info": {
   "codemirror_mode": {
    "name": "ipython",
    "version": 3
   },
   "file_extension": ".py",
   "mimetype": "text/x-python",
   "name": "python",
   "nbconvert_exporter": "python",
   "pygments_lexer": "ipython3",
   "version": "3.12.2"
  },
  "vscode": {
   "interpreter": {
    "hash": "eebfdbda06c0fad39ac275854ff2a899db249160fd4d105286e33d75d7d6841a"
   }
  }
 },
 "nbformat": 4,
 "nbformat_minor": 2
}
