{
 "cells": [
  {
   "cell_type": "markdown",
   "metadata": {},
   "source": [
    "## Lasso regression for sparse data"
   ]
  },
  {
   "cell_type": "code",
   "execution_count": 236,
   "metadata": {},
   "outputs": [
    {
     "name": "stdout",
     "output_type": "stream",
     "text": [
      "The autoreload extension is already loaded. To reload it, use:\n",
      "  %reload_ext autoreload\n"
     ]
    }
   ],
   "source": [
    "%load_ext autoreload\n",
    "%autoreload 2"
   ]
  },
  {
   "cell_type": "code",
   "execution_count": 336,
   "metadata": {},
   "outputs": [],
   "source": [
    "import numpy as np\n",
    "import pandas as pd\n",
    "import seaborn as sns\n",
    "import statsmodels.api as sm\n",
    "import class_FM as FM\n",
    "from sklearn import preprocessing\n",
    "from sklearn.linear_model import Lasso, LassoCV\n",
    "from sklearn.model_selection import train_test_split\n",
    "from sklearn.cluster import KMeans\n",
    "from sklearn.metrics import mean_squared_error\n",
    "import matplotlib.pyplot as plt\n",
    "import math\n",
    "from itertools import combinations"
   ]
  },
  {
   "cell_type": "markdown",
   "metadata": {},
   "source": [
    "### Initialize factorial model and sample dataset for k=3"
   ]
  },
  {
   "cell_type": "code",
   "execution_count": 239,
   "metadata": {},
   "outputs": [],
   "source": [
    "n = 1000\n",
    "k = 3\n",
    "degree = 3\n",
    "sigma = 0.1\n",
    "sparsity = 0.5\n",
    "\n",
    "fm = FM.FactorialModel(\n",
    "    n=n,\n",
    "    k=k,\n",
    "    degree=degree,\n",
    "    sigma=sigma,\n",
    "    sparsity=sparsity,\n",
    "    beta_seed=42,\n",
    ")\n",
    "t, y = fm.sample(seed=0)\n"
   ]
  },
  {
   "cell_type": "markdown",
   "metadata": {},
   "source": [
    "### Fit Lasso regression with cross validation for alpha"
   ]
  },
  {
   "cell_type": "code",
   "execution_count": 240,
   "metadata": {},
   "outputs": [
    {
     "name": "stdout",
     "output_type": "stream",
     "text": [
      "alpha=0.001\n",
      "betas=[ 0.         -0.4637748   0.          0.00316042 -0.86222917 -0.00868506\n",
      "  0.03107935 -0.11330512]\n",
      "Mean Squared Error of y: 0.010163565628389128\n",
      "Mean Squared Error of beta: 0.00020646901975851506\n"
     ]
    }
   ],
   "source": [
    "pf = preprocessing.PolynomialFeatures(\n",
    "    degree=degree, interaction_only=True, include_bias=True,\n",
    ")\n",
    "T = pf.fit_transform(t)\n",
    "T_train, T_test, y_train, y_test = train_test_split(T, y, test_size=0.2, random_state=42)\n",
    "alpha_cv = [0.001, 0.01, 0.1, 0.5]\n",
    "model = LassoCV(alphas=alpha_cv, cv=5, random_state=42)\n",
    "model.fit(T_train, y_train)\n",
    "print(f'alpha={model.alpha_}\\nbetas={model.coef_}')\n",
    "\n",
    "y_pred = model.predict(T_test)\n",
    "mse = mean_squared_error(y_test, y_pred)\n",
    "print(f\"Mean Squared Error of y: {mse}\")\n",
    "\n",
    "beta_actual = fm.beta\n",
    "beta_hat = model.coef_\n",
    "mse_beta = mean_squared_error(beta_actual, beta_hat)\n",
    "print(f\"Mean Squared Error of beta: {mse_beta}\")"
   ]
  },
  {
   "cell_type": "markdown",
   "metadata": {},
   "source": [
    "### Compute expected outcomes as linear combinations of betas"
   ]
  },
  {
   "cell_type": "code",
   "execution_count": 241,
   "metadata": {},
   "outputs": [
    {
     "name": "stdout",
     "output_type": "stream",
     "text": [
      "expected_outcomes=[ 0.   -0.46  0.    0.   -1.33 -0.47  0.03 -1.41]\n"
     ]
    }
   ],
   "source": [
    "betas = model.coef_\n",
    "beta_mask = pf.fit_transform(pf.powers_)\n",
    "expected_outcomes = beta_mask @ betas\n",
    "print(f'expected_outcomes={np.round(expected_outcomes,2)}')"
   ]
  },
  {
   "cell_type": "markdown",
   "metadata": {},
   "source": [
    "### Cluster treatment combinations by expected outcomes"
   ]
  },
  {
   "cell_type": "code",
   "execution_count": 242,
   "metadata": {},
   "outputs": [
    {
     "name": "stdout",
     "output_type": "stream",
     "text": [
      "Max clusters: 1; cluster labels: [0 0 0 0 0 0 0 0]; score: -2.54\n",
      "Max clusters: 2; cluster labels: [1 1 1 1 0 1 1 0]; score: -0.31\n",
      "Max clusters: 3; cluster labels: [1 2 1 1 0 2 1 0]; score: -0.00\n",
      "Max clusters: 4; cluster labels: [1 2 1 1 0 2 1 3]; score: -0.00\n",
      "Max clusters: 5; cluster labels: [1 2 1 1 0 2 4 3]; score: -0.00\n",
      "Max clusters: 6; cluster labels: [1 5 1 1 0 2 4 3]; score: -0.00\n",
      "Max clusters: 7; cluster labels: [6 5 6 1 0 2 4 3]; score: -0.00\n"
     ]
    }
   ],
   "source": [
    "for i in range(1, 2**k):\n",
    "    kmeans = KMeans(n_clusters=i, random_state=0).fit(expected_outcomes.reshape(-1, 1))\n",
    "    score = kmeans.score(expected_outcomes.reshape(-1, 1))\n",
    "    print(f'Max clusters: {i}; cluster labels: {kmeans.labels_}; score: {score:.2f}')"
   ]
  },
  {
   "cell_type": "markdown",
   "metadata": {},
   "source": [
    "### Plot betas and expected outcomes"
   ]
  },
  {
   "cell_type": "code",
   "execution_count": 243,
   "metadata": {},
   "outputs": [
    {
     "data": {
      "image/png": "[encoded data removed]",
      "text/plain": [
       "<Figure size 640x480 with 1 Axes>"
      ]
     },
     "metadata": {},
     "output_type": "display_data"
    }
   ],
   "source": [
    "_ = sns.barplot(\n",
    "    x=[\n",
    "        r\"0\",\n",
    "        r\"$t_1$\",\n",
    "        r\"$t_2$\",\n",
    "        r\"$t_3$\",\n",
    "        r\"$t_1 t_2$\",\n",
    "        r\"$t_1 t_3$\",\n",
    "        r\"$t_2 t_3$\",\n",
    "        r\"$t_1 t_2 t_3$\",\n",
    "    ],\n",
    "    y=betas,\n",
    "    alpha=0.5,\n",
    "    label=r\"$\\beta$\",\n",
    ")\n",
    "\n",
    "_ = sns.barplot(\n",
    "    x=[\n",
    "        r\"0\",\n",
    "        r\"$t_1$\",\n",
    "        r\"$t_2$\",\n",
    "        r\"$t_3$\",\n",
    "        r\"$t_1 t_2$\",\n",
    "        r\"$t_1 t_3$\",\n",
    "        r\"$t_2 t_3$\",\n",
    "        r\"$t_1 t_2 t_3$\",\n",
    "    ],\n",
    "    y=expected_outcomes,\n",
    "    alpha=0.5,\n",
    "    label=r\"E[Y|T]\",\n",
    ")"
   ]
  },
  {
   "cell_type": "markdown",
   "metadata": {},
   "source": [
    "### Factorial model and sample dataset for k=4"
   ]
  },
  {
   "cell_type": "code",
   "execution_count": 244,
   "metadata": {},
   "outputs": [],
   "source": [
    "n = 1000\n",
    "k = 4\n",
    "degree = 4\n",
    "sigma = 0.1\n",
    "sparsity = 0.5\n",
    "\n",
    "fm = FM.FactorialModel(\n",
    "    n=n,\n",
    "    k=k,\n",
    "    degree=degree,\n",
    "    sigma=sigma,\n",
    "    sparsity=sparsity,\n",
    "    beta_seed=42,\n",
    ")\n",
    "t, y = fm.sample(seed=0)"
   ]
  },
  {
   "cell_type": "code",
   "execution_count": 245,
   "metadata": {},
   "outputs": [
    {
     "name": "stdout",
     "output_type": "stream",
     "text": [
      "alpha=0.001\n",
      "betas=[ 0.         -0.543451    0.3862214   0.4831172   0.         -0.01750211\n",
      "  0.06066966 -0.15994355  0.00780474  0.01052252  0.01000153 -0.\n",
      " -0.01050108 -0.          0.18682475 -0.41272694]\n",
      "Mean Squared Error of y: 0.009933492641711969\n",
      "Mean Squared Error of beta: 0.0003990872937720269\n"
     ]
    }
   ],
   "source": [
    "# Fit Lasso regression with cross validation for alpha\n",
    "pf = preprocessing.PolynomialFeatures(\n",
    "    degree=degree, interaction_only=True, include_bias=True,\n",
    ")\n",
    "T = pf.fit_transform(t)\n",
    "T_train, T_test, y_train, y_test = train_test_split(T, y, test_size=0.2, random_state=42)\n",
    "alpha_cv = [0.001, 0.01, 0.1, 0.5]\n",
    "model = LassoCV(alphas=alpha_cv, cv=5, random_state=42)\n",
    "model.fit(T_train, y_train)\n",
    "print(f'alpha={model.alpha_}\\nbetas={model.coef_}')\n",
    "\n",
    "y_pred = model.predict(T_test)\n",
    "mse = mean_squared_error(y_test, y_pred)\n",
    "print(f\"Mean Squared Error of y: {mse}\")\n",
    "\n",
    "beta_actual = fm.beta\n",
    "beta_hat = model.coef_\n",
    "mse_beta = mean_squared_error(beta_actual, beta_hat)\n",
    "print(f\"Mean Squared Error of beta: {mse_beta}\")"
   ]
  },
  {
   "cell_type": "code",
   "execution_count": 246,
   "metadata": {},
   "outputs": [
    {
     "name": "stdout",
     "output_type": "stream",
     "text": [
      "expected_outcomes=[ 0.   -0.54  0.39  0.48  0.   -0.17  0.   -0.7   0.88  0.4   0.49  0.38\n",
      " -0.33 -0.15  1.08  0.  ]\n"
     ]
    }
   ],
   "source": [
    "# Compute expected outcomes as linear combinations of betas\n",
    "betas = model.coef_\n",
    "beta_mask = pf.fit_transform(pf.powers_)\n",
    "expected_outcomes = beta_mask @ betas\n",
    "print(f'expected_outcomes={np.round(expected_outcomes,2)}')"
   ]
  },
  {
   "cell_type": "code",
   "execution_count": 247,
   "metadata": {},
   "outputs": [
    {
     "name": "stdout",
     "output_type": "stream",
     "text": [
      "(16,) (16,)\n"
     ]
    }
   ],
   "source": [
    "print(betas.shape, expected_outcomes.shape)"
   ]
  },
  {
   "cell_type": "code",
   "execution_count": 248,
   "metadata": {},
   "outputs": [
    {
     "name": "stdout",
     "output_type": "stream",
     "text": [
      "Max clusters: 1; cluster labels: [0 0 0 0 0 0 0 0 0 0 0 0 0 0 0 0]; score: -3.53\n",
      "Max clusters: 2; cluster labels: [0 0 1 1 0 0 0 0 1 1 1 1 0 0 1 0]; score: -1.02\n",
      "Max clusters: 3; cluster labels: [2 0 1 1 2 2 2 0 1 1 1 1 0 2 1 2]; score: -0.58\n",
      "Max clusters: 4; cluster labels: [3 0 1 1 3 3 3 0 2 1 1 1 0 3 2 3]; score: -0.14\n",
      "Max clusters: 5; cluster labels: [3 4 1 1 3 0 3 4 2 1 1 1 0 0 2 3]; score: -0.07\n",
      "Max clusters: 6; cluster labels: [0 3 2 2 0 4 0 3 5 2 2 2 4 4 1 0]; score: -0.05\n",
      "Max clusters: 7; cluster labels: [3 4 1 1 3 5 3 4 6 1 1 1 0 5 2 3]; score: -0.03\n",
      "Max clusters: 8; cluster labels: [4 6 2 2 4 1 4 3 0 2 2 2 7 1 5 4]; score: -0.01\n",
      "Max clusters: 9; cluster labels: [2 8 7 1 2 5 2 4 3 7 1 7 0 5 6 2]; score: -0.00\n",
      "Max clusters: 10; cluster labels: [2 8 7 1 2 5 2 4 3 7 1 7 0 9 6 2]; score: -0.00\n",
      "Max clusters: 11; cluster labels: [ 2  8  7  1  2  5  2  4  3 10  1  7  0  9  6  2]; score: -0.00\n",
      "Max clusters: 12; cluster labels: [ 2  8  7 11  2  5  2  4  3 10  1  7  0  9  6  2]; score: -0.00\n",
      "Max clusters: 13; cluster labels: [ 2  8  7 11  2  5  2  4  3 10  1 12  0  9  6  2]; score: -0.00\n",
      "Max clusters: 14; cluster labels: [ 2  8  7 11  2  5  2  4  3 10  1 12  0  9  6 13]; score: -0.00\n",
      "Max clusters: 15; cluster labels: [ 2  8  7 11  2  5 14  4  3 10  1 12  0  9  6 13]; score: -0.00\n"
     ]
    }
   ],
   "source": [
    "# Cluster treatment combinations by expected outcomes\n",
    "for i in range(1, 2**k):\n",
    "    kmeans = KMeans(n_clusters=i, random_state=0).fit(expected_outcomes.reshape(-1, 1))\n",
    "    score = kmeans.score(expected_outcomes.reshape(-1, 1))\n",
    "    print(f'Max clusters: {i}; cluster labels: {kmeans.labels_}; score: {score:.2f}')"
   ]
  },
  {
   "cell_type": "code",
   "execution_count": 249,
   "metadata": {},
   "outputs": [
    {
     "data": {
      "image/png": "[encoded data removed]",
      "text/plain": [
       "<Figure size 640x480 with 1 Axes>"
      ]
     },
     "metadata": {},
     "output_type": "display_data"
    }
   ],
   "source": [
    "# Plot betas and expected outcomes\n",
    "_ = sns.barplot(\n",
    "    x=[\n",
    "        r\"0\",\n",
    "        r\"$t_1$\",\n",
    "        r\"$t_2$\",\n",
    "        r\"$t_3$\",\n",
    "        r\"$t_4$\",\n",
    "        r\"$t_1 t_2$\",\n",
    "        r\"$t_1 t_3$\",\n",
    "        r\"$t_1 t_4$\",\n",
    "        r\"$t_2 t_3$\",\n",
    "        r\"$t_2 t_4$\",\n",
    "        r\"$t_3 t_4$\",\n",
    "        r\"$t_1 t_2 t_3$\",\n",
    "        r\"$t_1 t_2 t_4$\",\n",
    "        r\"$t_1 t_3 t_4$\",\n",
    "        r\"$t_2 t_3 t_4$\",\n",
    "        r\"$t_1 t_2 t_3 t_4$\",\n",
    "    ],\n",
    "    y=betas,\n",
    "    alpha=0.5,\n",
    "    label=r\"$\\beta$\",\n",
    ")\n",
    "\n",
    "_ = sns.barplot(\n",
    "    x=[\n",
    "        r\"0\",\n",
    "        r\"$t_1$\",\n",
    "        r\"$t_2$\",\n",
    "        r\"$t_3$\",\n",
    "        r\"$t_4$\",\n",
    "        r\"$t_1 t_2$\",\n",
    "        r\"$t_1 t_3$\",\n",
    "        r\"$t_1 t_4$\",\n",
    "        r\"$t_2 t_3$\",\n",
    "        r\"$t_2 t_4$\",\n",
    "        r\"$t_3 t_4$\",\n",
    "        r\"$t_1 t_2 t_3$\",\n",
    "        r\"$t_1 t_2 t_4$\",\n",
    "        r\"$t_1 t_3 t_4$\",\n",
    "        r\"$t_2 t_3 t_4$\",\n",
    "        r\"$t_1 t_2 t_3 t_4$\",\n",
    "    ],\n",
    "    y=expected_outcomes,\n",
    "    alpha=0.5,\n",
    "    label=r\"E[Y|T]\",\n",
    ")"
   ]
  },
  {
   "cell_type": "markdown",
   "metadata": {},
   "source": [
    "### Factorial model and sample dataset for k=5"
   ]
  },
  {
   "cell_type": "code",
   "execution_count": 250,
   "metadata": {},
   "outputs": [],
   "source": [
    "n = 1000\n",
    "k = 5\n",
    "degree = 5\n",
    "sigma = 0.1\n",
    "sparsity = 0.5\n",
    "\n",
    "fm = FM.FactorialModel(\n",
    "    n=n,\n",
    "    k=k,\n",
    "    degree=degree,\n",
    "    sigma=sigma,\n",
    "    sparsity=sparsity,\n",
    "    beta_seed=42,\n",
    ")\n",
    "t, y = fm.sample(seed=0)"
   ]
  },
  {
   "cell_type": "code",
   "execution_count": 251,
   "metadata": {},
   "outputs": [
    {
     "name": "stdout",
     "output_type": "stream",
     "text": [
      "alpha=0.001\n",
      "betas=[ 0.         -0.00615014  0.36288005  0.          0.00563909  0.00419086\n",
      "  0.00781563 -0.0254381   0.          0.          0.03989441  0.0122317\n",
      " -0.          0.          0.17361246 -0.43732393  0.19791085  0.\n",
      "  0.08772841 -0.         -0.          0.          0.5031516  -0.\n",
      " -0.1523685  -0.15900049 -0.          0.          0.         -0.02823868\n",
      " -0.         -0.        ]\n",
      "Mean Squared Error of y: 0.010939823856963767\n",
      "Mean Squared Error of beta: 0.005701355170458555\n"
     ]
    }
   ],
   "source": [
    "# Fit Lasso regression with cross validation for alpha\n",
    "pf = preprocessing.PolynomialFeatures(\n",
    "    degree=degree, interaction_only=True, include_bias=True,\n",
    ")\n",
    "T = pf.fit_transform(t)\n",
    "T_train, T_test, y_train, y_test = train_test_split(T, y, test_size=0.2, random_state=42)\n",
    "alpha_cv = [0.001, 0.01, 0.1, 0.5]\n",
    "model = LassoCV(alphas=alpha_cv, cv=5, random_state=42)\n",
    "model.fit(T_train, y_train)\n",
    "print(f'alpha={model.alpha_}\\nbetas={model.coef_}')\n",
    "\n",
    "y_pred = model.predict(T_test)\n",
    "mse = mean_squared_error(y_test, y_pred)\n",
    "print(f\"Mean Squared Error of y: {mse}\")\n",
    "\n",
    "beta_actual = fm.beta\n",
    "beta_hat = model.coef_\n",
    "mse_beta = mean_squared_error(beta_actual, beta_hat)\n",
    "print(f\"Mean Squared Error of beta: {mse_beta}\")"
   ]
  },
  {
   "cell_type": "code",
   "execution_count": 252,
   "metadata": {},
   "outputs": [
    {
     "name": "stdout",
     "output_type": "stream",
     "text": [
      "expected_outcomes=[ 0.   -0.01  0.36  0.    0.01  0.    0.36 -0.03 -0.   -0.    0.4   0.38\n",
      "  0.37  0.01  0.18 -0.43  0.58  0.38  0.46 -0.03  0.15 -0.43  0.92  0.58\n",
      " -0.2  -0.41  1.1   0.84 -0.12 -0.47  0.35  0.59]\n"
     ]
    }
   ],
   "source": [
    "# Compute expected outcomes as linear combinations of betas\n",
    "betas = model.coef_\n",
    "beta_mask = pf.fit_transform(pf.powers_)\n",
    "expected_outcomes = beta_mask @ betas\n",
    "print(f'expected_outcomes={np.round(expected_outcomes,2)}')"
   ]
  },
  {
   "cell_type": "code",
   "execution_count": 253,
   "metadata": {},
   "outputs": [
    {
     "name": "stdout",
     "output_type": "stream",
     "text": [
      "(32,) (32,)\n"
     ]
    }
   ],
   "source": [
    "print(betas.shape, expected_outcomes.shape)"
   ]
  },
  {
   "cell_type": "code",
   "execution_count": 254,
   "metadata": {},
   "outputs": [
    {
     "name": "stdout",
     "output_type": "stream",
     "text": [
      "Max clusters: 1; cluster labels: [0 0 0 0 0 0 0 0 0 0 0 0 0 0 0 0 0 0 0 0 0 0 0 0 0 0 0 0 0 0 0 0]; score: -4.76\n",
      "Max clusters: 2; cluster labels: [1 1 0 1 1 1 0 1 1 1 0 0 0 1 1 1 0 0 0 1 1 1 0 0 1 1 0 0 1 1 0 0]; score: -1.45\n",
      "Max clusters: 3; cluster labels: [1 1 0 1 1 1 0 1 1 1 0 0 0 1 0 1 0 0 0 1 0 1 2 0 1 1 2 2 1 1 0 0]; score: -0.80\n",
      "Max clusters: 4; cluster labels: [1 1 3 1 1 1 3 1 1 1 3 3 3 1 1 0 3 3 3 1 1 0 2 3 0 0 2 2 1 0 3 3]; score: -0.24\n",
      "Max clusters: 5; cluster labels: [1 1 0 1 1 1 0 1 1 1 0 0 0 1 1 3 4 0 0 1 1 3 2 4 1 3 2 2 1 3 0 4]; score: -0.15\n",
      "Max clusters: 6; cluster labels: [4 4 5 4 4 4 5 4 4 4 5 5 5 4 0 2 3 5 5 4 0 2 1 3 4 2 1 1 4 2 5 3]; score: -0.09\n",
      "Max clusters: 7; cluster labels: [2 2 0 2 2 2 0 2 2 2 0 0 0 2 5 1 4 0 0 2 5 1 3 4 6 1 3 3 6 1 0 4]; score: -0.05\n",
      "Max clusters: 8; cluster labels: [5 5 0 5 5 5 0 5 5 5 0 0 0 5 6 3 4 0 0 5 6 3 2 4 1 3 7 2 1 3 0 4]; score: -0.02\n",
      "Max clusters: 9; cluster labels: [4 4 1 4 4 4 1 4 4 4 1 1 1 4 6 3 5 1 8 4 6 3 2 5 0 3 7 2 0 3 1 5]; score: -0.01\n",
      "Max clusters: 10; cluster labels: [5 5 0 5 5 5 0 5 5 5 0 0 0 5 6 3 4 0 9 5 6 3 2 4 8 3 7 2 1 3 0 4]; score: -0.01\n",
      "Max clusters: 11; cluster labels: [ 5  5  0  5  5  5  0  5  5  5  0  0  0  5  6  3  4  0  9  5  6  3  2  4\n",
      "  8  3  7 10  1  3  0  4]; score: -0.01\n",
      "Max clusters: 12; cluster labels: [ 4  4  0  4  4  4  0  4  4  4  0  0  0  4  6  3  5  0  9  4  6  3  2  5\n",
      "  1  3  7 10  8 11  0  5]; score: -0.00\n",
      "Max clusters: 13; cluster labels: [ 5  5  0  5  5  5  0 11  5  5  0  0  0  5  6  3  4  0  9 11  6  3  2  4\n",
      "  8  3  7 10  1 12  0  4]; score: -0.00\n",
      "Max clusters: 14; cluster labels: [ 1  1  0  1  1  1  0 12  1  1 11 11  0  1  7  3  4 11  8 12  7  3  2  4\n",
      "  5  3  6 10  9 13  0  4]; score: -0.00\n",
      "Max clusters: 15; cluster labels: [ 8  8 14  8  8  8 14  5  8  8  4  4 14  8 13  2  1  4 12  5  0  2 10  1\n",
      "  6  2  7  3  9 11 14  1]; score: -0.00\n",
      "Max clusters: 16; cluster labels: [ 5  5  0  5  5  5  0 11  5  5 13 14  0  5 15  3  4 14  9 11  6  3  2  4\n",
      "  8  3  7 10  1 12  0  4]; score: -0.00\n",
      "Max clusters: 17; cluster labels: [ 5  5  0  5  5  5  0 11  5  5 13 14  0  5 15  3  4 14  9 11  6  3  2  4\n",
      "  8 16  7 10  1 12  0  4]; score: -0.00\n",
      "Max clusters: 18; cluster labels: [ 5  5  0  5  5  5  0 11  5  5 13 14  0  5 15  3  4 14  9 11  6  3  2  4\n",
      "  8 16  7 10  1 12 17  4]; score: -0.00\n",
      "Max clusters: 19; cluster labels: [17 17  4 17  9  9  4  2 17 17 11 15  4  9  7  5  1 15  8  2 13  5  6  1\n",
      "  0 16  3 12 10 14 18  1]; score: -0.00\n",
      "Max clusters: 20; cluster labels: [ 5  5  0  5 19 19  0 11  5  5 13 14  0 19 15  3  4 14  9 11  6  3  2  4\n",
      "  8 16  7 10  1 12 17 18]; score: -0.00\n",
      "Max clusters: 21; cluster labels: [ 8 20 17  8 18 18 17  1  8  8 15  0 17 18  5  3  4  0 11  1 14  3 10  4\n",
      "  7 16  6  2  9 13 12 19]; score: -0.00\n",
      "Max clusters: 22; cluster labels: [18 21  0 18  4  4  0 11 18 18 15 14  0  4 12 20  5 14  8 11  6  3  2  5\n",
      " 10 16  7  9  1 13 17 19]; score: -0.00\n",
      "Max clusters: 23; cluster labels: [18 21  0 18  4  4  0 11 18 18 15 14  0  4 12 20  5 14  8 22  6  3  2  5\n",
      " 10 16  7  9  1 13 17 19]; score: -0.00\n",
      "Max clusters: 24; cluster labels: [18 21 23 18  4  4 23 11 18 18 15 14  0  4 12 20  5 14  8 22  6  3  2  5\n",
      " 10 16  7  9  1 13 17 19]; score: -0.00\n",
      "Max clusters: 25; cluster labels: [18 21 23 18  4  4 23 11 18 18 15 14  0  4 12 20 24 14  8 22  6  3  2  5\n",
      " 10 16  7  9  1 13 17 19]; score: -0.00\n",
      "Max clusters: 26; cluster labels: [ 1 20  9  1 18 18  9 22  1 25  2 15 23 18  6 19 24 15 11 13 14  3 10  4\n",
      "  8 16  5  0  7 12 17 21]; score: -0.00\n",
      "Max clusters: 27; cluster labels: [24 22 13 24 26 17 13 11 24  0 16  2 25 26  5 21  4  2 10 20 14  3  1 23\n",
      "  6 15  7  9  8 12 18 19]; score: -0.00\n",
      "Max clusters: 28; cluster labels: [20  0 12 20 25 16 12 13 20 26 15 27 23 25 14  3  4  2 10 22  5 21  1 24\n",
      "  6 17  7  9  8 11 19 18]; score: -0.00\n",
      "Max clusters: 29; cluster labels: [18 21 27 18 25  4 23 11 18 28 15 26  0 25 12 20 24 14  8 22  6  3  2  5\n",
      " 10 16  7  9  1 13 17 19]; score: -0.00\n",
      "Max clusters: 30; cluster labels: [29 21 27 29 25  4 23 11 18 28 15 26  0 25 12 20 24 14  8 22  6  3  2  5\n",
      " 10 16  7  9  1 13 17 19]; score: -0.00\n",
      "Max clusters: 31; cluster labels: [29 21 27 29 25  4 23 11 18 28 15 26  0 25 12 20 24 14  8 22  6  3  2  5\n",
      " 10 16  7  9  1 13 17 19]; score: -0.00\n"
     ]
    },
    {
     "name": "stderr",
     "output_type": "stream",
     "text": [
      "/tmp/ipykernel_141/426641171.py:3: ConvergenceWarning: Number of distinct clusters (30) found smaller than n_clusters (31). Possibly due to duplicate points in X.\n",
      "  kmeans = KMeans(n_clusters=i, random_state=0).fit(expected_outcomes.reshape(-1, 1))\n"
     ]
    }
   ],
   "source": [
    "# Cluster treatment combinations by expected outcomes\n",
    "for i in range(1, 2**k):\n",
    "    kmeans = KMeans(n_clusters=i, random_state=0).fit(expected_outcomes.reshape(-1, 1))\n",
    "    score = kmeans.score(expected_outcomes.reshape(-1, 1))\n",
    "    print(f'Max clusters: {i}; cluster labels: {kmeans.labels_}; score: {score:.2f}')"
   ]
  },
  {
   "cell_type": "code",
   "execution_count": 255,
   "metadata": {},
   "outputs": [
    {
     "data": {
      "image/png": "[encoded data removed]",
      "text/plain": [
       "<Figure size 640x480 with 1 Axes>"
      ]
     },
     "metadata": {},
     "output_type": "display_data"
    }
   ],
   "source": [
    "# Plot betas and expected outcomes\n",
    "_ = sns.barplot(\n",
    "    x=[\n",
    "        r\"0\",\n",
    "        r\"$t_1$\",\n",
    "        r\"$t_2$\",\n",
    "        r\"$t_3$\",\n",
    "        r\"$t_4$\",\n",
    "        r\"$t_5$\",\n",
    "        r\"$t_1 t_2$\",\n",
    "        r\"$t_1 t_3$\",\n",
    "        r\"$t_1 t_4$\",\n",
    "        r\"$t_1 t_5$\",\n",
    "        r\"$t_2 t_3$\",\n",
    "        r\"$t_2 t_4$\",\n",
    "        r\"$t_2 t_5$\",\n",
    "        r\"$t_3 t_4$\",\n",
    "        r\"$t_3 t_5$\",\n",
    "        r\"$t_4 t_5$\",\n",
    "        r\"$t_1 t_2 t_3$\",\n",
    "        r\"$t_1 t_2 t_4$\",\n",
    "        r\"$t_1 t_2 t_5$\",\n",
    "        r\"$t_1 t_3 t_4$\",\n",
    "        r\"$t_1 t_3 t_5$\",\n",
    "        r\"$t_1 t_4 t_5$\",\n",
    "        r\"$t_2 t_3 t_4$\",\n",
    "        r\"$t_2 t_3 t_5$\",\n",
    "        r\"$t_2 t_4 t_5$\",\n",
    "        r\"$t_3 t_4 t_5$\",\n",
    "        r\"$t_1 t_2 t_3 t_4$\",\n",
    "        r\"$t_1 t_2 t_3 t_5$\",\n",
    "        r\"$t_1 t_2 t_4 t_5$\",\n",
    "        r\"$t_1 t_3 t_4 t_5$\",\n",
    "        r\"$t_2 t_3 t_4 t_5$\",\n",
    "        r\"$t_1 t_2 t_3 t_4 t_5$\",\n",
    "    ],\n",
    "    y=betas,\n",
    "    alpha=0.5,\n",
    "    label=r\"$\\beta$\",\n",
    ")\n",
    "\n",
    "_ = sns.barplot(\n",
    "    x=[\n",
    "        r\"0\",\n",
    "        r\"$t_1$\",\n",
    "        r\"$t_2$\",\n",
    "        r\"$t_3$\",\n",
    "        r\"$t_4$\",\n",
    "        r\"$t_5$\",\n",
    "        r\"$t_1 t_2$\",\n",
    "        r\"$t_1 t_3$\",\n",
    "        r\"$t_1 t_4$\",\n",
    "        r\"$t_1 t_5$\",\n",
    "        r\"$t_2 t_3$\",\n",
    "        r\"$t_2 t_4$\",\n",
    "        r\"$t_2 t_5$\",\n",
    "        r\"$t_3 t_4$\",\n",
    "        r\"$t_3 t_5$\",\n",
    "        r\"$t_4 t_5$\",\n",
    "        r\"$t_1 t_2 t_3$\",\n",
    "        r\"$t_1 t_2 t_4$\",\n",
    "        r\"$t_1 t_2 t_5$\",\n",
    "        r\"$t_1 t_3 t_4$\",\n",
    "        r\"$t_1 t_3 t_5$\",\n",
    "        r\"$t_1 t_4 t_5$\",\n",
    "        r\"$t_2 t_3 t_4$\",\n",
    "        r\"$t_2 t_3 t_5$\",\n",
    "        r\"$t_2 t_4 t_5$\",\n",
    "        r\"$t_3 t_4 t_5$\",\n",
    "        r\"$t_1 t_2 t_3 t_4$\",\n",
    "        r\"$t_1 t_2 t_3 t_5$\",\n",
    "        r\"$t_1 t_2 t_4 t_5$\",\n",
    "        r\"$t_1 t_3 t_4 t_5$\",\n",
    "        r\"$t_2 t_3 t_4 t_5$\",\n",
    "        r\"$t_1 t_2 t_3 t_4 t_5$\",\n",
    "    ],\n",
    "    y=expected_outcomes,\n",
    "    alpha=0.5,\n",
    "    label=r\"E[Y|T]\",\n",
    ")"
   ]
  },
  {
   "cell_type": "markdown",
   "metadata": {},
   "source": [
    "### Generate data for m less than sp"
   ]
  },
  {
   "cell_type": "code",
   "execution_count": 669,
   "metadata": {},
   "outputs": [],
   "source": [
    "#s = sparsity * len(beta)\n",
    "#if k is 10: 88\n",
    "# so error low if 88 * log(176) >= 197\n",
    "from sklearn.metrics import zero_one_loss\n",
    "def run_generation(n_max, k, sparsity, step):\n",
    "    mse_dict = {}\n",
    "    for n in range(20, n_max, step):\n",
    "        mse_sum = 0\n",
    "        mse_beta_sum=0\n",
    "        for seed in [0,1,2,3,4]:\n",
    "            #dictionary for mse's\n",
    "\n",
    "            degree = k\n",
    "            sigma = 0.1\n",
    "\n",
    "            fm = FM.FactorialModel(\n",
    "                n=n,\n",
    "                k=k,\n",
    "                degree=degree,\n",
    "                sigma=sigma,\n",
    "                sparsity=sparsity,\n",
    "                beta_seed=seed,\n",
    "            )\n",
    "            t, y = fm.sample(seed=seed, contrast_coding = True)\n",
    "\n",
    "\n",
    "            pf = preprocessing.PolynomialFeatures(\n",
    "            degree=degree, interaction_only=True, include_bias=True,\n",
    "            )\n",
    "            T = pf.fit_transform(t)\n",
    "            T_train, T_test, y_train, y_test = train_test_split(T, y, test_size=0.2, random_state=seed)\n",
    "    #         alpha_cv = [0.001, 0.01, 0.1, 0.5]\n",
    "    #         model = LassoCV(alphas=alpha_cv, cv=5, random_state=42, max_iter=10000)\n",
    "            model = Lasso(alpha = 0.11, max_iter = 10000)\n",
    "            model.fit(T_train, y_train)\n",
    "            # print(f'alpha={model.alpha_}\\nbetas={model.coef_}')\n",
    "\n",
    "            y_pred = model.predict(T_test)\n",
    "            mse_sum += mean_squared_error(y_test, y_pred)\n",
    "            # print(f\"Mean Squared Error of y: {mse}\")\n",
    "\n",
    "            beta_actual = fm.beta\n",
    "            beta_hat = model.coef_\n",
    "            beta_hat[beta_hat!=0] = 1\n",
    "            beta_actual[beta_actual!=0] = 1\n",
    "            mse_beta_sum += zero_one_loss(beta_actual, beta_hat)\n",
    "            # print(f\"Mean Squared Error of beta: {mse_beta}\")\n",
    "\n",
    "        mse_dict[n] = (mse_sum/5, mse_beta_sum/5)\n",
    "    return mse_dict, len(fm.beta)"
   ]
  },
  {
   "cell_type": "code",
   "execution_count": 678,
   "metadata": {},
   "outputs": [],
   "source": [
    "def draw_charts(mse_dict, sparsity, length, k):\n",
    "    n = list(mse_dict.keys())\n",
    "    mse, mse_beta = zip(*mse_dict.values())\n",
    "\n",
    "    fig, ax1 = plt.subplots()\n",
    "\n",
    "    # Plot the first line (mse) on the first y-axis\n",
    "    color = 'tab:red'\n",
    "    ax1.set_xlabel('m')\n",
    "    ax1.set_ylabel('mse', color=color)\n",
    "    ax1.plot(n, mse, color=color)\n",
    "    ax1.tick_params(axis='y', labelcolor=color)\n",
    "#     ax1.set_ylim(0, .4)\n",
    "    # Create a second y-axis for the second line (mse_beta)\n",
    "    ax2 = ax1.twinx()\n",
    "    color = 'tab:blue'\n",
    "    ax2.set_ylabel('0-1 Loss Beta', color=color)\n",
    "    ax2.plot(n, mse_beta, color=color)\n",
    "    ax2.tick_params(axis='y', labelcolor=color)\n",
    "#     ax2.set_ylim(0,.26)\n",
    "    tipping_point = calc_tipping_point(sparsity, length, k)  \n",
    "    ax1.axvline(x=tipping_point, linestyle='--', color='gray')\n",
    "    fig.tight_layout()  # For layout\n",
    "    plt.title('MSE and 0-1 Loss Beta vs m')\n",
    "    plt.show()"
   ]
  },
  {
   "cell_type": "code",
   "execution_count": 679,
   "metadata": {},
   "outputs": [],
   "source": [
    "def calc_tipping_point(sparsity, length, k):\n",
    "    return np.log(math.e /(1-sparsity)) *(1-sparsity) * length"
   ]
  },
  {
   "cell_type": "code",
   "execution_count": 682,
   "metadata": {},
   "outputs": [
    {
     "data": {
      "image/png": "[encoded data removed]",
      "text/plain": [
       "<Figure size 640x480 with 2 Axes>"
      ]
     },
     "metadata": {},
     "output_type": "display_data"
    },
    {
     "name": "stdout",
     "output_type": "stream",
     "text": [
      "2137.6515378660147\n",
      "{20: (1.7035202354146848, 0.202587890625), 40: (1.5888908352518318, 0.202978515625), 60: (1.5301912421441495, 0.2048828125), 80: (1.331839487844332, 0.205908203125), 100: (1.139964742639186, 0.207373046875), 120: (0.9776807739519141, 0.207275390625), 140: (1.1930929302012152, 0.2068359375), 160: (1.0212216216098369, 0.20751953125), 180: (1.0836784787704254, 0.2076171875), 200: (1.1640413213106018, 0.208056640625), 220: (1.1689637092958267, 0.2080078125), 240: (1.0841534835028366, 0.207568359375), 260: (1.044710385128346, 0.20595703125), 280: (1.086458265565666, 0.20654296875), 300: (1.0596425307372217, 0.20576171875), 320: (1.0743978883921987, 0.205078125), 340: (0.9917139370992784, 0.203955078125), 360: (1.116682302108487, 0.20380859375), 380: (1.1233580664469638, 0.20283203125), 400: (1.0982009993806987, 0.20390625), 420: (0.933551875415701, 0.20166015625), 440: (1.0388184985028566, 0.203125), 460: (0.9652240666174737, 0.20283203125), 480: (0.8802288485221543, 0.201220703125), 500: (0.9433229435373273, 0.20234375), 520: (0.9652028791262989, 0.200732421875), 540: (0.9544543441149296, 0.20009765625), 560: (0.9261603825753888, 0.199853515625), 580: (0.9239885153454122, 0.19921875), 600: (1.0016312834034375, 0.2), 620: (0.916228295916596, 0.199169921875), 640: (0.8963285819328046, 0.198486328125), 660: (0.9288263909693072, 0.1990234375), 680: (0.9828265665000512, 0.198095703125), 700: (1.0403243627143206, 0.19853515625), 720: (0.9324963096494916, 0.19755859375), 740: (0.9187116605302492, 0.198095703125), 760: (1.02089902674007, 0.19736328125), 780: (1.00499192613752, 0.197998046875), 800: (0.955644820587999, 0.19814453125), 820: (1.0137273696171487, 0.197705078125), 840: (1.1046675665809853, 0.198193359375), 860: (0.9754503682236138, 0.197802734375), 880: (0.9969502484529164, 0.19716796875), 900: (0.9557128826868659, 0.197216796875), 920: (1.026317206184054, 0.1974609375), 940: (1.058859154811697, 0.197607421875), 960: (1.0181067163184672, 0.197412109375), 980: (1.0101810042659065, 0.197021484375), 1000: (1.058594885126293, 0.197021484375), 1020: (1.0089500667691615, 0.19716796875), 1040: (0.9054843432602283, 0.196728515625), 1060: (0.9541575677769558, 0.196923828125), 1080: (0.9980097110399381, 0.19716796875), 1100: (0.9307876411641314, 0.1970703125), 1120: (0.997657879684384, 0.197265625), 1140: (1.0044503999853427, 0.197216796875), 1160: (0.9769211942740034, 0.197119140625), 1180: (1.023850157658565, 0.197265625), 1200: (0.9974054011169743, 0.19755859375), 1220: (1.0364099518118302, 0.19775390625), 1240: (0.9357149941698788, 0.197119140625), 1260: (1.031973042857143, 0.19755859375), 1280: (1.0407178906176804, 0.1974609375), 1300: (1.0812692291509398, 0.198095703125), 1320: (1.007770048684581, 0.19736328125), 1340: (0.9813672555729649, 0.197509765625), 1360: (1.0041317539754122, 0.19765625), 1380: (0.9674253625718496, 0.197412109375), 1400: (1.0040685271275067, 0.1974609375), 1420: (0.9846845487803471, 0.19755859375), 1440: (1.0101566664774266, 0.19765625), 1460: (0.9811856963872844, 0.1970703125), 1480: (1.0776473120303705, 0.197998046875), 1500: (1.0314889302059194, 0.197314453125), 1520: (1.0305056890601432, 0.197412109375), 1540: (1.0089318311344981, 0.197265625), 1560: (0.9953733929675892, 0.19775390625), 1580: (1.0127777316158515, 0.197119140625), 1600: (1.0032546574706076, 0.1978515625), 1620: (0.9876928959012423, 0.197412109375), 1640: (0.9848383743594944, 0.197705078125), 1660: (1.013840137869886, 0.198046875), 1680: (0.9557883953949092, 0.197509765625), 1700: (0.9830700134526378, 0.19736328125), 1720: (0.999486013563897, 0.197998046875), 1740: (0.9975350249108905, 0.198046875), 1760: (0.9322666772133672, 0.19775390625), 1780: (1.0145429762182165, 0.198388671875), 1800: (0.9591894265837467, 0.19794921875), 1820: (0.9548199835037856, 0.197607421875), 1840: (0.9785893810181105, 0.198681640625), 1860: (0.966254971046325, 0.1984375), 1880: (0.9557857756227431, 0.197998046875), 1900: (0.9812777139696678, 0.19814453125), 1920: (0.9975386642351355, 0.1982421875), 1940: (0.9889637757824119, 0.198486328125), 1960: (0.9915282431109051, 0.198193359375), 1980: (0.9883971553372893, 0.198486328125), 2000: (0.9584459059204319, 0.198486328125), 2020: (0.9902021172804399, 0.198291015625), 2040: (1.0174798018566107, 0.198291015625), 2060: (0.9883395035800264, 0.198681640625), 2080: (1.0037678181027383, 0.19873046875), 2100: (1.036898458563927, 0.1986328125), 2120: (1.0275005634529033, 0.198583984375), 2140: (0.977693068140554, 0.1986328125), 2160: (1.0234438951561653, 0.1986328125), 2180: (0.986932788683057, 0.198291015625), 2200: (0.9689724819135087, 0.1984375), 2220: (0.9920745484191981, 0.198828125), 2240: (0.979913664243363, 0.19873046875), 2260: (0.9796175810907218, 0.1986328125), 2280: (0.9847333166209362, 0.198828125), 2300: (0.9728643609231666, 0.198583984375), 2320: (0.961484800064804, 0.19853515625), 2340: (0.9695950294480797, 0.198828125), 2360: (0.9697082579453757, 0.19853515625), 2380: (0.979363112636839, 0.19873046875), 2400: (0.9730155771714424, 0.198486328125), 2420: (0.973254294781302, 0.19873046875), 2440: (0.9615914747553436, 0.19853515625), 2460: (0.9742521803076876, 0.198779296875), 2480: (0.9862337921001995, 0.19873046875), 2500: (0.9706831156184903, 0.19873046875), 2520: (0.9796241246535302, 0.19873046875), 2540: (1.0179318566143196, 0.198828125), 2560: (0.9417674664587778, 0.1986328125), 2580: (0.9615775959369488, 0.198779296875), 2600: (0.9817989328584055, 0.198583984375), 2620: (0.9854237901385682, 0.198828125), 2640: (0.976491825868935, 0.19853515625), 2660: (0.9836659220784478, 0.199072265625), 2680: (0.9807048024668212, 0.198583984375), 2700: (0.980588333637788, 0.198779296875), 2720: (0.9931781475499214, 0.198876953125), 2740: (0.9806534540499057, 0.198876953125), 2760: (1.0016389854607157, 0.198779296875), 2780: (0.9882673894284869, 0.198779296875), 2800: (0.9809180940560704, 0.198876953125), 2820: (0.9954326974978074, 0.1990234375), 2840: (0.966652678944727, 0.198828125), 2860: (0.9667982559940917, 0.198828125), 2880: (0.9724690627697813, 0.198876953125), 2900: (0.957059255925642, 0.198828125), 2920: (1.0039071358653044, 0.198876953125), 2940: (0.9841570304722275, 0.198974609375), 2960: (0.9984569227609631, 0.199169921875), 2980: (0.999548524335057, 0.199072265625), 3000: (1.0075592802064768, 0.1986328125), 3020: (0.9623169528322079, 0.198828125), 3040: (1.0040454241063117, 0.198974609375), 3060: (0.9597292614935811, 0.198828125), 3080: (1.0000550281940928, 0.198974609375), 3100: (1.020976963304836, 0.199169921875), 3120: (0.9852589010407584, 0.198876953125), 3140: (1.0241622438285263, 0.198876953125), 3160: (1.0136151775905886, 0.199072265625), 3180: (1.0072534987192268, 0.198876953125), 3200: (0.9939668623463346, 0.198876953125), 3220: (0.9930404528847324, 0.1990234375), 3240: (0.9772379731876859, 0.19892578125), 3260: (0.9701604265162788, 0.199072265625), 3280: (1.0233088670075785, 0.1990234375), 3300: (1.0035059459791178, 0.198974609375), 3320: (1.0089222634462343, 0.1990234375), 3340: (0.9983324737088376, 0.198876953125), 3360: (0.9965009469889269, 0.198974609375), 3380: (1.004249153805659, 0.19892578125), 3400: (0.9973388036870382, 0.199072265625), 3420: (1.028166485876968, 0.1990234375), 3440: (1.0039513916934442, 0.19892578125), 3460: (0.9885089550117782, 0.1990234375), 3480: (1.0036035459998753, 0.199072265625), 3500: (1.0081049347372626, 0.198974609375), 3520: (1.0280860436983343, 0.199169921875), 3540: (1.002350526752104, 0.19921875), 3560: (0.9809470033994587, 0.198681640625), 3580: (1.004405563318951, 0.19892578125), 3600: (1.0042995548341986, 0.198876953125), 3620: (0.9732034281763753, 0.198876953125), 3640: (1.0173080933258791, 0.198974609375), 3660: (0.985163988504927, 0.199072265625), 3680: (1.013023459677701, 0.19912109375), 3700: (1.025627104350485, 0.1990234375), 3720: (1.015172969078574, 0.198974609375), 3740: (1.0123662574576673, 0.19892578125), 3760: (0.9884147119230796, 0.1990234375), 3780: (1.012052506888239, 0.198876953125), 3800: (1.0175722916703749, 0.198974609375), 3820: (0.956308312519082, 0.198779296875), 3840: (0.9710910564402067, 0.19892578125), 3860: (0.9918408763682814, 0.199169921875), 3880: (1.001032351220555, 0.19931640625), 3900: (0.9640585286977519, 0.198974609375), 3920: (1.0059150561226997, 0.19912109375), 3940: (1.0008820474895415, 0.199169921875), 3960: (0.9973415041788268, 0.19921875), 3980: (0.9959175546136759, 0.19921875)}\n"
     ]
    }
   ],
   "source": [
    "n_max = 4000\n",
    "k = 12\n",
    "sparsity = 0.8\n",
    "mse_dict, length = run_generation(n_max, k, sparsity, 20)\n",
    "draw_charts(mse_dict, sparsity, length, k)\n",
    "print(calc_tipping_point(sparsity, length, k))\n",
    "print(mse_dict)"
   ]
  },
  {
   "cell_type": "code",
   "execution_count": 260,
   "metadata": {},
   "outputs": [
    {
     "data": {
      "image/png": "[encoded data removed]",
      "text/plain": [
       "<Figure size 640x480 with 2 Axes>"
      ]
     },
     "metadata": {},
     "output_type": "display_data"
    },
    {
     "name": "stdout",
     "output_type": "stream",
     "text": [
      "128.0\n"
     ]
    }
   ],
   "source": [
    "n_max = 2000\n",
    "k = 5\n",
    "sparsity = 0.2\n",
    "mse_dict, length = run_generation(n_max, k, sparsity, 20)\n",
    "draw_charts(mse_dict)\n",
    "print(calc_tipping_point(sparsity, length, k))"
   ]
  },
  {
   "cell_type": "code",
   "execution_count": 261,
   "metadata": {},
   "outputs": [
    {
     "name": "stderr",
     "output_type": "stream",
     "text": [
      "\n",
      "KeyboardInterrupt\n",
      "\n"
     ]
    }
   ],
   "source": [
    "n_max = 2000\n",
    "k = 10\n",
    "sparsity = 0.2\n",
    "mse_dict, length = run_generation(n_max, k, sparsity, 20)\n",
    "draw_charts(mse_dict)\n",
    "print(calc_tipping_point(sparsity, length, k))"
   ]
  },
  {
   "cell_type": "markdown",
   "metadata": {},
   "source": [
    "# Compare with Forward - Non-Heredity"
   ]
  },
  {
   "cell_type": "code",
   "execution_count": 521,
   "metadata": {},
   "outputs": [],
   "source": [
    "def forward_selection(X, y, p_value):\n",
    "    kept_features = []\n",
    "    total_features = X.columns.tolist()\n",
    "    # print(total_features)\n",
    "    # print(y)\n",
    "    # print(X)\n",
    "\n",
    "    while True:\n",
    "        remaining_features = list(set(total_features) - set(kept_features))\n",
    "\n",
    "        new_pval = pd.Series(index=remaining_features)\n",
    "        \n",
    "        for new_column in remaining_features:\n",
    "            # print(X[kept_features + [new_column]])\n",
    "            test_columns = list(set([new_column]) | set(kept_features))\n",
    "            model = sm.OLS(y, sm.add_constant(X[test_columns])).fit(disp=0)\n",
    "            new_pval[new_column] = model.pvalues[new_column]\n",
    "        \n",
    "        min_p_value = new_pval.min()\n",
    "        if min_p_value < p_value:\n",
    "            kept_features.append(new_pval.idxmin())\n",
    "        else:\n",
    "            break\n",
    "    return kept_features\n",
    "def interactions(X, y, p_value, original_features, kept_features, i):\n",
    "    \n",
    "    combo_features = []\n",
    "    if i == 0:\n",
    "        for feature1, feature2 in combinations(original_features,2):\n",
    "            # print(feature1, feature2)\n",
    "            X[f\"{feature1}*{feature2}\"] = X[feature1] * X[feature2]\n",
    "            combo_features.append(f\"{feature1}*{feature2}\")\n",
    "    else:\n",
    "        for feature1 in original_features:\n",
    "            for feature2 in kept_features:\n",
    "                if str(feature1) in str(feature2):\n",
    "                    continue\n",
    "                else:\n",
    "                    X[f\"{feature1}*{feature2}\"] = X[feature1] * X[feature2]\n",
    "    kept_features = []\n",
    "    # print(y)\n",
    "    while True:\n",
    "        remaining_features = list(set(combo_features) - set(kept_features))\n",
    "\n",
    "        new_pval = pd.Series(index=remaining_features)\n",
    "        \n",
    "        for new_column in remaining_features:\n",
    "            # print(X[kept_features + [new_column]])\n",
    "            test_columns = list(set(original_features) | set([new_column]) | set(kept_features))\n",
    "            model = sm.OLS(y, sm.add_constant(X[test_columns])).fit(disp=0)\n",
    "            new_pval[new_column] = model.pvalues[new_column]\n",
    "        \n",
    "        min_p_value = new_pval.min()\n",
    "        if min_p_value < p_value:\n",
    "            kept_features.append(new_pval.idxmin())\n",
    "        else:\n",
    "            break\n",
    "    return kept_features"
   ]
  },
  {
   "cell_type": "code",
   "execution_count": 654,
   "metadata": {},
   "outputs": [],
   "source": [
    "k=5\n",
    "fm = FM.FactorialModel(\n",
    "    n=120,\n",
    "    k=k,\n",
    "    degree=k,\n",
    "    sigma=0.1,\n",
    "    sparsity=0.5,\n",
    "    beta_seed=7,\n",
    "    antiheredity=False\n",
    ")\n",
    "t, y = fm.sample(seed=0, contrast_coding = True)\n"
   ]
  },
  {
   "cell_type": "code",
   "execution_count": 655,
   "metadata": {},
   "outputs": [
    {
     "name": "stdout",
     "output_type": "stream",
     "text": [
      "[ 0.          0.         -0.27413785  0.          0.         -0.9916465\n",
      "  0.0601436   1.3402152   0.         -0.6204749   0.48984206  0.356887\n",
      "  0.          0.         -0.02925182  0.6953032   0.         -0.45761576\n",
      "  0.          0.          0.         -0.23509113 -1.2674465   0.\n",
      "  0.15675108 -0.18693094  0.         -0.5386929  -0.04850094  0.\n",
      "  0.          0.        ]\n"
     ]
    }
   ],
   "source": [
    "t_train, t_test, y_train, y_test = train_test_split(t, y, test_size=0.01, random_state=40)\n",
    "alpha_cv = [0.001, 0.01, 0.1, 0.5]\n",
    "model = LassoCV(alphas=alpha_cv, cv=5, random_state=40, max_iter=10000)\n",
    "model.fit(t_train, y_train)\n",
    "# print(f'alpha={model.alpha_}\\nbetas={model.coef_}')\n",
    "y_pred = model.predict(t_test)\n",
    "mse = mean_squared_error(y_test, y_pred)\n",
    "# print(f\"Mean Squared Error of y: {mse}\")\n",
    "beta_actual = fm.beta\n",
    "beta_hat = model.coef_\n",
    "# beta_hat[beta_hat != 0] = 1\n",
    "# beta_actual[beta_actual != 0] = 1\n",
    "# mse_beta= zero_one_loss(beta_actual, beta_hat)\n",
    "print(beta_actual)"
   ]
  },
  {
   "cell_type": "code",
   "execution_count": 656,
   "metadata": {},
   "outputs": [
    {
     "name": "stdout",
     "output_type": "stream",
     "text": [
      "[4]\n",
      "[]\n",
      "[]\n",
      "[]\n",
      "[]\n",
      "[]\n",
      "[4]\n",
      "const   -0.228947\n",
      "4       -1.048647\n",
      "dtype: float64\n"
     ]
    },
    {
     "name": "stderr",
     "output_type": "stream",
     "text": [
      "/tmp/ipykernel_141/2571546691.py:11: FutureWarning: The default dtype for empty Series will be 'object' instead of 'float64' in a future version. Specify a dtype explicitly to silence this warning.\n",
      "  new_pval = pd.Series(index=remaining_features)\n",
      "/tmp/ipykernel_141/2571546691.py:11: FutureWarning: The default dtype for empty Series will be 'object' instead of 'float64' in a future version. Specify a dtype explicitly to silence this warning.\n",
      "  new_pval = pd.Series(index=remaining_features)\n",
      "/tmp/ipykernel_141/2571546691.py:45: FutureWarning: The default dtype for empty Series will be 'object' instead of 'float64' in a future version. Specify a dtype explicitly to silence this warning.\n",
      "  new_pval = pd.Series(index=remaining_features)\n",
      "/tmp/ipykernel_141/2571546691.py:45: FutureWarning: The default dtype for empty Series will be 'object' instead of 'float64' in a future version. Specify a dtype explicitly to silence this warning.\n",
      "  new_pval = pd.Series(index=remaining_features)\n",
      "/tmp/ipykernel_141/2571546691.py:45: FutureWarning: The default dtype for empty Series will be 'object' instead of 'float64' in a future version. Specify a dtype explicitly to silence this warning.\n",
      "  new_pval = pd.Series(index=remaining_features)\n",
      "/tmp/ipykernel_141/2571546691.py:45: FutureWarning: The default dtype for empty Series will be 'object' instead of 'float64' in a future version. Specify a dtype explicitly to silence this warning.\n",
      "  new_pval = pd.Series(index=remaining_features)\n",
      "/tmp/ipykernel_141/2571546691.py:45: FutureWarning: The default dtype for empty Series will be 'object' instead of 'float64' in a future version. Specify a dtype explicitly to silence this warning.\n",
      "  new_pval = pd.Series(index=remaining_features)\n"
     ]
    }
   ],
   "source": [
    "#forward selection\n",
    "T_train, T_test, y_train, y_test = train_test_split(t, y, test_size=0.01, random_state=40)\n",
    "T_train = pd.DataFrame(T_train)\n",
    "y_train = pd.DataFrame(y_train)\n",
    "kept_features = forward_selection(T_train, y_train, 0.05)\n",
    "print(kept_features)\n",
    "original_features = kept_features\n",
    "for i in range(k):\n",
    "    int_features = interactions(T_train, y_train, 0.05, original_features, kept_features, i)\n",
    "    print(int_features)\n",
    "    if len(int_features) > 0:\n",
    "        original_features.extend(int_features)\n",
    "print(original_features)\n",
    "model = sm.OLS(y_train, sm.add_constant(T_train[original_features])).fit(disp=0)\n",
    "print(model.params)"
   ]
  },
  {
   "cell_type": "code",
   "execution_count": 657,
   "metadata": {},
   "outputs": [
    {
     "name": "stdout",
     "output_type": "stream",
     "text": [
      "[ 0.00000000e+00  0.00000000e+00 -2.12023586e-01  4.43779165e-04\n",
      "  0.00000000e+00 -9.71979976e-01  1.43941073e-02  1.27571511e+00\n",
      "  0.00000000e+00 -5.58820724e-01  4.41242278e-01  3.10759008e-01\n",
      "  0.00000000e+00  0.00000000e+00 -3.08735226e-03  6.47583663e-01\n",
      " -0.00000000e+00 -4.31682825e-01  0.00000000e+00  0.00000000e+00\n",
      " -0.00000000e+00 -1.98801666e-01 -1.20658374e+00  0.00000000e+00\n",
      "  1.15392625e-01 -1.33360341e-01  0.00000000e+00 -4.92409855e-01\n",
      " -6.56109164e-03 -0.00000000e+00 -0.00000000e+00 -0.00000000e+00]\n"
     ]
    }
   ],
   "source": [
    "#lasso\n",
    "pf = preprocessing.PolynomialFeatures(\n",
    "degree=k, interaction_only=True, include_bias=True,\n",
    ")\n",
    "T = pf.fit_transform(t)\n",
    "\n",
    "t_train, t_test, y_train, y_test = train_test_split(T, y, test_size=0.01, random_state=40)\n",
    "alpha_cv = [0.001, 0.01, 0.1, 0.5]\n",
    "model = Lasso(alpha=0.03, max_iter=10000)\n",
    "model.fit(t_train, y_train)\n",
    "print(model.coef_)"
   ]
  },
  {
   "cell_type": "code",
   "execution_count": 658,
   "metadata": {},
   "outputs": [
    {
     "name": "stdout",
     "output_type": "stream",
     "text": [
      "0.03125\n"
     ]
    }
   ],
   "source": [
    "model_beta = model.coef_\n",
    "model_beta[model_beta!=0] = 1\n",
    "beta_real = beta_actual\n",
    "beta_real[beta_real!=0] =1\n",
    "print(zero_one_loss(beta_real,model_beta))"
   ]
  },
  {
   "cell_type": "code",
   "execution_count": 395,
   "metadata": {},
   "outputs": [],
   "source": [
    "\n",
    "\n",
    "fm = FM.FactorialModel(\n",
    "    n=40,\n",
    "    k=4,\n",
    "    degree=5,\n",
    "    sigma=0.1,\n",
    "    sparsity=0.9,\n",
    "    beta_seed=40,\n",
    "    antiheredity=True\n",
    ")\n",
    "t, y = fm.sample(seed=0, contrast_coding = True)\n"
   ]
  },
  {
   "cell_type": "code",
   "execution_count": null,
   "metadata": {},
   "outputs": [],
   "source": []
  },
  {
   "cell_type": "code",
   "execution_count": null,
   "metadata": {},
   "outputs": [],
   "source": []
  },
  {
   "cell_type": "code",
   "execution_count": null,
   "metadata": {},
   "outputs": [],
   "source": []
  },
  {
   "cell_type": "code",
   "execution_count": null,
   "metadata": {},
   "outputs": [],
   "source": []
  }
 ],
 "metadata": {
  "kernelspec": {
   "display_name": "Python 3 (ipykernel)",
   "language": "python",
   "name": "python3"
  },
  "language_info": {
   "codemirror_mode": {
    "name": "ipython",
    "version": 3
   },
   "file_extension": ".py",
   "mimetype": "text/x-python",
   "name": "python",
   "nbconvert_exporter": "python",
   "pygments_lexer": "ipython3",
   "version": "3.8.10"
  },
  "vscode": {
   "interpreter": {
    "hash": "eebfdbda06c0fad39ac275854ff2a899db249160fd4d105286e33d75d7d6841a"
   }
  }
 },
 "nbformat": 4,
 "nbformat_minor": 2
}
