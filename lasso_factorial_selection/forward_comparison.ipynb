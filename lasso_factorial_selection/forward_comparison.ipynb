{
 "cells": [
  {
   "cell_type": "markdown",
   "metadata": {},
   "source": [
    "## Comparison of Lasso Factorial Selection with Forward Selection"
   ]
  },
  {
   "cell_type": "code",
   "execution_count": 1,
   "metadata": {},
   "outputs": [],
   "source": [
    "%load_ext autoreload\n",
    "%autoreload 2"
   ]
  },
  {
   "cell_type": "code",
   "execution_count": 2,
   "metadata": {},
   "outputs": [],
   "source": [
    "import numpy as np\n",
    "import factorial_model as fm\n",
    "import matplotlib.pyplot as plt"
   ]
  },
  {
   "cell_type": "markdown",
   "metadata": {},
   "source": [
    "### Factorial model with k=4"
   ]
  },
  {
   "cell_type": "code",
   "execution_count": 3,
   "metadata": {},
   "outputs": [],
   "source": [
    "model_k4 = fm.FactorialModel(\n",
    "    n=1000,\n",
    "    k=4,\n",
    "    degree=4,\n",
    "    sigma=0.1,\n",
    "    sparsity=0.5,\n",
    "    seed=0,\n",
    ")"
   ]
  },
  {
   "cell_type": "code",
   "execution_count": 4,
   "metadata": {},
   "outputs": [
    {
     "name": "stdout",
     "output_type": "stream",
     "text": [
      "0.009808250286609754\n"
     ]
    }
   ],
   "source": [
    "# Fit and evaluated Lasso model\n",
    "model_k4.sample_and_split_data(contrast_coding=True)\n",
    "model_k4.fit_lasso()\n",
    "model_k4.predict()\n",
    "model_k4.compute_mse()\n",
    "print(model_k4.mse)"
   ]
  },
  {
   "cell_type": "markdown",
   "metadata": {},
   "source": [
    "### Factorial model with k=8"
   ]
  },
  {
   "cell_type": "code",
   "execution_count": 5,
   "metadata": {},
   "outputs": [],
   "source": [
    "model_k8 = fm.FactorialModel(\n",
    "    n=1000,\n",
    "    k=8,\n",
    "    degree=8,\n",
    "    sigma=0.1,\n",
    "    sparsity=0.5,\n",
    "    seed=0,\n",
    ")"
   ]
  },
  {
   "cell_type": "code",
   "execution_count": 6,
   "metadata": {},
   "outputs": [
    {
     "name": "stdout",
     "output_type": "stream",
     "text": [
      "0.01485998816480604\n"
     ]
    }
   ],
   "source": [
    "# Fit and evaluated Lasso model\n",
    "model_k8.sample_and_split_data(contrast_coding=True)\n",
    "model_k8.fit_lasso()\n",
    "model_k8.predict()\n",
    "model_k8.compute_mse()\n",
    "print(model_k8.mse)"
   ]
  },
  {
   "cell_type": "markdown",
   "metadata": {},
   "source": [
    "### Factorial model with k=12"
   ]
  },
  {
   "cell_type": "code",
   "execution_count": 7,
   "metadata": {},
   "outputs": [],
   "source": [
    "model_k12 = fm.FactorialModel(\n",
    "    n=1000,\n",
    "    k=12,\n",
    "    degree=12,\n",
    "    sigma=0.1,\n",
    "    sparsity=0.5,\n",
    "    seed=0,\n",
    ")"
   ]
  },
  {
   "cell_type": "code",
   "execution_count": 8,
   "metadata": {},
   "outputs": [
    {
     "name": "stdout",
     "output_type": "stream",
     "text": [
      "0.9699323542962434\n"
     ]
    }
   ],
   "source": [
    "# Fit and evaluated Lasso model\n",
    "model_k12.sample_and_split_data(contrast_coding=True)\n",
    "model_k12.fit_lasso()\n",
    "model_k12.predict()\n",
    "model_k12.compute_mse()\n",
    "print(model_k12.mse)"
   ]
  },
  {
   "cell_type": "markdown",
   "metadata": {},
   "source": [
    "### Validate theoretical lower bound on number of observations\n",
    "\n",
    "- General bound: $m \\geq s \\log n$\n",
    "- Looser bound: $m \\geq s \\log (en/s)$\n",
    "\n",
    "where $m$ = number of observations, $s$ = number of nonzero coefficients (sparse_count), $n = 2^k$"
   ]
  },
  {
   "cell_type": "code",
   "execution_count": 9,
   "metadata": {},
   "outputs": [],
   "source": [
    "num_observations = np.arange(20, 2001, 20)\n",
    "num_treatments = 8\n",
    "percent_sparsity = 0.5\n",
    "sparse_count = (1 - percent_sparsity) * (2 ** num_treatments)\n",
    "general_bound = sparse_count * np.log(2 ** num_treatments)\n",
    "looser_bound = sparse_count * np.log(np.exp(1) * (2 ** num_treatments) / sparse_count)"
   ]
  },
  {
   "cell_type": "code",
   "execution_count": 10,
   "metadata": {},
   "outputs": [
    {
     "name": "stdout",
     "output_type": "stream",
     "text": [
      "n=20, mse=2.316376420232288\n",
      "n=40, mse=0.8451381357326827\n",
      "n=60, mse=0.44080980557405214\n",
      "n=80, mse=0.7025350112111568\n",
      "n=100, mse=1.0313419114272786\n",
      "n=120, mse=0.7880388324504141\n",
      "n=140, mse=0.7628976263703153\n",
      "n=160, mse=0.5127120358932054\n",
      "n=180, mse=0.5634323161491832\n",
      "n=200, mse=0.3771957751852324\n",
      "n=220, mse=0.5222817213461134\n",
      "n=240, mse=0.7161183906928815\n",
      "n=260, mse=0.5197367007644643\n",
      "n=280, mse=0.39841102610396995\n",
      "n=300, mse=0.30144262990766024\n",
      "n=320, mse=0.23692498856584696\n",
      "n=340, mse=0.2889156873208374\n",
      "n=360, mse=0.14980801272236524\n",
      "n=380, mse=0.2419216921361885\n",
      "n=400, mse=0.1515402185387516\n",
      "n=420, mse=0.0644262485716726\n",
      "n=440, mse=0.07104180221186444\n",
      "n=460, mse=0.08615647646922589\n",
      "n=480, mse=0.054895105701788294\n",
      "n=500, mse=0.04783019600884723\n",
      "n=520, mse=0.02151710212609527\n",
      "n=540, mse=0.03739312678413461\n",
      "n=560, mse=0.020748355723821523\n",
      "n=580, mse=0.01672560694643309\n",
      "n=600, mse=0.015357981718194063\n",
      "n=620, mse=0.015585065069704763\n",
      "n=640, mse=0.017020336647316083\n",
      "n=660, mse=0.0241644174146475\n",
      "n=680, mse=0.018604566976963374\n",
      "n=700, mse=0.013063912617202886\n",
      "n=720, mse=0.02588420004775338\n",
      "n=740, mse=0.014210551699016983\n",
      "n=760, mse=0.013648963582892496\n",
      "n=780, mse=0.01923844414843552\n",
      "n=800, mse=0.014362635253669074\n",
      "n=820, mse=0.020757536671196255\n",
      "n=840, mse=0.019673414078780743\n",
      "n=860, mse=0.014564055729272562\n",
      "n=880, mse=0.01348908589811314\n",
      "n=900, mse=0.01642932971085268\n",
      "n=920, mse=0.014515183507169386\n",
      "n=940, mse=0.01287520318279539\n",
      "n=960, mse=0.014118881595948998\n",
      "n=980, mse=0.012443979812642078\n",
      "n=1000, mse=0.01485998816480604\n",
      "n=1020, mse=0.0147521002484276\n",
      "n=1040, mse=0.012303220755346475\n",
      "n=1060, mse=0.011394446729551108\n",
      "n=1080, mse=0.014245321047536019\n",
      "n=1100, mse=0.013139833762289336\n",
      "n=1120, mse=0.01162760394443209\n",
      "n=1140, mse=0.013527681976966214\n",
      "n=1160, mse=0.012325877158767274\n",
      "n=1180, mse=0.014572510614218463\n",
      "n=1200, mse=0.011583277940131299\n",
      "n=1220, mse=0.015993420638121113\n",
      "n=1240, mse=0.011727108540600177\n",
      "n=1260, mse=0.016103858231205893\n",
      "n=1280, mse=0.013029951616167459\n",
      "n=1300, mse=0.009541128072006992\n",
      "n=1320, mse=0.011494037474001304\n",
      "n=1340, mse=0.014767483137908792\n",
      "n=1360, mse=0.0109254641853895\n",
      "n=1380, mse=0.0110323525275374\n",
      "n=1400, mse=0.011835809293585854\n",
      "n=1420, mse=0.012480353411332688\n",
      "n=1440, mse=0.010788351433602048\n",
      "n=1460, mse=0.01258134175774131\n",
      "n=1480, mse=0.011804463460367284\n",
      "n=1500, mse=0.01259114958849476\n",
      "n=1520, mse=0.01159376687639289\n",
      "n=1540, mse=0.012751688391595297\n",
      "n=1560, mse=0.013183118008333855\n",
      "n=1580, mse=0.012165920339200812\n",
      "n=1600, mse=0.01191671735436795\n",
      "n=1620, mse=0.012925736239359852\n",
      "n=1640, mse=0.012177284660984824\n",
      "n=1660, mse=0.010930077599764191\n",
      "n=1680, mse=0.014111358710016906\n",
      "n=1700, mse=0.012315565108817135\n",
      "n=1720, mse=0.012230595804601474\n",
      "n=1740, mse=0.011665483890703187\n",
      "n=1760, mse=0.01101995749374572\n",
      "n=1780, mse=0.01139197980483006\n",
      "n=1800, mse=0.012506648382365832\n",
      "n=1820, mse=0.012044696125163323\n",
      "n=1840, mse=0.010741275580837343\n",
      "n=1860, mse=0.011347933669462098\n",
      "n=1880, mse=0.011941524726110712\n",
      "n=1900, mse=0.009992818269963141\n",
      "n=1920, mse=0.011266887500961456\n",
      "n=1940, mse=0.010757663017934039\n",
      "n=1960, mse=0.011912038193388456\n",
      "n=1980, mse=0.010829782350355336\n",
      "n=2000, mse=0.012102009732319494\n"
     ]
    }
   ],
   "source": [
    "mse_over_num_obs = []\n",
    "for n in num_observations:\n",
    "    model = fm.FactorialModel(\n",
    "        n=n,\n",
    "        k=num_treatments,\n",
    "        degree=num_treatments,\n",
    "        sigma=0.1,\n",
    "        sparsity=percent_sparsity,\n",
    "        seed=0,\n",
    "    )\n",
    "\n",
    "    # Fit and evaluated Lasso model\n",
    "    model.sample_and_split_data(contrast_coding=True)\n",
    "    model.fit_lasso()\n",
    "    model.predict()\n",
    "    model.compute_mse()\n",
    "    mse_over_num_obs.append(model.mse)\n",
    "    print(f'n={n}, mse={model.mse}')"
   ]
  },
  {
   "cell_type": "code",
   "execution_count": 11,
   "metadata": {},
   "outputs": [
    {
     "data": {
      "image/png": "[encoded data removed]",
      "text/plain": [
       "<Figure size 640x480 with 1 Axes>"
      ]
     },
     "metadata": {},
     "output_type": "display_data"
    }
   ],
   "source": [
    "# Plot the results\n",
    "plt.plot(num_observations, mse_over_num_obs, label=\"MSE\")\n",
    "plt.axvline(general_bound, color=\"red\", linestyle=\"--\", label=\"Generalization bound\")\n",
    "plt.axvline(looser_bound, color=\"green\", linestyle=\"--\", label=\"Looser bound\")\n",
    "plt.xlabel(\"Number of observations\")\n",
    "plt.ylabel(\"MSE\")\n",
    "plt.legend()\n",
    "plt.show()"
   ]
  },
  {
   "cell_type": "markdown",
   "metadata": {},
   "source": [
    "### Forward selection"
   ]
  },
  {
   "cell_type": "code",
   "execution_count": null,
   "metadata": {},
   "outputs": [],
   "source": []
  }
 ],
 "metadata": {
  "kernelspec": {
   "display_name": "causal",
   "language": "python",
   "name": "python3"
  },
  "language_info": {
   "codemirror_mode": {
    "name": "ipython",
    "version": 3
   },
   "file_extension": ".py",
   "mimetype": "text/x-python",
   "name": "python",
   "nbconvert_exporter": "python",
   "pygments_lexer": "ipython3",
   "version": "3.12.2"
  }
 },
 "nbformat": 4,
 "nbformat_minor": 2
}
