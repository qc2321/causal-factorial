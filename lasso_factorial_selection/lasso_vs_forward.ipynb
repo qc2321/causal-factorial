{
 "cells": [
  {
   "cell_type": "markdown",
   "metadata": {},
   "source": [
    "## Comparison of Lasso Factorial Selection with Forward Selection"
   ]
  },
  {
   "cell_type": "code",
   "execution_count": 41,
   "metadata": {},
   "outputs": [
    {
     "name": "stdout",
     "output_type": "stream",
     "text": [
      "The autoreload extension is already loaded. To reload it, use:\n",
      "  %reload_ext autoreload\n"
     ]
    }
   ],
   "source": [
    "%load_ext autoreload\n",
    "%autoreload 2"
   ]
  },
  {
   "cell_type": "code",
   "execution_count": 42,
   "metadata": {},
   "outputs": [],
   "source": [
    "import numpy as np\n",
    "import matplotlib.pyplot as plt\n",
    "from statsmodels.stats.weightstats import ztest\n",
    "from factorial_model import FactorialModel\n",
    "from forward_selection import ForwardSelection"
   ]
  },
  {
   "cell_type": "markdown",
   "metadata": {},
   "source": [
    "### Initialize factorial model"
   ]
  },
  {
   "cell_type": "code",
   "execution_count": 43,
   "metadata": {},
   "outputs": [],
   "source": [
    "# CHOOSE K AND DEGREE\n",
    "fm = FactorialModel(\n",
    "    n=1000,\n",
    "    k=4,\n",
    "    degree=4,\n",
    "    sigma=0.1,\n",
    "    sparsity=0.5,\n",
    "    contrast_coding=True,\n",
    "    beta_seed=0,\n",
    ")"
   ]
  },
  {
   "cell_type": "code",
   "execution_count": 44,
   "metadata": {},
   "outputs": [],
   "source": [
    "# CHOOSE ONE BETA SAMPLING METHOD\n",
    "# fm.sample_normal_beta()\n",
    "fm.sample_skewed_beta(min_active_degree=2)\n",
    "true_beta = fm.beta\n",
    "beta_mask = fm.pf.fit_transform(fm.pf.powers_)\n",
    "true_expected_outcomes = beta_mask @ true_beta"
   ]
  },
  {
   "cell_type": "code",
   "execution_count": 45,
   "metadata": {},
   "outputs": [],
   "source": [
    "# Method to evaluate Lasso model\n",
    "def evaluate_lasso():\n",
    "    fm.sample_and_split_data(seed=None)\n",
    "    fm.fit_lasso()\n",
    "    fm.predict()\n",
    "    fm.compute_mse()\n",
    "    fm.compute_r2()"
   ]
  },
  {
   "cell_type": "code",
   "execution_count": 46,
   "metadata": {},
   "outputs": [],
   "source": [
    "# Method to evaluate forward selection\n",
    "def evaluate_forward_selection(T_test, y_test):\n",
    "    fs.forward_selection()\n",
    "    fs.predict(T_test)\n",
    "    fs.compute_mse(y_test)\n",
    "    fs.compute_r2()"
   ]
  },
  {
   "cell_type": "code",
   "execution_count": 47,
   "metadata": {},
   "outputs": [],
   "source": [
    "# Evaluate two models for NUM_TRIALS\n",
    "NUM_TRIALS = 30\n",
    "lasso_mses = []\n",
    "fs_mses = []\n",
    "lasso_r2s = []\n",
    "fs_r2s = []\n",
    "lasso_betas = []\n",
    "fs_betas = []\n",
    "lasso_expected_outcomes = []\n",
    "fs_expected_outcomes = []\n",
    "\n",
    "for i in range(NUM_TRIALS):\n",
    "    evaluate_lasso()\n",
    "    lasso_mses.append(fm.mse)\n",
    "    lasso_r2s.append(fm.r2)\n",
    "    lasso_betas.append(fm.beta_hat)\n",
    "    lasso_expected_outcomes.append(fm.expected_outcomes)\n",
    "\n",
    "    fs = ForwardSelection(fm.T_train, fm.y_train, fm.k, strong_heredity=False)\n",
    "    evaluate_forward_selection(fm.T_test, fm.y_test)\n",
    "    fs_mses.append(fs.mse)\n",
    "    fs_r2s.append(fs.r2)\n",
    "    fs_betas.append(fs.results.params)\n",
    "    beta_mask = fm.pf.fit_transform(fm.pf.powers_)\n",
    "    fs_expected_outcome = beta_mask @ fs.results.params\n",
    "    fs_expected_outcomes.append(fs_expected_outcome)"
   ]
  },
  {
   "cell_type": "code",
   "execution_count": 48,
   "metadata": {},
   "outputs": [
    {
     "name": "stdout",
     "output_type": "stream",
     "text": [
      "Lasso MSE: 0.00978160145746147 +/- 0.0007738802220825707\n",
      "Forward Selection MSE: 0.9460632727235715 +/- 0.19210268537641084\n"
     ]
    }
   ],
   "source": [
    "# MSE comparison\n",
    "avg_lasso_mse = np.mean(np.array(lasso_mses))\n",
    "avg_fs_mses = np.mean(np.array(fs_mses))\n",
    "std_lasso_mse = np.std(np.array(lasso_mses))\n",
    "std_fs_mses = np.std(np.array(fs_mses))\n",
    "print(f\"Lasso MSE: {avg_lasso_mse} +/- {std_lasso_mse}\")\n",
    "print(f\"Forward Selection MSE: {avg_fs_mses} +/- {std_fs_mses}\")"
   ]
  },
  {
   "cell_type": "code",
   "execution_count": 49,
   "metadata": {},
   "outputs": [
    {
     "name": "stdout",
     "output_type": "stream",
     "text": [
      "Lasso R2: 0.9902021358400845 +/- 0.0012218331984999577\n",
      "Forward Selection R2: 0.07157909647834254 +/- 0.18172121242870118\n"
     ]
    }
   ],
   "source": [
    "# R2 comparison\n",
    "avg_lasso_r2 = np.mean(np.array(lasso_r2s))\n",
    "avg_fs_r2 = np.mean(np.array(fs_r2s))\n",
    "std_lasso_r2 = np.std(np.array(lasso_r2s))\n",
    "std_fs_r2 = np.std(np.array(fs_r2s))\n",
    "print(f\"Lasso R2: {avg_lasso_r2} +/- {std_lasso_r2}\")\n",
    "print(f\"Forward Selection R2: {avg_fs_r2} +/- {std_fs_r2}\")"
   ]
  },
  {
   "cell_type": "code",
   "execution_count": 50,
   "metadata": {},
   "outputs": [
    {
     "name": "stdout",
     "output_type": "stream",
     "text": [
      "Lasso beta Z-test: 0.9811295188324096\n",
      "Forward Selection beta Z-test: 0.28497367730927675\n"
     ]
    }
   ],
   "source": [
    "# Beta comparison\n",
    "lasso_beta_ztest_pvals = [ztest(lasso_beta, true_beta)[1] for lasso_beta in lasso_betas]\n",
    "fs_beta_ztest_pvals = [ztest(fs_beta, true_beta)[1] for fs_beta in fs_betas]\n",
    "avg_lasso_beta_ztest_pval = np.mean(np.array(lasso_beta_ztest_pvals))\n",
    "avg_fs_beta_ztest_pval = np.mean(np.array(fs_beta_ztest_pvals))\n",
    "print(f\"Lasso beta Z-test: {avg_lasso_beta_ztest_pval}\")\n",
    "print(f\"Forward Selection beta Z-test: {avg_fs_beta_ztest_pval}\")"
   ]
  },
  {
   "cell_type": "code",
   "execution_count": 51,
   "metadata": {},
   "outputs": [
    {
     "name": "stdout",
     "output_type": "stream",
     "text": [
      "Lasso expected outcomes Z-test: 0.8356391081068464\n",
      "Forward Selection expected outcomes Z-test: 0.3459119109762869\n"
     ]
    }
   ],
   "source": [
    "# Expected outcomes comparison\n",
    "lasso_outcomes_ztest_pvals = [ztest(lasso_outcome, true_expected_outcomes)[1] for lasso_outcome in lasso_expected_outcomes]\n",
    "fs_outcomes_ztest_pvals = [ztest(fs_outcome, true_expected_outcomes)[1] for fs_outcome in fs_expected_outcomes]\n",
    "avg_lasso_outcomes_ztest_pval = np.mean(np.array(lasso_outcomes_ztest_pvals))\n",
    "avg_fs_outcomes_ztest_pval = np.mean(np.array(fs_outcomes_ztest_pvals))\n",
    "print(f\"Lasso expected outcomes Z-test: {avg_lasso_outcomes_ztest_pval}\")\n",
    "print(f\"Forward Selection expected outcomes Z-test: {avg_fs_outcomes_ztest_pval}\")"
   ]
  },
  {
   "cell_type": "markdown",
   "metadata": {},
   "source": [
    "### Validate theoretical lower bound on number of observations\n",
    "\n",
    "- General bound (HDP 10.3.5): $n \\geq s \\log 2^k$\n",
    "- Looser bound (HDP 10.3.8): $n \\geq s \\log (e2^k/s)$\n",
    "- Noisy bound (HDP 10.6.1-2): $\\lVert \\hat{x} - x \\rVert_2 \\leq C \\sigma \\sqrt{\\frac{s \\log 2^k}{n}}$\n",
    "\n",
    "where $n$ = number of observations, $s$ = number of nonzero coefficients (sparse_count), and $k$ = number of treatments, and $\\sigma = \\lVert w \\rVert_2 / \\sqrt{n}$.  Thus we have $n \\geq \\sigma^2 \\cdot s \\log 2^k$"
   ]
  },
  {
   "cell_type": "code",
   "execution_count": 52,
   "metadata": {},
   "outputs": [],
   "source": [
    "num_treatments = 8\n",
    "num_coeffs = 2 ** num_treatments\n",
    "percent_sparsity = 0.5\n",
    "sparse_count = (1 - percent_sparsity) * num_coeffs\n",
    "general_bound = sparse_count * np.log(num_coeffs)\n",
    "# looser_bound = sparse_count * np.log(np.exp(1) * num_coeffs / sparse_count)"
   ]
  },
  {
   "cell_type": "code",
   "execution_count": 53,
   "metadata": {},
   "outputs": [],
   "source": [
    "# Compute noisy bound\n",
    "fm = FactorialModel(\n",
    "    n=int(general_bound),\n",
    "    k=num_treatments,\n",
    "    degree=num_treatments,\n",
    "    sigma=0.1,\n",
    "    sparsity=percent_sparsity,\n",
    "    contrast_coding=True,\n",
    "    beta_seed=0,\n",
    ")\n",
    "\n",
    "# CHOOSE ONE BETA SAMPLING METHOD\n",
    "fm.sample_normal_beta()\n",
    "# fm.sample_skewed_beta(min_active_degree=3)\n",
    "fm.sample_and_split_data(seed=0)\n",
    "\n",
    "w_norm = np.linalg.norm(fm.eps)\n",
    "sigma_sq = w_norm ** 2 / fm.n\n",
    "noisy_bound = sigma_sq * general_bound"
   ]
  },
  {
   "cell_type": "code",
   "execution_count": 54,
   "metadata": {},
   "outputs": [
    {
     "name": "stdout",
     "output_type": "stream",
     "text": [
      "w_norm: 2.6772822686114206, sigma_sq: 0.010109788922173646, general_bound: 709.782712893384, noisy_bound: 7.175753407959891\n"
     ]
    }
   ],
   "source": [
    "print(f'w_norm: {w_norm}, sigma_sq: {sigma_sq}, general_bound: {general_bound}, noisy_bound: {noisy_bound}')"
   ]
  },
  {
   "cell_type": "code",
   "execution_count": 55,
   "metadata": {},
   "outputs": [],
   "source": [
    "num_observations = np.arange(20, 2001, 20)\n",
    "mse_over_num_obs = []\n",
    "\n",
    "for n in num_observations:\n",
    "    fm = FactorialModel(\n",
    "        n=n,\n",
    "        k=num_treatments,\n",
    "        degree=num_treatments,\n",
    "        sigma=0.1,\n",
    "        sparsity=percent_sparsity,\n",
    "        contrast_coding=True,\n",
    "        beta_seed=0,\n",
    "    )\n",
    "\n",
    "    # CHOOSE ONE BETA SAMPLING METHOD\n",
    "    # fm.sample_normal_beta()\n",
    "    fm.sample_skewed_beta(min_active_degree=3)\n",
    "    fm.sample_and_split_data(seed=0)\n",
    "    fm.fit_lasso()\n",
    "    fm.predict()\n",
    "    fm.compute_mse()\n",
    "    mse_over_num_obs.append(fm.mse)"
   ]
  },
  {
   "cell_type": "code",
   "execution_count": 56,
   "metadata": {},
   "outputs": [
    {
     "data": {
      "image/png": "[encoded data removed]",
      "text/plain": [
       "<Figure size 640x480 with 1 Axes>"
      ]
     },
     "metadata": {},
     "output_type": "display_data"
    }
   ],
   "source": [
    "# Plot the results\n",
    "plt.plot(num_observations, mse_over_num_obs, label=\"MSE\")\n",
    "plt.axvline(general_bound, color=\"green\", linestyle=\"--\", label=\"General bound\")\n",
    "# plt.axvline(noisy_bound, color=\"red\", linestyle=\"--\", label=\"Noisy bound\")\n",
    "plt.xlabel(\"Number of observations\")\n",
    "plt.ylabel(\"MSE\")\n",
    "plt.legend()\n",
    "plt.show()"
   ]
  },
  {
   "cell_type": "code",
   "execution_count": null,
   "metadata": {},
   "outputs": [],
   "source": []
  }
 ],
 "metadata": {
  "kernelspec": {
   "display_name": "causal",
   "language": "python",
   "name": "python3"
  },
  "language_info": {
   "codemirror_mode": {
    "name": "ipython",
    "version": 3
   },
   "file_extension": ".py",
   "mimetype": "text/x-python",
   "name": "python",
   "nbconvert_exporter": "python",
   "pygments_lexer": "ipython3",
   "version": "3.12.2"
  }
 },
 "nbformat": 4,
 "nbformat_minor": 2
}
