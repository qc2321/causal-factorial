{
 "cells": [
  {
   "cell_type": "markdown",
   "metadata": {},
   "source": [
    "## Experiments with real world data"
   ]
  },
  {
   "cell_type": "code",
   "execution_count": 53,
   "metadata": {},
   "outputs": [
    {
     "name": "stdout",
     "output_type": "stream",
     "text": [
      "The autoreload extension is already loaded. To reload it, use:\n",
      "  %reload_ext autoreload\n"
     ]
    }
   ],
   "source": [
    "%load_ext autoreload\n",
    "%autoreload 2"
   ]
  },
  {
   "cell_type": "code",
   "execution_count": 54,
   "metadata": {},
   "outputs": [],
   "source": [
    "import numpy as np\n",
    "import rpy2.robjects as robjects\n",
    "from rpy2.robjects import pandas2ri\n",
    "from rpy2.robjects.packages import importr\n",
    "from factorial_model import FactorialModel\n",
    "from forward_selection import ForwardSelection"
   ]
  },
  {
   "cell_type": "markdown",
   "metadata": {},
   "source": [
    "### Carlson (2015)"
   ]
  },
  {
   "cell_type": "code",
   "execution_count": 55,
   "metadata": {},
   "outputs": [
    {
     "name": "stderr",
     "output_type": "stream",
     "text": [
      "R[write to console]: trying URL 'https://CRAN.R-project.org/src/contrib/FindIt_1.2.0.tar.gz'\n",
      "\n",
      "R[write to console]: Content type 'application/x-gzip'\n",
      "R[write to console]:  length 150340 bytes (146 KB)\n",
      "\n",
      "R[write to console]: =\n",
      "R[write to console]: =\n",
      "R[write to console]: =\n",
      "R[write to console]: =\n",
      "R[write to console]: =\n",
      "R[write to console]: =\n",
      "R[write to console]: =\n",
      "R[write to console]: =\n",
      "R[write to console]: =\n",
      "R[write to console]: =\n",
      "R[write to console]: =\n",
      "R[write to console]: =\n",
      "R[write to console]: =\n",
      "R[write to console]: =\n",
      "R[write to console]: =\n",
      "R[write to console]: =\n",
      "R[write to console]: =\n",
      "R[write to console]: =\n",
      "R[write to console]: =\n",
      "R[write to console]: =\n",
      "R[write to console]: =\n",
      "R[write to console]: =\n",
      "R[write to console]: =\n",
      "R[write to console]: =\n",
      "R[write to console]: =\n",
      "R[write to console]: =\n",
      "R[write to console]: =\n",
      "R[write to console]: =\n",
      "R[write to console]: =\n",
      "R[write to console]: =\n",
      "R[write to console]: =\n",
      "R[write to console]: =\n",
      "R[write to console]: =\n",
      "R[write to console]: =\n",
      "R[write to console]: =\n",
      "R[write to console]: =\n",
      "R[write to console]: =\n",
      "R[write to console]: =\n",
      "R[write to console]: =\n",
      "R[write to console]: =\n",
      "R[write to console]: =\n",
      "R[write to console]: =\n",
      "R[write to console]: =\n",
      "R[write to console]: =\n",
      "R[write to console]: =\n",
      "R[write to console]: =\n",
      "R[write to console]: =\n",
      "R[write to console]: =\n",
      "R[write to console]: =\n",
      "R[write to console]: =\n",
      "R[write to console]: \n",
      "\n",
      "R[write to console]: downloaded 146 KB\n",
      "\n",
      "\n",
      "* installing *source* package ‘FindIt’ ...\n",
      "** package ‘FindIt’ successfully unpacked and MD5 sums checked\n",
      "** using staged installation\n",
      "** R\n",
      "** data\n",
      "*** moving datasets to lazyload DB\n",
      "** byte-compile and prepare package for lazy loading\n",
      "** help\n",
      "*** installing help indices\n",
      "** building package indices\n",
      "** testing if installed package can be loaded from temporary location\n",
      "** testing if installed package can be loaded from final location\n",
      "** testing if installed package keeps a record of temporary installation path\n",
      "* DONE (FindIt)\n",
      "R[write to console]: \n",
      "\n",
      "R[write to console]: \n",
      "R[write to console]: The downloaded source packages are in\n",
      "\t‘/private/var/folders/pg/dtpn_hn11nd280g5vwz2x3_r0000gn/T/Rtmp6mKMKd/downloaded_packages’\n",
      "R[write to console]: \n",
      "R[write to console]: \n",
      "\n",
      "R[write to console]: Updating HTML index of packages in '.Library'\n",
      "\n",
      "R[write to console]: Making 'packages.html' ...\n",
      "R[write to console]:  done\n",
      "\n"
     ]
    },
    {
     "data": {
      "text/plain": [
       "<rpy2.rinterface_lib.sexp.NULLType object at 0x127e266d0> [0]"
      ]
     },
     "execution_count": 55,
     "metadata": {},
     "output_type": "execute_result"
    }
   ],
   "source": [
    "base = importr('base')\n",
    "utils = importr('utils')\n",
    "robjects.r('install.packages(\"FindIt\", repos=\"https://CRAN.R-project.org/\")')"
   ]
  },
  {
   "cell_type": "code",
   "execution_count": 56,
   "metadata": {},
   "outputs": [],
   "source": [
    "findit = importr('FindIt')\n",
    "robjects.r('data(\"Carlson\", package = \"FindIt\")')\n",
    "carlson_rdf = robjects.r['Carlson']\n",
    "carlson_df = pandas2ri.rpy2py(carlson_rdf)"
   ]
  },
  {
   "cell_type": "code",
   "execution_count": 57,
   "metadata": {},
   "outputs": [
    {
     "data": {
      "text/html": [
       "<div>\n",
       "<style scoped>\n",
       "    .dataframe tbody tr th:only-of-type {\n",
       "        vertical-align: middle;\n",
       "    }\n",
       "\n",
       "    .dataframe tbody tr th {\n",
       "        vertical-align: top;\n",
       "    }\n",
       "\n",
       "    .dataframe thead th {\n",
       "        text-align: right;\n",
       "    }\n",
       "</style>\n",
       "<table border=\"1\" class=\"dataframe\">\n",
       "  <thead>\n",
       "    <tr style=\"text-align: right;\">\n",
       "      <th></th>\n",
       "      <th>won</th>\n",
       "      <th>newRecordF</th>\n",
       "      <th>promise</th>\n",
       "      <th>coeth_voting</th>\n",
       "      <th>relevantdegree</th>\n",
       "      <th>respcodeS</th>\n",
       "      <th>contestresp</th>\n",
       "    </tr>\n",
       "  </thead>\n",
       "  <tbody>\n",
       "    <tr>\n",
       "      <th>1</th>\n",
       "      <td>1</td>\n",
       "      <td>6</td>\n",
       "      <td>1</td>\n",
       "      <td>2</td>\n",
       "      <td>1</td>\n",
       "      <td>1</td>\n",
       "      <td>1.014310e+09</td>\n",
       "    </tr>\n",
       "    <tr>\n",
       "      <th>2</th>\n",
       "      <td>0</td>\n",
       "      <td>7</td>\n",
       "      <td>3</td>\n",
       "      <td>1</td>\n",
       "      <td>2</td>\n",
       "      <td>1</td>\n",
       "      <td>1.014310e+09</td>\n",
       "    </tr>\n",
       "    <tr>\n",
       "      <th>3</th>\n",
       "      <td>1</td>\n",
       "      <td>7</td>\n",
       "      <td>3</td>\n",
       "      <td>1</td>\n",
       "      <td>2</td>\n",
       "      <td>1</td>\n",
       "      <td>1.014210e+09</td>\n",
       "    </tr>\n",
       "    <tr>\n",
       "      <th>4</th>\n",
       "      <td>0</td>\n",
       "      <td>3</td>\n",
       "      <td>2</td>\n",
       "      <td>1</td>\n",
       "      <td>2</td>\n",
       "      <td>1</td>\n",
       "      <td>1.014210e+09</td>\n",
       "    </tr>\n",
       "    <tr>\n",
       "      <th>5</th>\n",
       "      <td>0</td>\n",
       "      <td>7</td>\n",
       "      <td>1</td>\n",
       "      <td>1</td>\n",
       "      <td>1</td>\n",
       "      <td>1</td>\n",
       "      <td>1.014110e+09</td>\n",
       "    </tr>\n",
       "    <tr>\n",
       "      <th>6</th>\n",
       "      <td>1</td>\n",
       "      <td>1</td>\n",
       "      <td>3</td>\n",
       "      <td>1</td>\n",
       "      <td>2</td>\n",
       "      <td>1</td>\n",
       "      <td>1.014110e+09</td>\n",
       "    </tr>\n",
       "    <tr>\n",
       "      <th>7</th>\n",
       "      <td>0</td>\n",
       "      <td>6</td>\n",
       "      <td>3</td>\n",
       "      <td>1</td>\n",
       "      <td>1</td>\n",
       "      <td>2</td>\n",
       "      <td>1.011310e+09</td>\n",
       "    </tr>\n",
       "    <tr>\n",
       "      <th>8</th>\n",
       "      <td>1</td>\n",
       "      <td>1</td>\n",
       "      <td>3</td>\n",
       "      <td>2</td>\n",
       "      <td>1</td>\n",
       "      <td>2</td>\n",
       "      <td>1.011310e+09</td>\n",
       "    </tr>\n",
       "    <tr>\n",
       "      <th>9</th>\n",
       "      <td>0</td>\n",
       "      <td>3</td>\n",
       "      <td>3</td>\n",
       "      <td>2</td>\n",
       "      <td>2</td>\n",
       "      <td>2</td>\n",
       "      <td>1.011210e+09</td>\n",
       "    </tr>\n",
       "    <tr>\n",
       "      <th>10</th>\n",
       "      <td>1</td>\n",
       "      <td>5</td>\n",
       "      <td>2</td>\n",
       "      <td>1</td>\n",
       "      <td>2</td>\n",
       "      <td>2</td>\n",
       "      <td>1.011210e+09</td>\n",
       "    </tr>\n",
       "  </tbody>\n",
       "</table>\n",
       "</div>"
      ],
      "text/plain": [
       "    won  newRecordF  promise  coeth_voting  relevantdegree  respcodeS  \\\n",
       "1     1           6        1             2               1          1   \n",
       "2     0           7        3             1               2          1   \n",
       "3     1           7        3             1               2          1   \n",
       "4     0           3        2             1               2          1   \n",
       "5     0           7        1             1               1          1   \n",
       "6     1           1        3             1               2          1   \n",
       "7     0           6        3             1               1          2   \n",
       "8     1           1        3             2               1          2   \n",
       "9     0           3        3             2               2          2   \n",
       "10    1           5        2             1               2          2   \n",
       "\n",
       "     contestresp  \n",
       "1   1.014310e+09  \n",
       "2   1.014310e+09  \n",
       "3   1.014210e+09  \n",
       "4   1.014210e+09  \n",
       "5   1.014110e+09  \n",
       "6   1.014110e+09  \n",
       "7   1.011310e+09  \n",
       "8   1.011310e+09  \n",
       "9   1.011210e+09  \n",
       "10  1.011210e+09  "
      ]
     },
     "execution_count": 57,
     "metadata": {},
     "output_type": "execute_result"
    }
   ],
   "source": [
    "carlson_df.head(10)"
   ]
  },
  {
   "cell_type": "code",
   "execution_count": 58,
   "metadata": {},
   "outputs": [],
   "source": [
    "# Convert Record, Coethnicity and Degree to binary\n",
    "carlson = carlson_df.iloc[:, :5].to_numpy(dtype=int)\n",
    "carlson[:, 1] = np.where(carlson[:, 1] < 4, 1, 0)\n",
    "carlson[:, 3:] = np.where(carlson[:, 3:] == 2, 0, 1)"
   ]
  },
  {
   "cell_type": "code",
   "execution_count": 59,
   "metadata": {},
   "outputs": [],
   "source": [
    "# Convert promises to one-hot representations\n",
    "one_hot_promises = np.zeros((carlson.shape[0], 3))\n",
    "one_hot_promises[np.arange(carlson.shape[0]), carlson[:, 2] - 1] = 1\n",
    "carlson = np.delete(carlson, 2, axis=1)\n",
    "carlson = np.insert(carlson, 2, one_hot_promises.T, axis=1)"
   ]
  },
  {
   "cell_type": "code",
   "execution_count": 60,
   "metadata": {},
   "outputs": [
    {
     "data": {
      "text/plain": [
       "array([[1, 0, 1, 0, 0, 0, 1],\n",
       "       [0, 0, 0, 0, 1, 1, 0],\n",
       "       [1, 0, 0, 0, 1, 1, 0],\n",
       "       [0, 1, 0, 1, 0, 1, 0],\n",
       "       [0, 0, 1, 0, 0, 1, 1],\n",
       "       [1, 1, 0, 0, 1, 1, 0],\n",
       "       [0, 0, 0, 0, 1, 1, 1],\n",
       "       [1, 1, 0, 0, 1, 0, 1],\n",
       "       [0, 1, 0, 0, 1, 0, 0],\n",
       "       [1, 0, 0, 1, 0, 1, 0]])"
      ]
     },
     "execution_count": 60,
     "metadata": {},
     "output_type": "execute_result"
    }
   ],
   "source": [
    "carlson[:10]"
   ]
  },
  {
   "cell_type": "markdown",
   "metadata": {},
   "source": [
    "### 5-bit DAC process (Liu and Huang, NIST)"
   ]
  },
  {
   "cell_type": "code",
   "execution_count": 61,
   "metadata": {},
   "outputs": [],
   "source": [
    "# Load data and take treatment and response variables only\n",
    "dac = np.loadtxt(\"data/LIU.DAT\", skiprows=25)\n",
    "dac = dac[:, :6]"
   ]
  },
  {
   "cell_type": "code",
   "execution_count": 62,
   "metadata": {},
   "outputs": [
    {
     "data": {
      "text/plain": [
       "(2816, 6)"
      ]
     },
     "execution_count": 62,
     "metadata": {},
     "output_type": "execute_result"
    }
   ],
   "source": [
    "dac.shape"
   ]
  },
  {
   "cell_type": "code",
   "execution_count": 63,
   "metadata": {},
   "outputs": [],
   "source": [
    "fm = FactorialModel(\n",
    "    n=dac.shape[0],\n",
    "    k=dac.shape[1] - 1,\n",
    "    degree=dac.shape[1] - 1,\n",
    "    contrast_coding=True,\n",
    "    beta_seed=0,\n",
    ")"
   ]
  },
  {
   "cell_type": "code",
   "execution_count": 64,
   "metadata": {},
   "outputs": [],
   "source": [
    "# Method to evaluate Lasso model\n",
    "def evaluate_lasso():\n",
    "    fm.convert_and_split_data(dac[:, 1:], dac[:, 0], is_dummy_coded=True, seed=None)\n",
    "    fm.fit_lasso()\n",
    "    fm.predict()\n",
    "    fm.compute_mse()\n",
    "    fm.compute_r2()"
   ]
  },
  {
   "cell_type": "code",
   "execution_count": 65,
   "metadata": {},
   "outputs": [],
   "source": [
    "# Method to evaluate forward selection\n",
    "def evaluate_forward_selection(T_test, y_test):\n",
    "    fs.forward_selection()\n",
    "    fs.predict(T_test)\n",
    "    fs.compute_mse(y_test)\n",
    "    fs.compute_r2()"
   ]
  },
  {
   "cell_type": "code",
   "execution_count": 66,
   "metadata": {},
   "outputs": [],
   "source": [
    "# Evaluate two models for NUM_TRIALS\n",
    "NUM_TRIALS = 30\n",
    "lasso_mses = []\n",
    "fs_mses = []\n",
    "lasso_r2s = []\n",
    "fs_r2s = []\n",
    "lasso_betas = []\n",
    "fs_betas = []\n",
    "lasso_expected_outcomes = []\n",
    "fs_expected_outcomes = []\n",
    "\n",
    "for i in range(NUM_TRIALS):\n",
    "    evaluate_lasso()\n",
    "    lasso_mses.append(fm.mse)\n",
    "    lasso_r2s.append(fm.r2)\n",
    "    lasso_betas.append(fm.beta_hat)\n",
    "    lasso_expected_outcomes.append(fm.expected_outcomes)\n",
    "\n",
    "    fs = ForwardSelection(fm.T_train, fm.y_train, fm.k, strong_heredity=False)\n",
    "    evaluate_forward_selection(fm.T_test, fm.y_test)\n",
    "    fs_mses.append(fs.mse)\n",
    "    fs_r2s.append(fs.r2)\n",
    "    fs_betas.append(fs.results.params)\n",
    "    beta_mask = fm.pf.fit_transform(fm.pf.powers_)\n",
    "    fs_expected_outcome = beta_mask @ fs.results.params\n",
    "    fs_expected_outcomes.append(fs_expected_outcome)"
   ]
  },
  {
   "cell_type": "code",
   "execution_count": 67,
   "metadata": {},
   "outputs": [
    {
     "name": "stdout",
     "output_type": "stream",
     "text": [
      "Lasso MSE: 0.1836976843879816 +/- 0.008742647707358926\n",
      "Forward Selection MSE: 5.503493046971891e+22 +/- 2.8382748814687058e+23\n"
     ]
    }
   ],
   "source": [
    "# MSE comparison\n",
    "avg_lasso_mse = np.mean(np.array(lasso_mses))\n",
    "avg_fs_mses = np.mean(np.array(fs_mses))\n",
    "std_lasso_mse = np.std(np.array(lasso_mses))\n",
    "std_fs_mses = np.std(np.array(fs_mses))\n",
    "print(f\"Lasso MSE: {avg_lasso_mse} +/- {std_lasso_mse}\")\n",
    "print(f\"Forward Selection MSE: {avg_fs_mses} +/- {std_fs_mses}\")"
   ]
  },
  {
   "cell_type": "code",
   "execution_count": 68,
   "metadata": {},
   "outputs": [
    {
     "name": "stdout",
     "output_type": "stream",
     "text": [
      "Lasso R2: 0.000554329605366699 +/- 0.005306503178718969\n",
      "Forward Selection R2: 0.005694816182169216 +/- 0.003228859185179845\n"
     ]
    }
   ],
   "source": [
    "# R2 comparison\n",
    "avg_lasso_r2 = np.mean(np.array(lasso_r2s))\n",
    "avg_fs_r2 = np.mean(np.array(fs_r2s))\n",
    "std_lasso_r2 = np.std(np.array(lasso_r2s))\n",
    "std_fs_r2 = np.std(np.array(fs_r2s))\n",
    "print(f\"Lasso R2: {avg_lasso_r2} +/- {std_lasso_r2}\")\n",
    "print(f\"Forward Selection R2: {avg_fs_r2} +/- {std_fs_r2}\")"
   ]
  },
  {
   "cell_type": "code",
   "execution_count": null,
   "metadata": {},
   "outputs": [],
   "source": []
  },
  {
   "cell_type": "markdown",
   "metadata": {},
   "source": [
    "### Hainmueller and Hopkins (2014)"
   ]
  },
  {
   "cell_type": "code",
   "execution_count": null,
   "metadata": {},
   "outputs": [],
   "source": []
  }
 ],
 "metadata": {
  "kernelspec": {
   "display_name": "causal",
   "language": "python",
   "name": "python3"
  },
  "language_info": {
   "codemirror_mode": {
    "name": "ipython",
    "version": 3
   },
   "file_extension": ".py",
   "mimetype": "text/x-python",
   "name": "python",
   "nbconvert_exporter": "python",
   "pygments_lexer": "ipython3",
   "version": "3.12.2"
  }
 },
 "nbformat": 4,
 "nbformat_minor": 2
}
