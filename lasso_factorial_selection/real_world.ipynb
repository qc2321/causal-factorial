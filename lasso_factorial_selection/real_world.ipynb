{
 "cells": [
  {
   "cell_type": "markdown",
   "metadata": {},
   "source": [
    "## Experiments with real world data"
   ]
  },
  {
   "cell_type": "code",
   "execution_count": 1,
   "metadata": {},
   "outputs": [],
   "source": [
    "%load_ext autoreload\n",
    "%autoreload 2"
   ]
  },
  {
   "cell_type": "code",
   "execution_count": 2,
   "metadata": {},
   "outputs": [],
   "source": [
    "import numpy as np\n",
    "import pandas as pd\n",
    "import matplotlib.pyplot as plt\n",
    "import rpy2.robjects as robjects\n",
    "from rpy2.robjects import pandas2ri\n",
    "from rpy2.robjects.packages import importr\n",
    "from sklearn.linear_model import LassoCV\n",
    "from factorial_model import FactorialModel\n",
    "from forward_selection import ForwardSelection\n",
    "from evaluate import *\n",
    "\n",
    "from scipy.special import comb"
   ]
  },
  {
   "cell_type": "markdown",
   "metadata": {},
   "source": [
    "### Charitable Giving"
   ]
  },
  {
   "cell_type": "code",
   "execution_count": 3,
   "metadata": {},
   "outputs": [],
   "source": [
    "# Load the data into a pandas dataframe\n",
    "df = pd.read_stata('data/AER merged.dta')"
   ]
  },
  {
   "cell_type": "code",
   "execution_count": 4,
   "metadata": {},
   "outputs": [],
   "source": [
    "# Convert df into numpy array\n",
    "X = df[['ratio', 'ratio2', 'ratio3', 'size25', 'size50', 'size100', 'sizeno', 'askd1', 'askd2', 'askd3', 'amount']].values\n",
    "X[:, 0] = (X[:, 0] == 1).astype(int)"
   ]
  },
  {
   "cell_type": "code",
   "execution_count": 5,
   "metadata": {},
   "outputs": [],
   "source": [
    "# Initialize factorial model\n",
    "MAX_DEGREE = 3\n",
    "fm = FactorialModel(\n",
    "    n=X.shape[0],\n",
    "    k=X.shape[1] - 1,\n",
    "    degree=MAX_DEGREE,\n",
    "    contrast_coding=True,\n",
    "    beta_seed=0,\n",
    ")"
   ]
  },
  {
   "cell_type": "code",
   "execution_count": 6,
   "metadata": {},
   "outputs": [],
   "source": [
    "fm.convert_and_split_data(X[:, :-1].astype(int), X[:, -1].astype(float), is_dummy_coded=True, seed=None)\n",
    "evaluate_lasso(fm)"
   ]
  },
  {
   "cell_type": "code",
   "execution_count": 7,
   "metadata": {},
   "outputs": [],
   "source": [
    "fs = ForwardSelection(fm.T_train, fm.y_train, fm.k, MAX_DEGREE, strong_heredity=False)\n",
    "evaluate_forward_selection(fs, fm.T_test, fm.y_test)"
   ]
  },
  {
   "cell_type": "code",
   "execution_count": 8,
   "metadata": {},
   "outputs": [
    {
     "name": "stdout",
     "output_type": "stream",
     "text": [
      "Lasso MSE: 58.912250366960755\n",
      "Forward Selection MSE: 58.89970243384569\n"
     ]
    }
   ],
   "source": [
    "print(f\"Lasso MSE: {fm.mse}\")\n",
    "print(f\"Forward Selection MSE: {fs.mse}\")"
   ]
  },
  {
   "cell_type": "code",
   "execution_count": 9,
   "metadata": {},
   "outputs": [
    {
     "name": "stdout",
     "output_type": "stream",
     "text": [
      "Lasso R^2: 0.0003582878972400172\n",
      "Forward Selection R^2: 0.0\n"
     ]
    }
   ],
   "source": [
    "print(f\"Lasso R^2: {fm.r2}\")\n",
    "print(f\"Forward Selection R^2: {fs.r2}\")"
   ]
  },
  {
   "cell_type": "markdown",
   "metadata": {},
   "source": [
    "## Appendix"
   ]
  },
  {
   "cell_type": "markdown",
   "metadata": {},
   "source": [
    "### 5-bit DAC process (Liu and Huang, NIST)"
   ]
  },
  {
   "cell_type": "code",
   "execution_count": null,
   "metadata": {},
   "outputs": [],
   "source": [
    "# Load data and take treatment and response variables only\n",
    "dac = np.loadtxt(\"data/LIU.DAT\", skiprows=25)\n",
    "dac = dac[:, :6]"
   ]
  },
  {
   "cell_type": "code",
   "execution_count": null,
   "metadata": {},
   "outputs": [],
   "source": [
    "# Initialize factorial model\n",
    "fm = FactorialModel(\n",
    "    n=dac.shape[0],\n",
    "    k=dac.shape[1] - 1,\n",
    "    degree=dac.shape[1] - 1,\n",
    "    contrast_coding=True,\n",
    "    beta_seed=0,\n",
    ")"
   ]
  },
  {
   "cell_type": "code",
   "execution_count": null,
   "metadata": {},
   "outputs": [],
   "source": [
    "# Evaluate two models for NUM_TRIALS\n",
    "NUM_TRIALS = 100\n",
    "lasso_mses = []\n",
    "fs_mses = []\n",
    "lasso_r2s = []\n",
    "fs_r2s = []\n",
    "lasso_betas = []\n",
    "fs_betas = []\n",
    "lasso_expected_outcomes = []\n",
    "fs_expected_outcomes = []\n",
    "\n",
    "for i in range(NUM_TRIALS):\n",
    "    fm.convert_and_split_data(dac[:, 1:], dac[:, 0], is_dummy_coded=True, seed=None)\n",
    "    evaluate_lasso(fm)\n",
    "    lasso_mses.append(fm.mse)\n",
    "    lasso_r2s.append(fm.r2)\n",
    "    lasso_betas.append(fm.beta_hat)\n",
    "    lasso_expected_outcomes.append(fm.expected_outcomes)\n",
    "\n",
    "    fs = ForwardSelection(fm.T_train, fm.y_train, fm.k, fm.degree, strong_heredity=False)\n",
    "    evaluate_forward_selection(fs, fm.T_test, fm.y_test)\n",
    "    fs_mses.append(fs.mse)\n",
    "    fs_r2s.append(fs.r2)\n",
    "    fs_betas.append(fs.results.params)\n",
    "    beta_mask = fm.pf.fit_transform(fm.pf.powers_)\n",
    "    fs_expected_outcome = beta_mask @ fs.results.params\n",
    "    fs_expected_outcomes.append(fs_expected_outcome)\n",
    "\n",
    "avg_lasso_betas = np.mean(lasso_betas, axis=0)\n",
    "avg_fs_betas = np.mean(fs_betas, axis=0)\n",
    "avg_lasso_expected_outcomes = np.mean(lasso_expected_outcomes, axis=0)\n",
    "avg_fs_expected_outcomes = np.mean(fs_expected_outcomes, axis=0)"
   ]
  },
  {
   "cell_type": "code",
   "execution_count": null,
   "metadata": {},
   "outputs": [],
   "source": [
    "# Compute sparsity for theoretical lower bound on observations\n",
    "dac_sparsity = np.count_nonzero(avg_lasso_betas)"
   ]
  },
  {
   "cell_type": "code",
   "execution_count": null,
   "metadata": {},
   "outputs": [],
   "source": [
    "# MSE comparison\n",
    "avg_lasso_mse = np.mean(np.array(lasso_mses))\n",
    "avg_fs_mses = np.mean(np.array(fs_mses))\n",
    "std_lasso_mse = np.std(np.array(lasso_mses))\n",
    "std_fs_mses = np.std(np.array(fs_mses))\n",
    "print(f\"Lasso MSE: {avg_lasso_mse} +/- {std_lasso_mse}\")\n",
    "print(f\"Forward Selection MSE: {avg_fs_mses} +/- {std_fs_mses}\")"
   ]
  },
  {
   "cell_type": "code",
   "execution_count": null,
   "metadata": {},
   "outputs": [],
   "source": [
    "# R2 comparison\n",
    "avg_lasso_r2 = np.mean(np.array(lasso_r2s))\n",
    "avg_fs_r2 = np.mean(np.array(fs_r2s))\n",
    "std_lasso_r2 = np.std(np.array(lasso_r2s))\n",
    "std_fs_r2 = np.std(np.array(fs_r2s))\n",
    "print(f\"Lasso R2: {avg_lasso_r2} +/- {std_lasso_r2}\")\n",
    "print(f\"Forward Selection R2: {avg_fs_r2} +/- {std_fs_r2}\")"
   ]
  },
  {
   "cell_type": "code",
   "execution_count": null,
   "metadata": {},
   "outputs": [],
   "source": [
    "# Plot MSE boxplot\n",
    "plt.figure()\n",
    "plt.boxplot([lasso_mses, fs_mses], labels=[\"Lasso\", \"Forward Selection\"])\n",
    "plt.ylabel(\"MSE\")\n",
    "plt.title(\"MSE Comparison\")\n",
    "plt.show()"
   ]
  },
  {
   "cell_type": "code",
   "execution_count": null,
   "metadata": {},
   "outputs": [],
   "source": [
    "# Plot R2 boxplot\n",
    "plt.figure()\n",
    "plt.boxplot([lasso_r2s, fs_r2s])\n",
    "plt.xticks([1, 2], [\"Lasso\", \"Forward Selection\"])\n",
    "plt.title(\"R2 Comparison\")\n",
    "plt.show()"
   ]
  },
  {
   "cell_type": "code",
   "execution_count": null,
   "metadata": {},
   "outputs": [],
   "source": [
    "# Plot average betas for Lasso and Forward Selection\n",
    "plt.figure()\n",
    "bar_width = 0.35\n",
    "index = np.arange(len(avg_lasso_betas))\n",
    "plt.bar(index, avg_lasso_betas, bar_width, label=\"Lasso\")\n",
    "plt.bar(index + bar_width, avg_fs_betas, bar_width, label=\"Forward Selection\")\n",
    "plt.xlabel(\"Beta Index\")\n",
    "plt.ylabel(\"Beta Value\")\n",
    "plt.title(\"Average Beta Comparison\")\n",
    "plt.legend()\n",
    "plt.show()"
   ]
  },
  {
   "cell_type": "code",
   "execution_count": null,
   "metadata": {},
   "outputs": [],
   "source": [
    "# Plot average expected outcomes for Lasso and Forward Selection\n",
    "plt.figure()\n",
    "bar_width = 0.35\n",
    "index = np.arange(len(avg_lasso_expected_outcomes))\n",
    "plt.bar(index, avg_lasso_expected_outcomes, bar_width, label=\"Lasso\")\n",
    "plt.bar(index + bar_width, avg_fs_expected_outcomes, bar_width, label=\"Forward Selection\")\n",
    "plt.xlabel(\"Sample Index\")\n",
    "plt.ylabel(\"Expected Outcome\")\n",
    "plt.title(\"Average Expected Outcome Comparison\")\n",
    "plt.legend()\n",
    "plt.show()"
   ]
  },
  {
   "cell_type": "markdown",
   "metadata": {},
   "source": [
    "### Carlson (2015)"
   ]
  },
  {
   "cell_type": "code",
   "execution_count": null,
   "metadata": {},
   "outputs": [],
   "source": [
    "base = importr('base')\n",
    "utils = importr('utils')\n",
    "robjects.r('install.packages(\"FindIt\", repos=\"https://CRAN.R-project.org/\")')"
   ]
  },
  {
   "cell_type": "code",
   "execution_count": null,
   "metadata": {},
   "outputs": [],
   "source": [
    "findit = importr('FindIt')\n",
    "robjects.r('data(\"Carlson\", package = \"FindIt\")')\n",
    "carlson_rdf = robjects.r['Carlson']\n",
    "carlson_df = pandas2ri.rpy2py(carlson_rdf)\n",
    "carlson_df.head()"
   ]
  },
  {
   "cell_type": "code",
   "execution_count": null,
   "metadata": {},
   "outputs": [],
   "source": [
    "# Convert Record, Coethnicity and Degree to binary\n",
    "carlson = carlson_df.iloc[:, :5].to_numpy(dtype=int)\n",
    "carlson[:, 1] = np.where(carlson[:, 1] < 4, 1, 0)\n",
    "carlson[:, 3:] = np.where(carlson[:, 3:] == 2, 0, 1)"
   ]
  },
  {
   "cell_type": "code",
   "execution_count": null,
   "metadata": {},
   "outputs": [],
   "source": [
    "# Convert 3 promises to 2 dummy coded categories\n",
    "promises = np.zeros((carlson.shape[0], 3))\n",
    "promises[np.arange(carlson.shape[0]), carlson[:, 2] - 1] = 1\n",
    "carlson = np.delete(carlson, 2, axis=1)\n",
    "carlson = np.insert(carlson, 2, promises[:,:2].T, axis=1)\n",
    "carlson[:5]"
   ]
  },
  {
   "cell_type": "code",
   "execution_count": null,
   "metadata": {},
   "outputs": [],
   "source": [
    "# Initialize factorial model\n",
    "fm = FactorialModel(\n",
    "    n=carlson.shape[0],\n",
    "    k=carlson.shape[1] - 1,\n",
    "    degree=carlson.shape[1] - 1,\n",
    "    contrast_coding=True,\n",
    "    beta_seed=0,\n",
    ")"
   ]
  },
  {
   "cell_type": "code",
   "execution_count": null,
   "metadata": {},
   "outputs": [],
   "source": [
    "# Evaluate two models for NUM_TRIALS\n",
    "NUM_TRIALS = 30\n",
    "lasso_mses = []\n",
    "fs_mses = []\n",
    "lasso_betas = []\n",
    "fs_betas = []\n",
    "lasso_expected_outcomes = []\n",
    "fs_expected_outcomes = []\n",
    "\n",
    "for i in range(NUM_TRIALS):\n",
    "    fm.convert_and_split_data(carlson[:, 1:], carlson[:, 0], is_dummy_coded=True, seed=None)\n",
    "    evaluate_lasso(fm, logistic=True)\n",
    "    lasso_mses.append(fm.mse)\n",
    "    lasso_betas.append(fm.beta_hat)\n",
    "    lasso_expected_outcomes.append(fm.expected_outcomes)\n",
    "\n",
    "    fs = ForwardSelection(fm.T_train, fm.y_train, fm.k, fm.degree, strong_heredity=False)\n",
    "    evaluate_forward_selection(fs, fm.T_test, fm.y_test, logistic=True)\n",
    "    fs_mses.append(fs.mse)\n",
    "    fs_betas.append(fs.results.params)\n",
    "    beta_mask = fm.pf.fit_transform(fm.pf.powers_)\n",
    "    fs_expected_outcome = beta_mask @ fs.results.params\n",
    "    fs_expected_outcomes.append(fs_expected_outcome)\n",
    "\n",
    "avg_lasso_betas = np.mean(lasso_betas, axis=0)\n",
    "avg_fs_betas = np.mean(fs_betas, axis=0)\n",
    "avg_lasso_expected_outcomes = np.mean(lasso_expected_outcomes, axis=0)\n",
    "avg_fs_expected_outcomes = np.mean(fs_expected_outcomes, axis=0)"
   ]
  },
  {
   "cell_type": "code",
   "execution_count": null,
   "metadata": {},
   "outputs": [],
   "source": [
    "# Compute sparsity for theoretical lower bound on observations\n",
    "carlson_sparsity = np.count_nonzero(avg_lasso_betas)"
   ]
  },
  {
   "cell_type": "code",
   "execution_count": null,
   "metadata": {},
   "outputs": [],
   "source": [
    "# MSE comparison\n",
    "avg_lasso_mse = np.mean(np.array(lasso_mses))\n",
    "avg_fs_mses = np.mean(np.array(fs_mses))\n",
    "std_lasso_mse = np.std(np.array(lasso_mses))\n",
    "std_fs_mses = np.std(np.array(fs_mses))\n",
    "print(f\"Lasso MSE: {avg_lasso_mse} +/- {std_lasso_mse}\")\n",
    "print(f\"Forward Selection MSE: {avg_fs_mses} +/- {std_fs_mses}\")"
   ]
  },
  {
   "cell_type": "code",
   "execution_count": null,
   "metadata": {},
   "outputs": [],
   "source": [
    "# Plot MSE boxplot\n",
    "plt.figure()\n",
    "plt.boxplot([lasso_mses, fs_mses])\n",
    "plt.xticks([1, 2], [\"Lasso\", \"Forward Selection\"])\n",
    "plt.ylabel(\"MSE\")\n",
    "plt.show()"
   ]
  },
  {
   "cell_type": "markdown",
   "metadata": {},
   "source": [
    "### Lower bound on number of observations"
   ]
  },
  {
   "cell_type": "markdown",
   "metadata": {},
   "source": [
    "### DAC"
   ]
  },
  {
   "cell_type": "code",
   "execution_count": null,
   "metadata": {},
   "outputs": [],
   "source": [
    "num_treatments = dac.shape[1] - 1\n",
    "num_coeffs = 2 ** num_treatments\n",
    "general_bound = dac_sparsity * np.log(num_coeffs)"
   ]
  },
  {
   "cell_type": "code",
   "execution_count": null,
   "metadata": {},
   "outputs": [],
   "source": [
    "num_obs = np.arange(20, dac.shape[0], 20)\n",
    "mse_over_num_obs = []\n",
    "\n",
    "for n in num_obs:\n",
    "    fm = FactorialModel(\n",
    "        n=n,\n",
    "        k=num_treatments,\n",
    "        degree=num_treatments,\n",
    "        contrast_coding=True,\n",
    "        beta_seed=0,\n",
    "    )\n",
    "\n",
    "    fm.convert_and_split_data(dac[:n, 1:], dac[:n, 0], is_dummy_coded=True, seed=None)\n",
    "    fm.fit_lasso()\n",
    "    fm.predict()\n",
    "    fm.compute_mse()\n",
    "    mse_over_num_obs.append(fm.mse)"
   ]
  },
  {
   "cell_type": "code",
   "execution_count": null,
   "metadata": {},
   "outputs": [],
   "source": [
    "# Plot MSE over number of observations\n",
    "plt.figure()\n",
    "plt.plot(num_obs, mse_over_num_obs, label=\"MSE\")\n",
    "plt.axvline(general_bound, color=\"green\", linestyle=\"--\", label=\"General bound\")\n",
    "plt.xlabel(\"Number of Observations\")\n",
    "plt.ylabel(\"MSE\")\n",
    "plt.title(\"DAC: MSE Over Number of Observations\")\n",
    "plt.legend()\n",
    "plt.show()"
   ]
  },
  {
   "cell_type": "markdown",
   "metadata": {},
   "source": [
    "### Carlson"
   ]
  },
  {
   "cell_type": "code",
   "execution_count": null,
   "metadata": {},
   "outputs": [],
   "source": [
    "num_treatments = carlson.shape[1] - 1\n",
    "num_coeffs = 2 ** num_treatments\n",
    "general_bound = carlson_sparsity * np.log(num_coeffs)"
   ]
  },
  {
   "cell_type": "code",
   "execution_count": null,
   "metadata": {},
   "outputs": [],
   "source": [
    "num_obs = np.arange(20, carlson.shape[0], 20)\n",
    "mse_over_num_obs = []\n",
    "\n",
    "for n in num_obs:\n",
    "    fm = FactorialModel(\n",
    "        n=n,\n",
    "        k=num_treatments,\n",
    "        degree=num_treatments,\n",
    "        contrast_coding=True,\n",
    "        beta_seed=0,\n",
    "    )\n",
    "\n",
    "    fm.convert_and_split_data(carlson[:n, 1:], carlson[:n, 0], is_dummy_coded=True, seed=None)\n",
    "    fm.fit_lasso(logistic=True)\n",
    "    fm.predict()\n",
    "    fm.compute_mse()\n",
    "    mse_over_num_obs.append(fm.mse)"
   ]
  },
  {
   "cell_type": "code",
   "execution_count": null,
   "metadata": {},
   "outputs": [],
   "source": [
    "# Plot MSE over number of observations\n",
    "plt.figure()\n",
    "plt.plot(num_obs, mse_over_num_obs, label=\"MSE\")\n",
    "plt.axvline(general_bound, color=\"green\", linestyle=\"--\", label=\"General bound\")\n",
    "plt.xlabel(\"Number of Observations\")\n",
    "plt.ylabel(\"MSE\")\n",
    "plt.title(\"Carlson: MSE Over Number of Observations\")\n",
    "plt.legend()\n",
    "plt.show()"
   ]
  },
  {
   "cell_type": "code",
   "execution_count": null,
   "metadata": {},
   "outputs": [],
   "source": []
  }
 ],
 "metadata": {
  "kernelspec": {
   "display_name": "causal",
   "language": "python",
   "name": "python3"
  },
  "language_info": {
   "codemirror_mode": {
    "name": "ipython",
    "version": 3
   },
   "file_extension": ".py",
   "mimetype": "text/x-python",
   "name": "python",
   "nbconvert_exporter": "python",
   "pygments_lexer": "ipython3",
   "version": "3.12.2"
  }
 },
 "nbformat": 4,
 "nbformat_minor": 2
}
